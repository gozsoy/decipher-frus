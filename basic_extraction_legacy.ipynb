{
 "cells": [
  {
   "cell_type": "code",
   "execution_count": 1,
   "metadata": {},
   "outputs": [],
   "source": [
    "import re\n",
    "from datetime import datetime\n",
    "import xml.etree.ElementTree as ET"
   ]
  },
  {
   "cell_type": "code",
   "execution_count": 3,
   "metadata": {},
   "outputs": [],
   "source": [
    "tree = ET.parse('volumes/frus1969-76v30.xml')\n",
    "root = tree.getroot()"
   ]
  },
  {
   "cell_type": "code",
   "execution_count": null,
   "metadata": {},
   "outputs": [],
   "source": [
    "# remove namespace\n",
    "# year: frus:doc-dateTime-max\n",
    "# sent from: <placeName>New York</placeName>\n",
    "# volume from file name\n",
    "# from: <gloss type=\"from\"> or <persName type=\"from\">\n",
    "# to: <gloss type=\"to\"> or <persName type=\"to\">\n",
    "# source: <... type=\"source\" ..>\n",
    "\n",
    "# ignore all <note/>"
   ]
  },
  {
   "cell_type": "code",
   "execution_count": null,
   "metadata": {},
   "outputs": [],
   "source": [
    "person_item_list = root.findall(\"text/front/div/[@{http://www.w3.org/XML/1998/namespace}id='persons']\")[0].findall('.//item')\n",
    "person_dict = {}\n",
    "\n",
    "def extract_person(person_item):\n",
    "    persName_item = person_item.find('.//persName')\n",
    "    person_name = persName_item.text\n",
    "    person_id = persName_item.attrib['{http://www.w3.org/XML/1998/namespace}id']\n",
    "\n",
    "    all_text = \"\".join(person_item.itertext())\n",
    "    end_idx = all_text.find(person_name) + len(person_name+',')\n",
    "    person_descp = \" \".join(all_text[end_idx:].split())\n",
    "\n",
    "    person_name = \" \".join(re.sub(',','',\" \".join(person_name.split(', ')[::-1])).split())\n",
    "\n",
    "    person_dict[person_id] = {'name':person_name, 'descp':person_descp}\n",
    "    return\n",
    "\n",
    "for item in root.findall(\"text/front/div/[@{http://www.w3.org/XML/1998/namespace}id='persons']\")[0].findall('.//item'):\n",
    "    extract_person(item)"
   ]
  },
  {
   "cell_type": "code",
   "execution_count": null,
   "metadata": {},
   "outputs": [],
   "source": [
    "person_dict"
   ]
  },
  {
   "cell_type": "markdown",
   "metadata": {},
   "source": [
    "## done above ^\n",
    "## construction below "
   ]
  },
  {
   "cell_type": "code",
   "execution_count": null,
   "metadata": {},
   "outputs": [],
   "source": [
    "# this function handles file's sender and receiver\n",
    "def process_from_to_types(from_list):\n",
    "\n",
    "    processed_list = []\n",
    "\n",
    "    for item in from_list:\n",
    "        \n",
    "        if item.tag == 'persName' and 'corresp' in item.attrib.keys():\n",
    "            person_id = item.attrib['corresp']\n",
    "            processed_list.append(person_id)\n",
    "        elif item.tag == 'persName':\n",
    "            processed_list.append(item.text)\n",
    "        elif item.tag == 'gloss':\n",
    "            processed_list.append(item.text)\n",
    "        else:\n",
    "            raise NotImplementedError('from type tag unidentified')\n",
    "    \n",
    "    return processed_list"
   ]
  },
  {
   "cell_type": "code",
   "execution_count": null,
   "metadata": {},
   "outputs": [],
   "source": [
    "subseries_id = root.find('teiHeader/fileDesc/titleStmt/title[@type=\"sub-series\"]').text\n",
    "volume_id = root.find('teiHeader/fileDesc/titleStmt/title[@type=\"volume-number\"]').text\n",
    "\n",
    "doc_dict = {}\n",
    "\n",
    "def process_document(doc_elem):\n",
    "\n",
    "    doc_id = doc_elem.attrib['{http://www.w3.org/XML/1998/namespace}id']\n",
    "    doc_date = doc_elem.attrib[\"{http://history.state.gov/frus/ns/1.0}doc-dateTime-max\"].split('T')[0]\n",
    "    doc_date = datetime.strptime(doc_date, '%Y-%m-%d')\n",
    "\n",
    "    doc_sent_place = doc_elem.find('.//placeName')\n",
    "    if doc_sent_place is not None:\n",
    "        doc_sent_place = doc_sent_place.text\n",
    "\n",
    "    from_list = doc_elem.findall('head//*[@type=\"from\"]')\n",
    "    to_list = doc_elem.findall('head//*[@type=\"to\"]')\n",
    "\n",
    "    doc_sent_from = process_from_to_types(from_list)\n",
    "    doc_sent_to = process_from_to_types(to_list)\n",
    "\n",
    "    doc_source = doc_elem.find('.//*[@type=\"source\"]')\n",
    "    if doc_source is not None:\n",
    "        doc_source = \" \".join(\"\".join(doc_source.itertext()).split())\n",
    "\n",
    "    doc_dict[\"-\".join([subseries_id,volume_id,doc_id])] = {'subseries':subseries_id, 'volume':volume_id, 'doc_id':doc_id,'date':doc_date, 'place':doc_sent_place, 'from':doc_sent_from, 'to':doc_sent_to, 'source':doc_source}\n",
    "\n",
    "    return\n",
    "\n",
    "for doc_elem in root.findall('text/body/div//div[@type=\"document\"]'):\n",
    "    process_document(doc_elem)"
   ]
  },
  {
   "cell_type": "code",
   "execution_count": null,
   "metadata": {},
   "outputs": [],
   "source": [
    "doc_dict"
   ]
  },
  {
   "cell_type": "code",
   "execution_count": null,
   "metadata": {},
   "outputs": [],
   "source": [
    "place = []\n",
    "\n",
    "for k,v in doc_dict.items():\n",
    "    place+=(v['to'])"
   ]
  },
  {
   "cell_type": "code",
   "execution_count": null,
   "metadata": {},
   "outputs": [],
   "source": [
    "from collections import Counter\n",
    "\n",
    "Counter(place)"
   ]
  }
 ],
 "metadata": {
  "kernelspec": {
   "display_name": "ml4hc_project2",
   "language": "python",
   "name": "python3"
  },
  "language_info": {
   "codemirror_mode": {
    "name": "ipython",
    "version": 3
   },
   "file_extension": ".py",
   "mimetype": "text/x-python",
   "name": "python",
   "nbconvert_exporter": "python",
   "pygments_lexer": "ipython3",
   "version": "3.9.0 | packaged by conda-forge | (default, Nov 26 2020, 07:54:06) \n[Clang 11.0.0 ]"
  },
  "orig_nbformat": 4,
  "vscode": {
   "interpreter": {
    "hash": "17915d4eccf26051373144ab496c4cfde1d85bab0b3b06c6ac905c8927260055"
   }
  }
 },
 "nbformat": 4,
 "nbformat_minor": 2
}
