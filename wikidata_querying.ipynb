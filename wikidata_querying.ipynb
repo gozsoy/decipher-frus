{
 "cells": [
  {
   "cell_type": "code",
   "execution_count": 12,
   "metadata": {},
   "outputs": [],
   "source": [
    "from qwikidata.sparql import return_sparql_query_results\n",
    "\n",
    "query = \"\"\"\n",
    "SELECT ?item WHERE {\n",
    "  SERVICE wikibase:mwapi {\n",
    "      bd:serviceParam wikibase:endpoint \"www.wikidata.org\";\n",
    "                      wikibase:api \"EntitySearch\";\n",
    "                      mwapi:search \"Kıbrıs Fatihi\";\n",
    "                      mwapi:language \"en\".\n",
    "      ?item wikibase:apiOutputItem mwapi:item.\n",
    "      ?num wikibase:apiOrdinal true.\n",
    "  }\n",
    "  ?item (wdt:P279|wdt:P31) ?type\n",
    "} ORDER BY ASC(?num) LIMIT 20\n",
    "\"\"\"\n",
    "res = return_sparql_query_results(query)\n",
    "\n"
   ]
  },
  {
   "cell_type": "code",
   "execution_count": 13,
   "metadata": {},
   "outputs": [
    {
     "data": {
      "text/plain": [
       "{'head': {'vars': ['item']},\n",
       " 'results': {'bindings': [{'item': {'type': 'uri',\n",
       "     'value': 'http://www.wikidata.org/entity/Q192634'}}]}}"
      ]
     },
     "execution_count": 13,
     "metadata": {},
     "output_type": "execute_result"
    }
   ],
   "source": [
    "res"
   ]
  }
 ],
 "metadata": {
  "kernelspec": {
   "display_name": "Python 3",
   "language": "python",
   "name": "python3"
  },
  "language_info": {
   "codemirror_mode": {
    "name": "ipython",
    "version": 3
   },
   "file_extension": ".py",
   "mimetype": "text/x-python",
   "name": "python",
   "nbconvert_exporter": "python",
   "pygments_lexer": "ipython3",
   "version": "3.8.8"
  },
  "orig_nbformat": 4,
  "vscode": {
   "interpreter": {
    "hash": "aee8b7b246df8f9039afb4144a1f6fd8d2ca17a180786b69acc140d282b71a49"
   }
  }
 },
 "nbformat": 4,
 "nbformat_minor": 2
}
