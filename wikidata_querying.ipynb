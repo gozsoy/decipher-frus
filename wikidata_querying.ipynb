{
 "cells": [
  {
   "cell_type": "code",
   "execution_count": 59,
   "metadata": {},
   "outputs": [],
   "source": [
    "import pandas as pd\n",
    "import dask.dataframe as dd\n",
    "from dask.diagnostics import ProgressBar\n",
    "from SPARQLWrapper import SPARQLWrapper, JSON\n",
    "\n",
    "from tqdm import tqdm\n",
    "tqdm.pandas()\n",
    "\n",
    "import ssl\n",
    "ssl._create_default_https_context = ssl._create_unverified_context"
   ]
  },
  {
   "cell_type": "code",
   "execution_count": 60,
   "metadata": {},
   "outputs": [],
   "source": [
    "user_agent = 'CoolBot/0.0 (https://example.org/coolbot/; coolbot@example.org)'\n",
    "\n",
    "sparqlwd = SPARQLWrapper(\"https://query.wikidata.org/sparql\", agent=user_agent)\n",
    "sparqlwd.setReturnFormat(JSON)"
   ]
  },
  {
   "attachments": {},
   "cell_type": "markdown",
   "metadata": {},
   "source": [
    "## person matching"
   ]
  },
  {
   "cell_type": "code",
   "execution_count": null,
   "metadata": {},
   "outputs": [],
   "source": [
    "def find_wiki_entity(name):\n",
    "\n",
    "    try:\n",
    "        query = \"\"\"\n",
    "        SELECT ?item WHERE {\n",
    "        SERVICE wikibase:mwapi {\n",
    "            bd:serviceParam wikibase:endpoint \"www.wikidata.org\";\n",
    "                            wikibase:api \"EntitySearch\";\n",
    "                            mwapi:search  \\'\"\"\"+name+\"\"\"\\';\n",
    "                            mwapi:language \"en\".\n",
    "            ?item wikibase:apiOutputItem mwapi:item.\n",
    "            ?num wikibase:apiOrdinal true.\n",
    "        }\n",
    "        ?item wdt:P31 wd:Q5\n",
    "        }\n",
    "        \"\"\"\n",
    "        \n",
    "        sparqlwd.setQuery(query)\n",
    "\n",
    "        return sparqlwd.query().convert()\n",
    "\n",
    "    except Exception as e:\n",
    "        print(f'name: {name}')\n",
    "        print(f'error message: {e}')\n",
    "        return {'head': {'vars': ['item']}, 'results': {'bindings': []}}\n",
    "\n",
    "\n",
    "def process_name_list(row):\n",
    "\n",
    "    name_list = row['name_list']\n",
    "\n",
    "    wiki_tag = set()\n",
    "\n",
    "    for name in name_list:\n",
    "        res = find_wiki_entity(name)\n",
    "\n",
    "        for binding in res['results']['bindings']:\n",
    "            wiki_tag.add(binding['item']['value'])\n",
    "\n",
    "    return list(wiki_tag)"
   ]
  },
  {
   "cell_type": "code",
   "execution_count": null,
   "metadata": {},
   "outputs": [],
   "source": [
    "new_unified_person_df = pd.read_parquet('tables/new_unified_person_df.parquet')"
   ]
  },
  {
   "cell_type": "code",
   "execution_count": null,
   "metadata": {},
   "outputs": [],
   "source": [
    "wiki_col = new_unified_person_df.progress_apply(lambda x: process_name_list(x),axis=1)"
   ]
  },
  {
   "cell_type": "code",
   "execution_count": null,
   "metadata": {},
   "outputs": [],
   "source": [
    "new_unified_person_df['wiki_col'] = wiki_col\n",
    "new_unified_person_df.to_parquet('tables/new_unified_person_df_wikicol.parquet')"
   ]
  },
  {
   "cell_type": "code",
   "execution_count": null,
   "metadata": {},
   "outputs": [],
   "source": []
  },
  {
   "cell_type": "code",
   "execution_count": null,
   "metadata": {},
   "outputs": [],
   "source": [
    "tag_d = {}\n",
    "\n",
    "for idx, key in new_unified_person_df.iterrows():\n",
    "\n",
    "    for ent in key['wiki_col']:\n",
    "        \n",
    "        if ent in tag_d:\n",
    "            tag_d[ent].append(idx)\n",
    "        else:\n",
    "            tag_d[ent] = [idx]\n"
   ]
  },
  {
   "cell_type": "code",
   "execution_count": null,
   "metadata": {},
   "outputs": [],
   "source": [
    "x = [5293, 5929]\n",
    "new_unified_person_df.loc[x]"
   ]
  },
  {
   "cell_type": "code",
   "execution_count": null,
   "metadata": {},
   "outputs": [],
   "source": [
    "for key in tag_d:\n",
    "    if len(tag_d[key])>1:\n",
    "        print(tag_d[key])"
   ]
  },
  {
   "cell_type": "code",
   "execution_count": null,
   "metadata": {},
   "outputs": [],
   "source": []
  },
  {
   "attachments": {},
   "cell_type": "markdown",
   "metadata": {},
   "source": [
    "### sentence transformers"
   ]
  },
  {
   "cell_type": "code",
   "execution_count": 48,
   "metadata": {},
   "outputs": [],
   "source": [
    "import numpy as np\n",
    "from sentence_transformers import SentenceTransformer,util\n",
    "\n",
    "model = SentenceTransformer('all-MiniLM-L6-v2')"
   ]
  },
  {
   "cell_type": "code",
   "execution_count": 49,
   "metadata": {},
   "outputs": [],
   "source": [
    "new_unified_person_df_wikicol = pd.read_parquet('tables/new_unified_person_df_wikicol.parquet')"
   ]
  },
  {
   "cell_type": "code",
   "execution_count": 141,
   "metadata": {},
   "outputs": [
    {
     "data": {
      "text/html": [
       "<div>\n",
       "<style scoped>\n",
       "    .dataframe tbody tr th:only-of-type {\n",
       "        vertical-align: middle;\n",
       "    }\n",
       "\n",
       "    .dataframe tbody tr th {\n",
       "        vertical-align: top;\n",
       "    }\n",
       "\n",
       "    .dataframe thead th {\n",
       "        text-align: right;\n",
       "    }\n",
       "</style>\n",
       "<table border=\"1\" class=\"dataframe\">\n",
       "  <thead>\n",
       "    <tr style=\"text-align: right;\">\n",
       "      <th></th>\n",
       "      <th>name_set</th>\n",
       "      <th>name_list</th>\n",
       "      <th>id_list</th>\n",
       "      <th>description_list</th>\n",
       "      <th>wiki_col</th>\n",
       "    </tr>\n",
       "  </thead>\n",
       "  <tbody>\n",
       "    <tr>\n",
       "      <th>4</th>\n",
       "      <td>Allen Richard V.</td>\n",
       "      <td>[Richard Allen, Richard V. Allen]</td>\n",
       "      <td>[frus1969-76v29_p_AR1, frus1969-76v03_p_ARV1, ...</td>\n",
       "      <td>[Member, National Security Council Staff, 1969...</td>\n",
       "      <td>[http://www.wikidata.org/entity/Q30122355, htt...</td>\n",
       "    </tr>\n",
       "    <tr>\n",
       "      <th>10</th>\n",
       "      <td>Blee David H.</td>\n",
       "      <td>[David H. Blee, David Blee]</td>\n",
       "      <td>[frus1969-76v14_p_BDH2, frus1969-76ve08_p_BDH2...</td>\n",
       "      <td>[Chief of the Soviet/Eastern Europe Division, ...</td>\n",
       "      <td>[http://www.wikidata.org/entity/Q15804769, htt...</td>\n",
       "    </tr>\n",
       "    <tr>\n",
       "      <th>11</th>\n",
       "      <td>Brandt Willy</td>\n",
       "      <td>[Willy Brandt]</td>\n",
       "      <td>[frus1969-76v14_p_BWHF1, frus1969-76v29_p_BW1,...</td>\n",
       "      <td>[Chancellor of the Federal Republic of Germany...</td>\n",
       "      <td>[http://www.wikidata.org/entity/Q29168166, htt...</td>\n",
       "    </tr>\n",
       "    <tr>\n",
       "      <th>18</th>\n",
       "      <td>Castro Fidel Ruz</td>\n",
       "      <td>[Fidel Castro, Fidel Castro Ruz, Castro Ruz Fi...</td>\n",
       "      <td>[frus1969-76v16_p_CF_1, frus1969-76ve16_p_CF_1...</td>\n",
       "      <td>[Premier of Cuba, Cuban Prime Minister, Cuban ...</td>\n",
       "      <td>[http://www.wikidata.org/entity/Q11256, http:/...</td>\n",
       "    </tr>\n",
       "    <tr>\n",
       "      <th>19</th>\n",
       "      <td>Chancellor John</td>\n",
       "      <td>[John Chancellor, Chancellor John]</td>\n",
       "      <td>[frus1969-76v14_p_CJ8, frus1969-76v13_p_CJ1]</td>\n",
       "      <td>[anchor on the NBC Nightly News, anchor on NBC...</td>\n",
       "      <td>[http://www.wikidata.org/entity/Q1770797, http...</td>\n",
       "    </tr>\n",
       "    <tr>\n",
       "      <th>...</th>\n",
       "      <td>...</td>\n",
       "      <td>...</td>\n",
       "      <td>...</td>\n",
       "      <td>...</td>\n",
       "      <td>...</td>\n",
       "    </tr>\n",
       "    <tr>\n",
       "      <th>5925</th>\n",
       "      <td>Jackson John</td>\n",
       "      <td>[John Jackson]</td>\n",
       "      <td>[frus1969-76v31_p_JJ1]</td>\n",
       "      <td>[General Counsel, Office of the Special Repres...</td>\n",
       "      <td>[http://www.wikidata.org/entity/Q19325443, htt...</td>\n",
       "    </tr>\n",
       "    <tr>\n",
       "      <th>5930</th>\n",
       "      <td>Long Olivier</td>\n",
       "      <td>[Olivier Long]</td>\n",
       "      <td>[frus1969-76v31_p_LO1]</td>\n",
       "      <td>[Director-General, General Agreement on Tariff...</td>\n",
       "      <td>[http://www.wikidata.org/entity/Q64789172, htt...</td>\n",
       "    </tr>\n",
       "    <tr>\n",
       "      <th>5980</th>\n",
       "      <td>Farouk I</td>\n",
       "      <td>[Farouk I]</td>\n",
       "      <td>[frus1969-76v25_p_FI_2]</td>\n",
       "      <td>[King of Egypt, 1936–1952]</td>\n",
       "      <td>[http://www.wikidata.org/entity/Q60577842, htt...</td>\n",
       "    </tr>\n",
       "    <tr>\n",
       "      <th>6023</th>\n",
       "      <td>Sabah al-Ahmad al-Jabir al-Sabah</td>\n",
       "      <td>[Sabah al-Ahmad al-Jabir al-Sabah]</td>\n",
       "      <td>[frus1969-76v25_p_SAAA_1]</td>\n",
       "      <td>[Kuwaiti Foreign Minister]</td>\n",
       "      <td>[http://www.wikidata.org/entity/Q57555, http:/...</td>\n",
       "    </tr>\n",
       "    <tr>\n",
       "      <th>6035</th>\n",
       "      <td>Cyrus L. Sulzberger</td>\n",
       "      <td>[Cyrus L. Sulzberger]</td>\n",
       "      <td>[frus1969-76v25_p_SCL_1]</td>\n",
       "      <td>[II, U.S. newspaper journalist]</td>\n",
       "      <td>[http://www.wikidata.org/entity/Q23681106, htt...</td>\n",
       "    </tr>\n",
       "  </tbody>\n",
       "</table>\n",
       "<p>888 rows × 5 columns</p>\n",
       "</div>"
      ],
      "text/plain": [
       "                              name_set  \\\n",
       "4                     Allen Richard V.   \n",
       "10                       Blee David H.   \n",
       "11                        Brandt Willy   \n",
       "18                    Castro Fidel Ruz   \n",
       "19                     Chancellor John   \n",
       "...                                ...   \n",
       "5925                      Jackson John   \n",
       "5930                      Long Olivier   \n",
       "5980                          Farouk I   \n",
       "6023  Sabah al-Ahmad al-Jabir al-Sabah   \n",
       "6035               Cyrus L. Sulzberger   \n",
       "\n",
       "                                              name_list  \\\n",
       "4                     [Richard Allen, Richard V. Allen]   \n",
       "10                          [David H. Blee, David Blee]   \n",
       "11                                       [Willy Brandt]   \n",
       "18    [Fidel Castro, Fidel Castro Ruz, Castro Ruz Fi...   \n",
       "19                   [John Chancellor, Chancellor John]   \n",
       "...                                                 ...   \n",
       "5925                                     [John Jackson]   \n",
       "5930                                     [Olivier Long]   \n",
       "5980                                         [Farouk I]   \n",
       "6023                 [Sabah al-Ahmad al-Jabir al-Sabah]   \n",
       "6035                              [Cyrus L. Sulzberger]   \n",
       "\n",
       "                                                id_list  \\\n",
       "4     [frus1969-76v29_p_AR1, frus1969-76v03_p_ARV1, ...   \n",
       "10    [frus1969-76v14_p_BDH2, frus1969-76ve08_p_BDH2...   \n",
       "11    [frus1969-76v14_p_BWHF1, frus1969-76v29_p_BW1,...   \n",
       "18    [frus1969-76v16_p_CF_1, frus1969-76ve16_p_CF_1...   \n",
       "19         [frus1969-76v14_p_CJ8, frus1969-76v13_p_CJ1]   \n",
       "...                                                 ...   \n",
       "5925                             [frus1969-76v31_p_JJ1]   \n",
       "5930                             [frus1969-76v31_p_LO1]   \n",
       "5980                            [frus1969-76v25_p_FI_2]   \n",
       "6023                          [frus1969-76v25_p_SAAA_1]   \n",
       "6035                           [frus1969-76v25_p_SCL_1]   \n",
       "\n",
       "                                       description_list  \\\n",
       "4     [Member, National Security Council Staff, 1969...   \n",
       "10    [Chief of the Soviet/Eastern Europe Division, ...   \n",
       "11    [Chancellor of the Federal Republic of Germany...   \n",
       "18    [Premier of Cuba, Cuban Prime Minister, Cuban ...   \n",
       "19    [anchor on the NBC Nightly News, anchor on NBC...   \n",
       "...                                                 ...   \n",
       "5925  [General Counsel, Office of the Special Repres...   \n",
       "5930  [Director-General, General Agreement on Tariff...   \n",
       "5980                         [King of Egypt, 1936–1952]   \n",
       "6023                         [Kuwaiti Foreign Minister]   \n",
       "6035                    [II, U.S. newspaper journalist]   \n",
       "\n",
       "                                               wiki_col  \n",
       "4     [http://www.wikidata.org/entity/Q30122355, htt...  \n",
       "10    [http://www.wikidata.org/entity/Q15804769, htt...  \n",
       "11    [http://www.wikidata.org/entity/Q29168166, htt...  \n",
       "18    [http://www.wikidata.org/entity/Q11256, http:/...  \n",
       "19    [http://www.wikidata.org/entity/Q1770797, http...  \n",
       "...                                                 ...  \n",
       "5925  [http://www.wikidata.org/entity/Q19325443, htt...  \n",
       "5930  [http://www.wikidata.org/entity/Q64789172, htt...  \n",
       "5980  [http://www.wikidata.org/entity/Q60577842, htt...  \n",
       "6023  [http://www.wikidata.org/entity/Q57555, http:/...  \n",
       "6035  [http://www.wikidata.org/entity/Q23681106, htt...  \n",
       "\n",
       "[888 rows x 5 columns]"
      ]
     },
     "execution_count": 141,
     "metadata": {},
     "output_type": "execute_result"
    }
   ],
   "source": [
    "new_unified_person_df_wikicol[new_unified_person_df_wikicol['wiki_col'].apply(lambda x: True if len(x)>1 else False)]"
   ]
  },
  {
   "cell_type": "code",
   "execution_count": 126,
   "metadata": {},
   "outputs": [],
   "source": [
    "# move this step to entity linking part above as new col wiki_descp ?\n",
    "def get_entity_descp(Q):\n",
    "\n",
    "    try:\n",
    "        query = \"\"\"\n",
    "        SELECT ?descp\n",
    "        WHERE \n",
    "        {\n",
    "        wd:\"\"\"+Q+\"\"\" schema:description ?descp.\n",
    "        FILTER ( lang(?descp) = \"en\" )\n",
    "        }\"\"\"\n",
    "        \n",
    "        sparqlwd.setQuery(query)\n",
    "\n",
    "        return sparqlwd.query().convert()\n",
    "\n",
    "    except Exception as e:\n",
    "        print(f'name: {Q}')\n",
    "        print(f'error message: {e}')\n",
    "        return {'head': {'vars': ['item']}, 'results': {'bindings': []}}\n",
    "\n",
    "\n",
    "def process_candidate_entities(row):\n",
    "\n",
    "    q_list = row['wiki_col']\n",
    "    \n",
    "    wiki_descp = []\n",
    "\n",
    "    for q in q_list:\n",
    "        \n",
    "        res = get_entity_descp(q.split('/')[-1])\n",
    "        \n",
    "        if len(res['results']['bindings'])==0:\n",
    "            wiki_descp.append('')\n",
    "        else:      \n",
    "            for binding in res['results']['bindings']:\n",
    "\n",
    "                wiki_descp.append(binding['descp']['value'])\n",
    "\n",
    "    return wiki_descp"
   ]
  },
  {
   "cell_type": "code",
   "execution_count": 147,
   "metadata": {},
   "outputs": [
    {
     "name": "stdout",
     "output_type": "stream",
     "text": [
      "tensor([[0.1281, 0.5819]])\n",
      "desc_list:['Chief of the Soviet/Eastern Europe Division, Directorate of Operations, Central Intelligence Agency'\n",
      " 'Associate Director of Operations, Central Intelligence Agency'\n",
      " 'Chief, Near East and South Asia Division, Directorate of Operations, Central Intelligence Agency'\n",
      " 'Central Intelligence Agency'\n",
      " 'Chief, Near East and South Asia Division, Directorate of Operations, Central Intelligence Agency'\n",
      " 'Chief, Near East and South Asia Division, Directorate of Operations, Central Intelligence Agency']\n",
      "\n",
      "wiki_descs:['American mathematician', 'CIA officer (1916-2000)']\n",
      "\n",
      "selected:CIA officer (1916-2000)\n",
      "\n",
      "Q:http://www.wikidata.org/entity/Q28162662\n"
     ]
    }
   ],
   "source": [
    "row = new_unified_person_df_wikicol.loc[10] # 6035\n",
    "\n",
    "desc_list = row['description_list']\n",
    "frus_embedding = np.mean(model.encode(desc_list), axis=0)\n",
    "\n",
    "wiki_descs = process_candidate_entities(row)\n",
    "wiki_embeddings = model.encode(wiki_descs)\n",
    "\n",
    "cos_sim = util.cos_sim(frus_embedding, wiki_embeddings)\n",
    "print(cos_sim)\n",
    "\n",
    "selected_idx = np.argmax(cos_sim,axis=1)[0]\n",
    "\n",
    "print(f'desc_list:{desc_list}\\n\\nwiki_descs:{wiki_descs}\\n\\nselected:{wiki_descs[selected_idx]}\\n\\nQ:{row[\"wiki_col\"][selected_idx]}')"
   ]
  },
  {
   "cell_type": "code",
   "execution_count": null,
   "metadata": {},
   "outputs": [],
   "source": []
  },
  {
   "cell_type": "code",
   "execution_count": null,
   "metadata": {},
   "outputs": [],
   "source": []
  },
  {
   "attachments": {},
   "cell_type": "markdown",
   "metadata": {},
   "source": [
    "### extracting extra info from wikidata"
   ]
  },
  {
   "cell_type": "code",
   "execution_count": null,
   "metadata": {},
   "outputs": [],
   "source": [
    "query=\"\"\"\n",
    "SELECT ?descp\n",
    "WHERE \n",
    "{\n",
    "wd:\"\"\"+Q+\"\"\" schema:description ?descp.\n",
    "FILTER ( lang(?descp) = \"en\" )\n",
    "}\"\"\"\n",
    "\n",
    "sparqlwd.setQuery(query)\n",
    "\n",
    "sparqlwd.query().convert()"
   ]
  }
 ],
 "metadata": {
  "kernelspec": {
   "display_name": "Python 3",
   "language": "python",
   "name": "python3"
  },
  "language_info": {
   "codemirror_mode": {
    "name": "ipython",
    "version": 3
   },
   "file_extension": ".py",
   "mimetype": "text/x-python",
   "name": "python",
   "nbconvert_exporter": "python",
   "pygments_lexer": "ipython3",
   "version": "3.8.8"
  },
  "orig_nbformat": 4,
  "vscode": {
   "interpreter": {
    "hash": "aee8b7b246df8f9039afb4144a1f6fd8d2ca17a180786b69acc140d282b71a49"
   }
  }
 },
 "nbformat": 4,
 "nbformat_minor": 2
}
