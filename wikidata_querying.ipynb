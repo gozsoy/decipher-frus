{
 "cells": [
  {
   "cell_type": "code",
   "execution_count": 3,
   "metadata": {},
   "outputs": [],
   "source": [
    "from qwikidata.sparql import return_sparql_query_results\n",
    "\n",
    "query = \"\"\"\n",
    "SELECT ?country ?countryLabel ?population\n",
    "WHERE\n",
    "{\n",
    "  ?country wdt:P31 wd:Q6256.\n",
    "  ?country wdt:P1082 ?population.\n",
    "  SERVICE wikibase:label { bd:serviceParam wikibase:language \"en\". }\n",
    "}\n",
    "order by desc(?population)\n",
    "limit 10\n",
    "\"\"\"\n",
    "res = return_sparql_query_results(query)\n",
    "\n"
   ]
  },
  {
   "cell_type": "code",
   "execution_count": 4,
   "metadata": {},
   "outputs": [
    {
     "data": {
      "text/plain": [
       "{'head': {'vars': ['country', 'countryLabel', 'population']},\n",
       " 'results': {'bindings': [{'country': {'type': 'uri',\n",
       "     'value': 'http://www.wikidata.org/entity/Q148'},\n",
       "    'population': {'datatype': 'http://www.w3.org/2001/XMLSchema#decimal',\n",
       "     'type': 'literal',\n",
       "     'value': '1443497378'},\n",
       "    'countryLabel': {'xml:lang': 'en',\n",
       "     'type': 'literal',\n",
       "     'value': \"People's Republic of China\"}},\n",
       "   {'country': {'type': 'uri', 'value': 'http://www.wikidata.org/entity/Q668'},\n",
       "    'population': {'datatype': 'http://www.w3.org/2001/XMLSchema#decimal',\n",
       "     'type': 'literal',\n",
       "     'value': '1326093247'},\n",
       "    'countryLabel': {'xml:lang': 'en', 'type': 'literal', 'value': 'India'}},\n",
       "   {'country': {'type': 'uri', 'value': 'http://www.wikidata.org/entity/Q30'},\n",
       "    'population': {'datatype': 'http://www.w3.org/2001/XMLSchema#decimal',\n",
       "     'type': 'literal',\n",
       "     'value': '331449281'},\n",
       "    'countryLabel': {'xml:lang': 'en',\n",
       "     'type': 'literal',\n",
       "     'value': 'United States of America'}},\n",
       "   {'country': {'type': 'uri', 'value': 'http://www.wikidata.org/entity/Q252'},\n",
       "    'population': {'datatype': 'http://www.w3.org/2001/XMLSchema#decimal',\n",
       "     'type': 'literal',\n",
       "     'value': '275439000'},\n",
       "    'countryLabel': {'xml:lang': 'en',\n",
       "     'type': 'literal',\n",
       "     'value': 'Indonesia'}},\n",
       "   {'country': {'type': 'uri', 'value': 'http://www.wikidata.org/entity/Q843'},\n",
       "    'population': {'datatype': 'http://www.w3.org/2001/XMLSchema#decimal',\n",
       "     'type': 'literal',\n",
       "     'value': '223773700'},\n",
       "    'countryLabel': {'xml:lang': 'en',\n",
       "     'type': 'literal',\n",
       "     'value': 'Pakistan'}},\n",
       "   {'country': {'type': 'uri', 'value': 'http://www.wikidata.org/entity/Q155'},\n",
       "    'population': {'datatype': 'http://www.w3.org/2001/XMLSchema#decimal',\n",
       "     'type': 'literal',\n",
       "     'value': '213317639'},\n",
       "    'countryLabel': {'xml:lang': 'en', 'type': 'literal', 'value': 'Brazil'}},\n",
       "   {'country': {'type': 'uri',\n",
       "     'value': 'http://www.wikidata.org/entity/Q1033'},\n",
       "    'population': {'datatype': 'http://www.w3.org/2001/XMLSchema#decimal',\n",
       "     'type': 'literal',\n",
       "     'value': '211400708'},\n",
       "    'countryLabel': {'xml:lang': 'en', 'type': 'literal', 'value': 'Nigeria'}},\n",
       "   {'country': {'type': 'uri', 'value': 'http://www.wikidata.org/entity/Q902'},\n",
       "    'population': {'datatype': 'http://www.w3.org/2001/XMLSchema#decimal',\n",
       "     'type': 'literal',\n",
       "     'value': '165775000'},\n",
       "    'countryLabel': {'xml:lang': 'en',\n",
       "     'type': 'literal',\n",
       "     'value': 'Bangladesh'}},\n",
       "   {'country': {'type': 'uri', 'value': 'http://www.wikidata.org/entity/Q159'},\n",
       "    'population': {'datatype': 'http://www.w3.org/2001/XMLSchema#decimal',\n",
       "     'type': 'literal',\n",
       "     'value': '146804372'},\n",
       "    'countryLabel': {'xml:lang': 'en', 'type': 'literal', 'value': 'Russia'}},\n",
       "   {'country': {'type': 'uri', 'value': 'http://www.wikidata.org/entity/Q17'},\n",
       "    'population': {'datatype': 'http://www.w3.org/2001/XMLSchema#decimal',\n",
       "     'type': 'literal',\n",
       "     'value': '125440000'},\n",
       "    'countryLabel': {'xml:lang': 'en', 'type': 'literal', 'value': 'Japan'}}]}}"
      ]
     },
     "execution_count": 4,
     "metadata": {},
     "output_type": "execute_result"
    }
   ],
   "source": [
    "res"
   ]
  }
 ],
 "metadata": {
  "kernelspec": {
   "display_name": "Python 3",
   "language": "python",
   "name": "python3"
  },
  "language_info": {
   "codemirror_mode": {
    "name": "ipython",
    "version": 3
   },
   "file_extension": ".py",
   "mimetype": "text/x-python",
   "name": "python",
   "nbconvert_exporter": "python",
   "pygments_lexer": "ipython3",
   "version": "3.8.8"
  },
  "orig_nbformat": 4,
  "vscode": {
   "interpreter": {
    "hash": "aee8b7b246df8f9039afb4144a1f6fd8d2ca17a180786b69acc140d282b71a49"
   }
  }
 },
 "nbformat": 4,
 "nbformat_minor": 2
}
