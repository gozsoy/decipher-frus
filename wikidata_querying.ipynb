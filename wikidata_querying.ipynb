{
 "cells": [
  {
   "cell_type": "code",
   "execution_count": 148,
   "metadata": {},
   "outputs": [],
   "source": [
    "import pandas as pd\n",
    "import dask.dataframe as dd\n",
    "from dask.diagnostics import ProgressBar\n",
    "from SPARQLWrapper import SPARQLWrapper, JSON\n",
    "\n",
    "from tqdm import tqdm\n",
    "tqdm.pandas()\n",
    "\n",
    "import ssl\n",
    "ssl._create_default_https_context = ssl._create_unverified_context"
   ]
  },
  {
   "cell_type": "code",
   "execution_count": 149,
   "metadata": {},
   "outputs": [],
   "source": [
    "user_agent = 'CoolBot/0.0 (https://example.org/coolbot/; coolbot@example.org)'\n",
    "\n",
    "sparqlwd = SPARQLWrapper(\"https://query.wikidata.org/sparql\", agent=user_agent)\n",
    "sparqlwd.setReturnFormat(JSON)"
   ]
  },
  {
   "attachments": {},
   "cell_type": "markdown",
   "metadata": {},
   "source": [
    "## person matching (move to person_unify)"
   ]
  },
  {
   "cell_type": "code",
   "execution_count": null,
   "metadata": {},
   "outputs": [],
   "source": [
    "def find_wiki_entity(name):\n",
    "\n",
    "    try:\n",
    "        query = \"\"\"\n",
    "        SELECT ?item WHERE {\n",
    "        SERVICE wikibase:mwapi {\n",
    "            bd:serviceParam wikibase:endpoint \"www.wikidata.org\";\n",
    "                            wikibase:api \"EntitySearch\";\n",
    "                            mwapi:search  \\'\"\"\"+name+\"\"\"\\';\n",
    "                            mwapi:language \"en\".\n",
    "            ?item wikibase:apiOutputItem mwapi:item.\n",
    "            ?num wikibase:apiOrdinal true.\n",
    "        }\n",
    "        ?item wdt:P31 wd:Q5\n",
    "        }\n",
    "        \"\"\"\n",
    "        \n",
    "        sparqlwd.setQuery(query)\n",
    "\n",
    "        return sparqlwd.query().convert()\n",
    "\n",
    "    except Exception as e:\n",
    "        print(f'name: {name}')\n",
    "        print(f'error message: {e}')\n",
    "        return {'head': {'vars': ['item']}, 'results': {'bindings': []}}\n",
    "\n",
    "\n",
    "def process_name_list(row):\n",
    "\n",
    "    name_list = row['name_list']\n",
    "\n",
    "    wiki_tag = set()\n",
    "\n",
    "    for name in name_list:\n",
    "        res = find_wiki_entity(name)\n",
    "\n",
    "        for binding in res['results']['bindings']:\n",
    "            wiki_tag.add(binding['item']['value'])\n",
    "\n",
    "    return list(wiki_tag)"
   ]
  },
  {
   "cell_type": "code",
   "execution_count": null,
   "metadata": {},
   "outputs": [],
   "source": [
    "new_unified_person_df = pd.read_parquet('tables/new_unified_person_df.parquet')"
   ]
  },
  {
   "cell_type": "code",
   "execution_count": null,
   "metadata": {},
   "outputs": [],
   "source": [
    "wiki_col = new_unified_person_df.progress_apply(lambda x: process_name_list(x),axis=1)"
   ]
  },
  {
   "cell_type": "code",
   "execution_count": null,
   "metadata": {},
   "outputs": [],
   "source": [
    "new_unified_person_df['wiki_col'] = wiki_col\n",
    "new_unified_person_df.to_parquet('tables/new_unified_person_df_wikicol.parquet')"
   ]
  },
  {
   "attachments": {},
   "cell_type": "markdown",
   "metadata": {},
   "source": [
    "### processing ends."
   ]
  },
  {
   "cell_type": "code",
   "execution_count": null,
   "metadata": {},
   "outputs": [],
   "source": []
  },
  {
   "attachments": {},
   "cell_type": "markdown",
   "metadata": {},
   "source": [
    "### sentence transformers"
   ]
  },
  {
   "cell_type": "code",
   "execution_count": 173,
   "metadata": {},
   "outputs": [],
   "source": [
    "import numpy as np\n",
    "from sentence_transformers import SentenceTransformer,util\n",
    "\n",
    "model = SentenceTransformer('all-MiniLM-L6-v2')"
   ]
  },
  {
   "cell_type": "code",
   "execution_count": 175,
   "metadata": {},
   "outputs": [],
   "source": [
    "new_unified_person_df_wikicol = pd.read_parquet('tables/new_unified_person_df_wikicol.parquet')"
   ]
  },
  {
   "cell_type": "code",
   "execution_count": 176,
   "metadata": {},
   "outputs": [
    {
     "data": {
      "text/html": [
       "<div>\n",
       "<style scoped>\n",
       "    .dataframe tbody tr th:only-of-type {\n",
       "        vertical-align: middle;\n",
       "    }\n",
       "\n",
       "    .dataframe tbody tr th {\n",
       "        vertical-align: top;\n",
       "    }\n",
       "\n",
       "    .dataframe thead th {\n",
       "        text-align: right;\n",
       "    }\n",
       "</style>\n",
       "<table border=\"1\" class=\"dataframe\">\n",
       "  <thead>\n",
       "    <tr style=\"text-align: right;\">\n",
       "      <th></th>\n",
       "      <th>name_set</th>\n",
       "      <th>name_list</th>\n",
       "      <th>id_list</th>\n",
       "      <th>description_list</th>\n",
       "      <th>wiki_col</th>\n",
       "    </tr>\n",
       "  </thead>\n",
       "  <tbody>\n",
       "    <tr>\n",
       "      <th>4</th>\n",
       "      <td>Allen Richard V.</td>\n",
       "      <td>[Richard Allen, Richard V. Allen]</td>\n",
       "      <td>[frus1969-76v29_p_AR1, frus1969-76v03_p_ARV1, ...</td>\n",
       "      <td>[Member, National Security Council Staff, 1969...</td>\n",
       "      <td>[http://www.wikidata.org/entity/Q30122355, htt...</td>\n",
       "    </tr>\n",
       "    <tr>\n",
       "      <th>10</th>\n",
       "      <td>Blee David H.</td>\n",
       "      <td>[David H. Blee, David Blee]</td>\n",
       "      <td>[frus1969-76v14_p_BDH2, frus1969-76ve08_p_BDH2...</td>\n",
       "      <td>[Chief of the Soviet/Eastern Europe Division, ...</td>\n",
       "      <td>[http://www.wikidata.org/entity/Q15804769, htt...</td>\n",
       "    </tr>\n",
       "    <tr>\n",
       "      <th>11</th>\n",
       "      <td>Brandt Willy</td>\n",
       "      <td>[Willy Brandt]</td>\n",
       "      <td>[frus1969-76v14_p_BWHF1, frus1969-76v29_p_BW1,...</td>\n",
       "      <td>[Chancellor of the Federal Republic of Germany...</td>\n",
       "      <td>[http://www.wikidata.org/entity/Q29168166, htt...</td>\n",
       "    </tr>\n",
       "    <tr>\n",
       "      <th>18</th>\n",
       "      <td>Castro Fidel Ruz</td>\n",
       "      <td>[Fidel Castro, Fidel Castro Ruz, Castro Ruz Fi...</td>\n",
       "      <td>[frus1969-76v16_p_CF_1, frus1969-76ve16_p_CF_1...</td>\n",
       "      <td>[Premier of Cuba, Cuban Prime Minister, Cuban ...</td>\n",
       "      <td>[http://www.wikidata.org/entity/Q11256, http:/...</td>\n",
       "    </tr>\n",
       "    <tr>\n",
       "      <th>19</th>\n",
       "      <td>Chancellor John</td>\n",
       "      <td>[John Chancellor, Chancellor John]</td>\n",
       "      <td>[frus1969-76v14_p_CJ8, frus1969-76v13_p_CJ1]</td>\n",
       "      <td>[anchor on the NBC Nightly News, anchor on NBC...</td>\n",
       "      <td>[http://www.wikidata.org/entity/Q1770797, http...</td>\n",
       "    </tr>\n",
       "    <tr>\n",
       "      <th>...</th>\n",
       "      <td>...</td>\n",
       "      <td>...</td>\n",
       "      <td>...</td>\n",
       "      <td>...</td>\n",
       "      <td>...</td>\n",
       "    </tr>\n",
       "    <tr>\n",
       "      <th>5925</th>\n",
       "      <td>Jackson John</td>\n",
       "      <td>[John Jackson]</td>\n",
       "      <td>[frus1969-76v31_p_JJ1]</td>\n",
       "      <td>[General Counsel, Office of the Special Repres...</td>\n",
       "      <td>[http://www.wikidata.org/entity/Q19325443, htt...</td>\n",
       "    </tr>\n",
       "    <tr>\n",
       "      <th>5930</th>\n",
       "      <td>Long Olivier</td>\n",
       "      <td>[Olivier Long]</td>\n",
       "      <td>[frus1969-76v31_p_LO1]</td>\n",
       "      <td>[Director-General, General Agreement on Tariff...</td>\n",
       "      <td>[http://www.wikidata.org/entity/Q64789172, htt...</td>\n",
       "    </tr>\n",
       "    <tr>\n",
       "      <th>5980</th>\n",
       "      <td>Farouk I</td>\n",
       "      <td>[Farouk I]</td>\n",
       "      <td>[frus1969-76v25_p_FI_2]</td>\n",
       "      <td>[King of Egypt, 1936–1952]</td>\n",
       "      <td>[http://www.wikidata.org/entity/Q60577842, htt...</td>\n",
       "    </tr>\n",
       "    <tr>\n",
       "      <th>6023</th>\n",
       "      <td>Sabah al-Ahmad al-Jabir al-Sabah</td>\n",
       "      <td>[Sabah al-Ahmad al-Jabir al-Sabah]</td>\n",
       "      <td>[frus1969-76v25_p_SAAA_1]</td>\n",
       "      <td>[Kuwaiti Foreign Minister]</td>\n",
       "      <td>[http://www.wikidata.org/entity/Q57555, http:/...</td>\n",
       "    </tr>\n",
       "    <tr>\n",
       "      <th>6035</th>\n",
       "      <td>Cyrus L. Sulzberger</td>\n",
       "      <td>[Cyrus L. Sulzberger]</td>\n",
       "      <td>[frus1969-76v25_p_SCL_1]</td>\n",
       "      <td>[II, U.S. newspaper journalist]</td>\n",
       "      <td>[http://www.wikidata.org/entity/Q23681106, htt...</td>\n",
       "    </tr>\n",
       "  </tbody>\n",
       "</table>\n",
       "<p>888 rows × 5 columns</p>\n",
       "</div>"
      ],
      "text/plain": [
       "                              name_set  \\\n",
       "4                     Allen Richard V.   \n",
       "10                       Blee David H.   \n",
       "11                        Brandt Willy   \n",
       "18                    Castro Fidel Ruz   \n",
       "19                     Chancellor John   \n",
       "...                                ...   \n",
       "5925                      Jackson John   \n",
       "5930                      Long Olivier   \n",
       "5980                          Farouk I   \n",
       "6023  Sabah al-Ahmad al-Jabir al-Sabah   \n",
       "6035               Cyrus L. Sulzberger   \n",
       "\n",
       "                                              name_list  \\\n",
       "4                     [Richard Allen, Richard V. Allen]   \n",
       "10                          [David H. Blee, David Blee]   \n",
       "11                                       [Willy Brandt]   \n",
       "18    [Fidel Castro, Fidel Castro Ruz, Castro Ruz Fi...   \n",
       "19                   [John Chancellor, Chancellor John]   \n",
       "...                                                 ...   \n",
       "5925                                     [John Jackson]   \n",
       "5930                                     [Olivier Long]   \n",
       "5980                                         [Farouk I]   \n",
       "6023                 [Sabah al-Ahmad al-Jabir al-Sabah]   \n",
       "6035                              [Cyrus L. Sulzberger]   \n",
       "\n",
       "                                                id_list  \\\n",
       "4     [frus1969-76v29_p_AR1, frus1969-76v03_p_ARV1, ...   \n",
       "10    [frus1969-76v14_p_BDH2, frus1969-76ve08_p_BDH2...   \n",
       "11    [frus1969-76v14_p_BWHF1, frus1969-76v29_p_BW1,...   \n",
       "18    [frus1969-76v16_p_CF_1, frus1969-76ve16_p_CF_1...   \n",
       "19         [frus1969-76v14_p_CJ8, frus1969-76v13_p_CJ1]   \n",
       "...                                                 ...   \n",
       "5925                             [frus1969-76v31_p_JJ1]   \n",
       "5930                             [frus1969-76v31_p_LO1]   \n",
       "5980                            [frus1969-76v25_p_FI_2]   \n",
       "6023                          [frus1969-76v25_p_SAAA_1]   \n",
       "6035                           [frus1969-76v25_p_SCL_1]   \n",
       "\n",
       "                                       description_list  \\\n",
       "4     [Member, National Security Council Staff, 1969...   \n",
       "10    [Chief of the Soviet/Eastern Europe Division, ...   \n",
       "11    [Chancellor of the Federal Republic of Germany...   \n",
       "18    [Premier of Cuba, Cuban Prime Minister, Cuban ...   \n",
       "19    [anchor on the NBC Nightly News, anchor on NBC...   \n",
       "...                                                 ...   \n",
       "5925  [General Counsel, Office of the Special Repres...   \n",
       "5930  [Director-General, General Agreement on Tariff...   \n",
       "5980                         [King of Egypt, 1936–1952]   \n",
       "6023                         [Kuwaiti Foreign Minister]   \n",
       "6035                    [II, U.S. newspaper journalist]   \n",
       "\n",
       "                                               wiki_col  \n",
       "4     [http://www.wikidata.org/entity/Q30122355, htt...  \n",
       "10    [http://www.wikidata.org/entity/Q15804769, htt...  \n",
       "11    [http://www.wikidata.org/entity/Q29168166, htt...  \n",
       "18    [http://www.wikidata.org/entity/Q11256, http:/...  \n",
       "19    [http://www.wikidata.org/entity/Q1770797, http...  \n",
       "...                                                 ...  \n",
       "5925  [http://www.wikidata.org/entity/Q19325443, htt...  \n",
       "5930  [http://www.wikidata.org/entity/Q64789172, htt...  \n",
       "5980  [http://www.wikidata.org/entity/Q60577842, htt...  \n",
       "6023  [http://www.wikidata.org/entity/Q57555, http:/...  \n",
       "6035  [http://www.wikidata.org/entity/Q23681106, htt...  \n",
       "\n",
       "[888 rows x 5 columns]"
      ]
     },
     "execution_count": 176,
     "metadata": {},
     "output_type": "execute_result"
    }
   ],
   "source": [
    "new_unified_person_df_wikicol[new_unified_person_df_wikicol['wiki_col'].apply(lambda x: True if len(x)>1 else False)]"
   ]
  },
  {
   "cell_type": "code",
   "execution_count": 157,
   "metadata": {},
   "outputs": [],
   "source": [
    "# helpers for using sbert for deciding among wikidata entries\n",
    "def get_entity_descp(Q):\n",
    "\n",
    "    try:\n",
    "        query = \"\"\"\n",
    "        SELECT ?descp\n",
    "        WHERE \n",
    "        {\n",
    "        wd:\"\"\"+Q+\"\"\" schema:description ?descp.\n",
    "        FILTER ( lang(?descp) = \"en\" )\n",
    "        }\"\"\"\n",
    "        \n",
    "        sparqlwd.setQuery(query)\n",
    "\n",
    "        return sparqlwd.query().convert()\n",
    "\n",
    "    except Exception as e:\n",
    "        print(f'name: {Q}')\n",
    "        print(f'error message: {e}')\n",
    "        return {'head': {'vars': ['item']}, 'results': {'bindings': []}}\n",
    "\n",
    "\n",
    "def process_candidate_entities(row):\n",
    "\n",
    "    q_list = row['wiki_col']\n",
    "    \n",
    "    wiki_descp = []\n",
    "\n",
    "    for q in q_list:\n",
    "        \n",
    "        res = get_entity_descp(q.split('/')[-1])\n",
    "        \n",
    "        if len(res['results']['bindings'])==0:\n",
    "            wiki_descp.append('')\n",
    "        else:      \n",
    "            for binding in res['results']['bindings']:\n",
    "\n",
    "                wiki_descp.append(binding['descp']['value'])\n",
    "\n",
    "    return wiki_descp"
   ]
  },
  {
   "cell_type": "code",
   "execution_count": 177,
   "metadata": {},
   "outputs": [],
   "source": [
    "def process_wiki_col(row):\n",
    "\n",
    "    wiki_col = row['wiki_col']\n",
    "    \n",
    "    if len(wiki_col)==0:\n",
    "        return None\n",
    "\n",
    "    elif len(wiki_col)==1:\n",
    "        return wiki_col[0]\n",
    "\n",
    "    else:\n",
    "        desc_list = row['description_list']\n",
    "        frus_embedding = np.mean(model.encode(desc_list), axis=0)\n",
    "\n",
    "        wiki_descs = process_candidate_entities(row)\n",
    "        wiki_embeddings = model.encode(wiki_descs)\n",
    "\n",
    "        cos_sim = util.cos_sim(frus_embedding, wiki_embeddings)\n",
    "\n",
    "        selected_idx = np.argmax(cos_sim,axis=1)[0]\n",
    "        \n",
    "        return row[\"wiki_col\"][selected_idx]"
   ]
  },
  {
   "cell_type": "code",
   "execution_count": 182,
   "metadata": {},
   "outputs": [
    {
     "name": "stderr",
     "output_type": "stream",
     "text": [
      "100%|██████████| 4775/4775 [36:45<00:00,  2.16it/s]  \n"
     ]
    }
   ],
   "source": [
    "selected_wiki_entity = new_unified_person_df.progress_apply(lambda x: process_wiki_col(x),axis=1)\n",
    "\n",
    "new_unified_person_df['selected_wiki_entity'] = selected_wiki_entity\n",
    "new_unified_person_df.to_parquet('tables/new_unified_person_df_sbert.parquet')"
   ]
  },
  {
   "attachments": {},
   "cell_type": "markdown",
   "metadata": {},
   "source": [
    "## reduce names with exactly same wikidata entries"
   ]
  },
  {
   "cell_type": "code",
   "execution_count": 256,
   "metadata": {},
   "outputs": [],
   "source": [
    "t = {}\n",
    "\n",
    "for idx, key in new_unified_person_df.iterrows():\n",
    "\n",
    "    ent = key['selected_wiki_entity']\n",
    "\n",
    "    if not ent:\n",
    "        t[idx]=set([idx])\n",
    "    else:\n",
    "        t[idx]=set(new_unified_person_df[new_unified_person_df['selected_wiki_entity']==ent].index)"
   ]
  },
  {
   "cell_type": "code",
   "execution_count": 257,
   "metadata": {},
   "outputs": [
    {
     "name": "stdout",
     "output_type": "stream",
     "text": [
      "removing 85 keys.\n",
      "---\n",
      "removing 0 keys.\n",
      "---\n"
     ]
    }
   ],
   "source": [
    "import copy\n",
    "import itertools\n",
    "\n",
    "scratch_t = copy.deepcopy(t)\n",
    "changed_flag = True\n",
    "\n",
    "while changed_flag:\n",
    "\n",
    "    changed_flag = False\n",
    "\n",
    "    for key in t:\n",
    "        \n",
    "        for matched_idx in t[key]:\n",
    "\n",
    "            if key != matched_idx:\n",
    "                if scratch_t.get(key, None) and scratch_t.get(matched_idx, None):\n",
    "                    changed_flag = True\n",
    "                    t[key] = t[key].union(t[matched_idx])\n",
    "                    scratch_t.pop(matched_idx, None)\n",
    "        \n",
    "    unwanted = set(t.keys()) - set(scratch_t.keys())\n",
    "    print(f'removing {len(unwanted)} keys.')\n",
    "    for unwanted_key in unwanted: del t[unwanted_key]\n",
    "    scratch_t = copy.deepcopy(t)\n",
    "    print('---')"
   ]
  },
  {
   "cell_type": "code",
   "execution_count": 258,
   "metadata": {},
   "outputs": [],
   "source": [
    "for temp_key in t:\n",
    "    \n",
    "    te_df = new_unified_person_df.loc[list(t[temp_key])]\n",
    "\n",
    "    name_list = list(itertools.chain.from_iterable(te_df['name_list'].values))\n",
    "    id_list = list(itertools.chain.from_iterable(te_df['id_list'].values))\n",
    "    description_list = list(itertools.chain.from_iterable(te_df['description_list'].values))\n",
    "\n",
    "    new_unified_person_df.at[temp_key, 'name_list'] = name_list\n",
    "    new_unified_person_df.at[temp_key, 'id_list'] = id_list\n",
    "    new_unified_person_df.at[temp_key, 'description_list'] = description_list\n",
    "\n",
    "new_unified_person_df = new_unified_person_df.loc[t.keys()]"
   ]
  },
  {
   "cell_type": "code",
   "execution_count": 266,
   "metadata": {},
   "outputs": [],
   "source": [
    "new_unified_person_df.to_parquet('tables/new_unified_person_df_final.parquet')"
   ]
  },
  {
   "cell_type": "code",
   "execution_count": null,
   "metadata": {},
   "outputs": [],
   "source": []
  },
  {
   "cell_type": "code",
   "execution_count": null,
   "metadata": {},
   "outputs": [],
   "source": []
  },
  {
   "attachments": {},
   "cell_type": "markdown",
   "metadata": {},
   "source": [
    "### extracting extra info from wikidata"
   ]
  },
  {
   "cell_type": "code",
   "execution_count": 300,
   "metadata": {},
   "outputs": [],
   "source": [
    "Q='Q42013'\n",
    "#Q='Q9588'"
   ]
  },
  {
   "cell_type": "code",
   "execution_count": 281,
   "metadata": {},
   "outputs": [
    {
     "data": {
      "text/plain": [
       "{'head': {'vars': ['sex', 'sexLabel']},\n",
       " 'results': {'bindings': [{'sex': {'type': 'uri',\n",
       "     'value': 'http://www.wikidata.org/entity/Q6581097'},\n",
       "    'sexLabel': {'xml:lang': 'en', 'type': 'literal', 'value': 'male'}}]}}"
      ]
     },
     "execution_count": 281,
     "metadata": {},
     "output_type": "execute_result"
    }
   ],
   "source": [
    "# sex query\n",
    "query=\"\"\"\n",
    "SELECT ?sex ?sexLabel\n",
    "WHERE \n",
    "{\n",
    "wd:\"\"\"+Q+\"\"\" wdt:P21 ?sex;\n",
    "\n",
    "SERVICE wikibase:label { bd:serviceParam wikibase:language \"en\". }\n",
    "}\"\"\"\n",
    "\n",
    "sparqlwd.setQuery(query)\n",
    "\n",
    "sparqlwd.query().convert()"
   ]
  },
  {
   "cell_type": "code",
   "execution_count": 286,
   "metadata": {},
   "outputs": [
    {
     "data": {
      "text/plain": [
       "{'head': {'vars': ['citizenship',\n",
       "   'citizenshipLabel',\n",
       "   'startyearLabel',\n",
       "   'endyearLabel']},\n",
       " 'results': {'bindings': [{'citizenship': {'type': 'uri',\n",
       "     'value': 'http://www.wikidata.org/entity/Q370173'},\n",
       "    'citizenshipLabel': {'xml:lang': 'en',\n",
       "     'type': 'literal',\n",
       "     'value': 'Sultanate of Egypt'},\n",
       "    'startyearLabel': {'type': 'literal', 'value': '1918-01-01T00:00:00Z'},\n",
       "    'endyearLabel': {'type': 'literal', 'value': '1922-01-01T00:00:00Z'}},\n",
       "   {'citizenship': {'type': 'uri',\n",
       "     'value': 'http://www.wikidata.org/entity/Q124943'},\n",
       "    'citizenshipLabel': {'xml:lang': 'en',\n",
       "     'type': 'literal',\n",
       "     'value': 'Kingdom of Egypt'},\n",
       "    'startyearLabel': {'type': 'literal', 'value': '1922-01-01T00:00:00Z'},\n",
       "    'endyearLabel': {'type': 'literal', 'value': '1953-01-01T00:00:00Z'}},\n",
       "   {'citizenship': {'type': 'uri',\n",
       "     'value': 'http://www.wikidata.org/entity/Q3087763'},\n",
       "    'citizenshipLabel': {'xml:lang': 'en',\n",
       "     'type': 'literal',\n",
       "     'value': 'Republic of Egypt (1953–1958)'},\n",
       "    'startyearLabel': {'type': 'literal', 'value': '1953-01-01T00:00:00Z'},\n",
       "    'endyearLabel': {'type': 'literal', 'value': '1958-01-01T00:00:00Z'}},\n",
       "   {'citizenship': {'type': 'uri',\n",
       "     'value': 'http://www.wikidata.org/entity/Q170468'},\n",
       "    'citizenshipLabel': {'xml:lang': 'en',\n",
       "     'type': 'literal',\n",
       "     'value': 'United Arab Republic'},\n",
       "    'startyearLabel': {'type': 'literal', 'value': '1958-01-01T00:00:00Z'},\n",
       "    'endyearLabel': {'type': 'literal', 'value': '1971-01-01T00:00:00Z'}},\n",
       "   {'citizenship': {'type': 'uri',\n",
       "     'value': 'http://www.wikidata.org/entity/Q79'},\n",
       "    'citizenshipLabel': {'xml:lang': 'en',\n",
       "     'type': 'literal',\n",
       "     'value': 'Egypt'},\n",
       "    'startyearLabel': {'type': 'literal', 'value': '1971-01-01T00:00:00Z'},\n",
       "    'endyearLabel': {'type': 'literal', 'value': '1981-01-01T00:00:00Z'}}]}}"
      ]
     },
     "execution_count": 286,
     "metadata": {},
     "output_type": "execute_result"
    }
   ],
   "source": [
    "# citizenship query\n",
    "query=\"\"\"\n",
    "SELECT ?citizenship ?citizenshipLabel ?startyearLabel ?endyearLabel\n",
    "WHERE \n",
    "{\n",
    "wd:\"\"\"+Q+\"\"\" p:P27 ?statement1.\n",
    "?statement1 ps:P27 ?citizenship.\n",
    "OPTIONAL{?statement1 pq:P580 ?startyear.}\n",
    "OPTIONAL{?statement1 pq:P582 ?endyear.}\n",
    "\n",
    "SERVICE wikibase:label { bd:serviceParam wikibase:language \"en\". }\n",
    "}\"\"\"\n",
    "\n",
    "sparqlwd.setQuery(query)\n",
    "\n",
    "sparqlwd.query().convert()"
   ]
  },
  {
   "cell_type": "code",
   "execution_count": 293,
   "metadata": {},
   "outputs": [
    {
     "data": {
      "text/plain": [
       "{'head': {'vars': ['positionheld',\n",
       "   'positionheldLabel',\n",
       "   'startyearLabel',\n",
       "   'endyearLabel']},\n",
       " 'results': {'bindings': [{'positionheld': {'type': 'uri',\n",
       "     'value': 'http://www.wikidata.org/entity/Q2669413'},\n",
       "    'positionheldLabel': {'xml:lang': 'en',\n",
       "     'type': 'literal',\n",
       "     'value': 'Vice President of Egypt'},\n",
       "    'startyearLabel': {'type': 'literal', 'value': '1969-12-19T00:00:00Z'},\n",
       "    'endyearLabel': {'type': 'literal', 'value': '1970-10-14T00:00:00Z'}},\n",
       "   {'positionheld': {'type': 'uri',\n",
       "     'value': 'http://www.wikidata.org/entity/Q1571396'},\n",
       "    'positionheldLabel': {'xml:lang': 'en',\n",
       "     'type': 'literal',\n",
       "     'value': 'Prime Minister of Egypt'},\n",
       "    'startyearLabel': {'type': 'literal', 'value': '1980-05-15T00:00:00Z'},\n",
       "    'endyearLabel': {'type': 'literal', 'value': '1981-10-06T00:00:00Z'}},\n",
       "   {'positionheld': {'type': 'uri',\n",
       "     'value': 'http://www.wikidata.org/entity/Q15618993'},\n",
       "    'positionheldLabel': {'xml:lang': 'en',\n",
       "     'type': 'literal',\n",
       "     'value': 'President of Egypt'},\n",
       "    'startyearLabel': {'type': 'literal', 'value': '1970-09-28T00:00:00Z'},\n",
       "    'endyearLabel': {'type': 'literal', 'value': '1970-10-15T00:00:00Z'}},\n",
       "   {'positionheld': {'type': 'uri',\n",
       "     'value': 'http://www.wikidata.org/entity/Q15618993'},\n",
       "    'positionheldLabel': {'xml:lang': 'en',\n",
       "     'type': 'literal',\n",
       "     'value': 'President of Egypt'},\n",
       "    'startyearLabel': {'type': 'literal', 'value': '1970-10-15T00:00:00Z'},\n",
       "    'endyearLabel': {'type': 'literal', 'value': '1971-09-02T00:00:00Z'}},\n",
       "   {'positionheld': {'type': 'uri',\n",
       "     'value': 'http://www.wikidata.org/entity/Q107999232'},\n",
       "    'positionheldLabel': {'xml:lang': 'en',\n",
       "     'type': 'literal',\n",
       "     'value': 'speaker of the National Assembly of the United Arab Republic'},\n",
       "    'startyearLabel': {'type': 'literal', 'value': '1960-07-21T00:00:00Z'},\n",
       "    'endyearLabel': {'type': 'literal', 'value': '1961-09-27T00:00:00Z'}},\n",
       "   {'positionheld': {'type': 'uri',\n",
       "     'value': 'http://www.wikidata.org/entity/Q15618993'},\n",
       "    'positionheldLabel': {'xml:lang': 'en',\n",
       "     'type': 'literal',\n",
       "     'value': 'President of Egypt'},\n",
       "    'startyearLabel': {'type': 'literal', 'value': '1970-09-28T00:00:00Z'},\n",
       "    'endyearLabel': {'type': 'literal', 'value': '1981-10-06T00:00:00Z'}},\n",
       "   {'positionheld': {'type': 'uri',\n",
       "     'value': 'http://www.wikidata.org/entity/Q107999232'},\n",
       "    'positionheldLabel': {'xml:lang': 'en',\n",
       "     'type': 'literal',\n",
       "     'value': 'speaker of the National Assembly of the United Arab Republic'},\n",
       "    'startyearLabel': {'type': 'literal', 'value': '1964-03-26T00:00:00Z'},\n",
       "    'endyearLabel': {'type': 'literal', 'value': '1968-11-12T00:00:00Z'}},\n",
       "   {'positionheld': {'type': 'uri',\n",
       "     'value': 'http://www.wikidata.org/entity/Q1571396'},\n",
       "    'positionheldLabel': {'xml:lang': 'en',\n",
       "     'type': 'literal',\n",
       "     'value': 'Prime Minister of Egypt'},\n",
       "    'startyearLabel': {'type': 'literal', 'value': '1973-03-26T00:00:00Z'},\n",
       "    'endyearLabel': {'type': 'literal', 'value': '1974-09-25T00:00:00Z'}}]}}"
      ]
     },
     "execution_count": 293,
     "metadata": {},
     "output_type": "execute_result"
    }
   ],
   "source": [
    "# positionheld query\n",
    "query=\"\"\"\n",
    "SELECT ?positionheld ?positionheldLabel ?startyearLabel ?endyearLabel\n",
    "WHERE \n",
    "{\n",
    "wd:\"\"\"+Q+\"\"\" p:P39 ?statement1.\n",
    "?statement1 ps:P39 ?positionheld.\n",
    "OPTIONAL{?statement1 pq:P580 ?startyear.}\n",
    "OPTIONAL{?statement1 pq:P582 ?endyear.}\n",
    "\n",
    "SERVICE wikibase:label { bd:serviceParam wikibase:language \"en\". }\n",
    "}\"\"\"\n",
    "\n",
    "sparqlwd.setQuery(query)\n",
    "\n",
    "sparqlwd.query().convert()"
   ]
  },
  {
   "cell_type": "code",
   "execution_count": 290,
   "metadata": {},
   "outputs": [
    {
     "data": {
      "text/plain": [
       "{'head': {'vars': ['occupation', 'occupationLabel']},\n",
       " 'results': {'bindings': [{'occupation': {'type': 'uri',\n",
       "     'value': 'http://www.wikidata.org/entity/Q40348'},\n",
       "    'occupationLabel': {'xml:lang': 'en',\n",
       "     'type': 'literal',\n",
       "     'value': 'lawyer'}},\n",
       "   {'occupation': {'type': 'uri',\n",
       "     'value': 'http://www.wikidata.org/entity/Q82955'},\n",
       "    'occupationLabel': {'xml:lang': 'en',\n",
       "     'type': 'literal',\n",
       "     'value': 'politician'}},\n",
       "   {'occupation': {'type': 'uri',\n",
       "     'value': 'http://www.wikidata.org/entity/Q189290'},\n",
       "    'occupationLabel': {'xml:lang': 'en',\n",
       "     'type': 'literal',\n",
       "     'value': 'military officer'}},\n",
       "   {'occupation': {'type': 'uri',\n",
       "     'value': 'http://www.wikidata.org/entity/Q372436'},\n",
       "    'occupationLabel': {'xml:lang': 'en',\n",
       "     'type': 'literal',\n",
       "     'value': 'statesperson'}},\n",
       "   {'occupation': {'type': 'uri',\n",
       "     'value': 'http://www.wikidata.org/entity/Q18814623'},\n",
       "    'occupationLabel': {'xml:lang': 'en',\n",
       "     'type': 'literal',\n",
       "     'value': 'autobiographer'}}]}}"
      ]
     },
     "execution_count": 290,
     "metadata": {},
     "output_type": "execute_result"
    }
   ],
   "source": [
    "# occupation query\n",
    "query=\"\"\"\n",
    "SELECT ?occupation ?occupationLabel\n",
    "WHERE \n",
    "{\n",
    "wd:\"\"\"+Q+\"\"\" wdt:P106 ?occupation.\n",
    "\n",
    "SERVICE wikibase:label { bd:serviceParam wikibase:language \"en\". }\n",
    "}\"\"\"\n",
    "\n",
    "sparqlwd.setQuery(query)\n",
    "\n",
    "sparqlwd.query().convert()"
   ]
  },
  {
   "cell_type": "code",
   "execution_count": 294,
   "metadata": {},
   "outputs": [
    {
     "data": {
      "text/plain": [
       "{'head': {'vars': ['party', 'partyLabel', 'startyearLabel', 'endyearLabel']},\n",
       " 'results': {'bindings': [{'party': {'type': 'uri',\n",
       "     'value': 'http://www.wikidata.org/entity/Q841133'},\n",
       "    'partyLabel': {'xml:lang': 'en',\n",
       "     'type': 'literal',\n",
       "     'value': 'National Democratic Party'},\n",
       "    'startyearLabel': {'type': 'literal', 'value': '1977-01-01T00:00:00Z'},\n",
       "    'endyearLabel': {'type': 'literal', 'value': '1981-01-01T00:00:00Z'}},\n",
       "   {'party': {'type': 'uri',\n",
       "     'value': 'http://www.wikidata.org/entity/Q624111'},\n",
       "    'partyLabel': {'xml:lang': 'en',\n",
       "     'type': 'literal',\n",
       "     'value': 'Arab Socialist Union'},\n",
       "    'startyearLabel': {'type': 'literal', 'value': '1962-01-01T00:00:00Z'},\n",
       "    'endyearLabel': {'type': 'literal', 'value': '1977-01-01T00:00:00Z'}}]}}"
      ]
     },
     "execution_count": 294,
     "metadata": {},
     "output_type": "execute_result"
    }
   ],
   "source": [
    "# political party query\n",
    "query=\"\"\"\n",
    "SELECT ?party ?partyLabel ?startyearLabel ?endyearLabel\n",
    "WHERE \n",
    "{\n",
    "wd:\"\"\"+Q+\"\"\" p:P102 ?statement1.\n",
    "?statement1 ps:P102 ?party.\n",
    "OPTIONAL{?statement1 pq:P580 ?startyear.}\n",
    "OPTIONAL{?statement1 pq:P582 ?endyear.}\n",
    "\n",
    "SERVICE wikibase:label { bd:serviceParam wikibase:language \"en\". }\n",
    "}\"\"\"\n",
    "\n",
    "sparqlwd.setQuery(query)\n",
    "\n",
    "sparqlwd.query().convert()"
   ]
  },
  {
   "cell_type": "code",
   "execution_count": 295,
   "metadata": {},
   "outputs": [
    {
     "data": {
      "text/plain": [
       "{'head': {'vars': ['memberof',\n",
       "   'memberofLabel',\n",
       "   'startyearLabel',\n",
       "   'endyearLabel']},\n",
       " 'results': {'bindings': [{'memberof': {'type': 'uri',\n",
       "     'value': 'http://www.wikidata.org/entity/Q781607'},\n",
       "    'memberofLabel': {'xml:lang': 'en',\n",
       "     'type': 'literal',\n",
       "     'value': 'Free Officers Movement'}}]}}"
      ]
     },
     "execution_count": 295,
     "metadata": {},
     "output_type": "execute_result"
    }
   ],
   "source": [
    "# memberof query\n",
    "query=\"\"\"\n",
    "SELECT ?memberof ?memberofLabel ?startyearLabel ?endyearLabel\n",
    "WHERE \n",
    "{\n",
    "wd:\"\"\"+Q+\"\"\" p:P463 ?statement1.\n",
    "?statement1 ps:P463 ?memberof.\n",
    "OPTIONAL{?statement1 pq:P580 ?startyear.}\n",
    "OPTIONAL{?statement1 pq:P582 ?endyear.}\n",
    "\n",
    "SERVICE wikibase:label { bd:serviceParam wikibase:language \"en\". }\n",
    "}\"\"\"\n",
    "\n",
    "sparqlwd.setQuery(query)\n",
    "\n",
    "sparqlwd.query().convert()"
   ]
  },
  {
   "cell_type": "code",
   "execution_count": 301,
   "metadata": {},
   "outputs": [
    {
     "data": {
      "text/plain": [
       "{'head': {'vars': ['educatedat', 'educatedatLabel']},\n",
       " 'results': {'bindings': [{'educatedat': {'type': 'uri',\n",
       "     'value': 'http://www.wikidata.org/entity/Q3603942'},\n",
       "    'educatedatLabel': {'xml:lang': 'en',\n",
       "     'type': 'literal',\n",
       "     'value': 'Egyptian Military Academy'}}]}}"
      ]
     },
     "execution_count": 301,
     "metadata": {},
     "output_type": "execute_result"
    }
   ],
   "source": [
    "# educatedat query\n",
    "query=\"\"\"\n",
    "SELECT ?educatedat ?educatedatLabel\n",
    "WHERE \n",
    "{\n",
    "wd:\"\"\"+Q+\"\"\" wdt:P69 ?educatedat.\n",
    "\n",
    "SERVICE wikibase:label { bd:serviceParam wikibase:language \"en\". }\n",
    "}\"\"\"\n",
    "\n",
    "sparqlwd.setQuery(query)\n",
    "\n",
    "sparqlwd.query().convert()"
   ]
  },
  {
   "cell_type": "code",
   "execution_count": 302,
   "metadata": {},
   "outputs": [
    {
     "data": {
      "text/plain": [
       "{'head': {'vars': ['religion', 'religionLabel']},\n",
       " 'results': {'bindings': [{'religion': {'type': 'uri',\n",
       "     'value': 'http://www.wikidata.org/entity/Q483654'},\n",
       "    'religionLabel': {'xml:lang': 'en',\n",
       "     'type': 'literal',\n",
       "     'value': 'Sunni Islam'}}]}}"
      ]
     },
     "execution_count": 302,
     "metadata": {},
     "output_type": "execute_result"
    }
   ],
   "source": [
    "# religion query\n",
    "query=\"\"\"\n",
    "SELECT ?religion ?religionLabel\n",
    "WHERE \n",
    "{\n",
    "wd:\"\"\"+Q+\"\"\" wdt:P140 ?religion.\n",
    "\n",
    "SERVICE wikibase:label { bd:serviceParam wikibase:language \"en\". }\n",
    "}\"\"\"\n",
    "\n",
    "sparqlwd.setQuery(query)\n",
    "\n",
    "sparqlwd.query().convert()"
   ]
  }
 ],
 "metadata": {
  "kernelspec": {
   "display_name": "Python 3",
   "language": "python",
   "name": "python3"
  },
  "language_info": {
   "codemirror_mode": {
    "name": "ipython",
    "version": 3
   },
   "file_extension": ".py",
   "mimetype": "text/x-python",
   "name": "python",
   "nbconvert_exporter": "python",
   "pygments_lexer": "ipython3",
   "version": "3.8.8"
  },
  "orig_nbformat": 4,
  "vscode": {
   "interpreter": {
    "hash": "aee8b7b246df8f9039afb4144a1f6fd8d2ca17a180786b69acc140d282b71a49"
   }
  }
 },
 "nbformat": 4,
 "nbformat_minor": 2
}
