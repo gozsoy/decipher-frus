{
 "cells": [
  {
   "cell_type": "code",
   "execution_count": 1,
   "metadata": {},
   "outputs": [],
   "source": [
    "import re\n",
    "import glob\n",
    "import spacy\n",
    "import pandas as pd\n",
    "from tqdm import tqdm\n",
    "import xml.etree.ElementTree as ET\n",
    "import ray\n",
    "\n",
    "# define namespaces in FRUS schema\n",
    "ns = {'xml': 'http://www.w3.org/XML/1998/namespace',\n",
    "      'dflt': 'http://www.tei-c.org/ns/1.0',\n",
    "      'frus': 'http://history.state.gov/frus/ns/1.0',\n",
    "      'xi': 'http://www.w3.org/2001/XInclude'\n",
    "      }\n",
    "\n",
    "# define path to save extracted files\n",
    "tables_path = 'tables/tables_52_88_demo/'\n",
    "\n",
    "# only use documents within these years\n",
    "start_year, end_year = 1952, 1958\n",
    "\n",
    "nlp = spacy.load('en_core_web_sm')"
   ]
  },
  {
   "attachments": {},
   "cell_type": "markdown",
   "metadata": {},
   "source": [
    "### PART 1: EXTRACT REDACTIONS"
   ]
  },
  {
   "cell_type": "code",
   "execution_count": 2,
   "metadata": {},
   "outputs": [],
   "source": [
    "# helper function 1 step 1\n",
    "# helper function for parsing redactions in a document\n",
    "@ray.remote\n",
    "def extract_redaction(doc, volume):\n",
    "\n",
    "    doc_redaction_list = []\n",
    "\n",
    "    # id\n",
    "    id_to_text = volume + '_' + doc.attrib['{http://www.w3.org/XML/1998/namespace}id']\n",
    "\n",
    "    # redaction text and amount\n",
    "    for el in doc.findall('.//dflt:hi[@rend=\"italic\"]', ns):\n",
    "        temp_txt = \"\".join(el.itertext())\n",
    "        temp_txt = \" \".join(temp_txt.split()) # remove \\n\n",
    "        if re.search('not declassified',temp_txt): # if redaction identified\n",
    "\n",
    "            chunks = []\n",
    "            doc = nlp(temp_txt)\n",
    "            for chunk in doc.noun_chunks:\n",
    "                chunks.append(\"\".join(chunk.text))\n",
    "                \n",
    "            doc_redaction_list.append({'id_to_text':id_to_text,'raw_text':temp_txt,'detected_chunks':chunks})\n",
    "    \n",
    "    return doc_redaction_list"
   ]
  },
  {
   "cell_type": "code",
   "execution_count": 3,
   "metadata": {},
   "outputs": [
    {
     "name": "stderr",
     "output_type": "stream",
     "text": [
      "2023-05-09 12:45:10,565\tWARNING worker.py:1257 -- Warning: The remote function __main__.extract_redaction is very large (15 MiB). Check that its definition is not implicitly capturing a large array or other object in scope. Tip: use ray.put() to put large objects in the Ray object store.\n"
     ]
    }
   ],
   "source": [
    "# initialize parallel operation\n",
    "ray.init(num_cpus=13)\n",
    "\n",
    "# variables to merge information from all volumes\n",
    "global_redaction_list = []\n",
    "\n",
    "# main loop over all volumes\n",
    "for file in glob.glob('volumes/frus*'):\n",
    "    file_start_year = int(file[12:16])\n",
    "    \n",
    "    # if volume date is within specified dates\n",
    "    if file_start_year >= start_year and file_start_year<=end_year:\n",
    "\n",
    "        volume = file[8:-4]\n",
    "\n",
    "        tree = ET.parse(file)\n",
    "        root = tree.getroot()\n",
    "\n",
    "        # find all documents in volume\n",
    "        docs = root.findall('./dflt:text/dflt:body//dflt:div[@type=\"document\"]', ns)\n",
    "\n",
    "        futures = [extract_redaction.remote(doc, volume) for doc in docs]\n",
    "        result_tuple_list = ray.get(futures)\n",
    "\n",
    "        global_redaction_list += sum(result_tuple_list, [])\n",
    " \n",
    "# close parallel processes\n",
    "ray.shutdown()\n",
    "\n",
    "# convert results to pd dataframe\n",
    "redaction_df = pd.DataFrame(global_redaction_list)"
   ]
  },
  {
   "attachments": {},
   "cell_type": "markdown",
   "metadata": {},
   "source": [
    "### PART 2: PROCESS EXTRACTED REDACTIONS"
   ]
  },
  {
   "cell_type": "code",
   "execution_count": 5,
   "metadata": {},
   "outputs": [
    {
     "name": "stderr",
     "output_type": "stream",
     "text": [
      "100%|██████████| 4517/4517 [00:18<00:00, 247.53it/s]\n"
     ]
    }
   ],
   "source": [
    "# count redaction type's frequencies\n",
    "type_dict = {}\n",
    "\n",
    "for idx,temp_text in enumerate(tqdm(redaction_df['raw_text'])):\n",
    "\n",
    "    # this symbol is problematic, remove it\n",
    "    temp_text = temp_text.replace('½', '')\n",
    "    \n",
    "    doc = nlp(temp_text)\n",
    "\n",
    "    for token in doc:\n",
    "        if token.pos_ == 'NOUN':\n",
    "            cnt = type_dict.get(token.lemma_,0)+1\n",
    "            type_dict[token.lemma_] = cnt"
   ]
  },
  {
   "cell_type": "code",
   "execution_count": 9,
   "metadata": {},
   "outputs": [
    {
     "name": "stderr",
     "output_type": "stream",
     "text": [
      " 34%|███▍      | 1551/4517 [00:06<00:11, 256.08it/s]"
     ]
    },
    {
     "name": "stdout",
     "output_type": "stream",
     "text": [
      "Ragged reduction format. Multi-paranthesis use in 1520,1 paragraph (13 lines of source text) and footnote (4 lines of source text) not declassified\n"
     ]
    },
    {
     "name": "stderr",
     "output_type": "stream",
     "text": [
      " 36%|███▌      | 1634/4517 [00:06<00:11, 257.97it/s]"
     ]
    },
    {
     "name": "stdout",
     "output_type": "stream",
     "text": [
      "Ragged reduction format. Multi-paranthesis use in 1591,item (b) (47 words) not declassified; President’s comments on item (b) from memorandum by Goodpaster attached to Wilson’s memorandum not declassified\n"
     ]
    },
    {
     "name": "stderr",
     "output_type": "stream",
     "text": [
      " 41%|████      | 1842/4517 [00:07<00:10, 254.26it/s]"
     ]
    },
    {
     "name": "stdout",
     "output_type": "stream",
     "text": [
      "Ragged reduction format. Multi-paranthesis use in 1808,Subparagraph (b) (2½ lines of source text) not declassified\n",
      "Ragged reduction format. Multi-paranthesis use in 1841,2 paragraphs (14½ lines of source text) and footnote (6 lines of text) not declassified\n"
     ]
    },
    {
     "name": "stderr",
     "output_type": "stream",
     "text": [
      " 78%|███████▊  | 3525/4517 [00:13<00:03, 260.11it/s]"
     ]
    },
    {
     "name": "stdout",
     "output_type": "stream",
     "text": [
      "Ragged reduction format. Multi-paranthesis use in 3476,3 paragraphs (29 lines of source text) and footnote (3 lines of text) not declassified\n"
     ]
    },
    {
     "name": "stderr",
     "output_type": "stream",
     "text": [
      " 80%|████████  | 3630/4517 [00:13<00:03, 251.34it/s]"
     ]
    },
    {
     "name": "stdout",
     "output_type": "stream",
     "text": [
      "Ragged reduction format. Multi-paranthesis use in 3591,Subparagraph (3) (1½ lines of source text) not declassified\n"
     ]
    },
    {
     "name": "stderr",
     "output_type": "stream",
     "text": [
      " 96%|█████████▌| 4335/4517 [00:16<00:00, 248.05it/s]"
     ]
    },
    {
     "name": "stdout",
     "output_type": "stream",
     "text": [
      "Ragged reduction format. Multi-paranthesis use in 4308,Numbered paragraph (6) (61/2 lines of source text) not declassified\n",
      "Ragged reduction format. Multi-paranthesis use in 4357,Paragraph (C) (14½ lines of source text) not declassified\n"
     ]
    },
    {
     "name": "stderr",
     "output_type": "stream",
     "text": [
      " 98%|█████████▊| 4414/4517 [00:16<00:00, 243.82it/s]"
     ]
    },
    {
     "name": "stdout",
     "output_type": "stream",
     "text": [
      "Ragged reduction format. Multi-paranthesis use in 4377,Subparagraphs (d) and (e) (81/2 lines of source text) not declassified\n",
      "Ragged reduction format. Multi-paranthesis use in 4410,paragraphs 18–a (4 lines of source text) and 18–a–l (31/2 lines of source text) not declassified\n",
      "Ragged reduction format. Multi-paranthesis use in 4413,paragraphs 19–a (11/2 lines of source text) and 19–a–l (31/2 lines of source text) not declassified\n"
     ]
    },
    {
     "name": "stderr",
     "output_type": "stream",
     "text": [
      "100%|██████████| 4517/4517 [00:17<00:00, 260.15it/s]\n"
     ]
    }
   ],
   "source": [
    "type_col = []\n",
    "amount_col = []\n",
    "\n",
    "for idx,temp_text in enumerate(tqdm(redaction_df['raw_text'])):\n",
    "\n",
    "    # find paranthesis in raw redaction text, if exist\n",
    "    result = re.findall('\\((.*?)\\)',temp_text)\n",
    "    # only use first paranthesis further\n",
    "    if len(result)==1:\n",
    "        temp_text = result[0]\n",
    "    # resolve multi-paranthesis cases by hand.\n",
    "    # prints these for debugging purposes\n",
    "    elif len(result)>1:\n",
    "        print(f'Untidy reduction format. Multi-paranthesis use in row {idx}: {temp_text}')\n",
    "\n",
    "    # this symbol is problematic, remove it\n",
    "    temp_text = temp_text.replace('½', '') \n",
    "    doc = nlp(temp_text)\n",
    "\n",
    "    # select most relevant noun chunk\n",
    "    chunk = None\n",
    "    if len(list(doc.noun_chunks))==1:\n",
    "        chunk = list(doc.noun_chunks)[0]\n",
    "    elif len(list(doc.noun_chunks))>1:\n",
    "        max_count = -1 \n",
    "\n",
    "        for temp_chunk in doc.noun_chunks:\n",
    "            for token in temp_chunk:\n",
    "                if token.pos_ == 'NOUN':\n",
    "                    temp_count = type_dict[token.lemma_]\n",
    "\n",
    "                    if temp_count > max_count:\n",
    "                        max_count = temp_count\n",
    "                        chunk = temp_chunk\n",
    "\n",
    "    # separate type and amount for selected noun chunk, if possible\n",
    "    if chunk is None:\n",
    "        type_col.append(None)\n",
    "        amount_col.append(None)\n",
    "    else:       \n",
    "        type_ = ''\n",
    "        amount = ''\n",
    "        for token in chunk:\n",
    "            if token.like_num:\n",
    "                amount += token.text\n",
    "            elif token.pos_ == 'NOUN' or token.pos_ == 'PROPN':\n",
    "                type_ += token.lemma_   \n",
    "        \n",
    "        type_col.append(type_)\n",
    "        amount_col.append(amount)\n",
    "\n",
    "redaction_df['type_col'] = type_col\n",
    "redaction_df['amount_col'] = amount_col\n",
    "\n",
    "# helper function 1 step 2\n",
    "# converts a str to float if possible\n",
    "def convert_str2float(x):\n",
    "    try:\n",
    "        return float(eval(x))\n",
    "    except:\n",
    "        return None\n",
    "    \n",
    "redaction_df['amount_col'] = redaction_df['amount_col'].apply(lambda x: convert_str2float(x))\n",
    "\n",
    "\n",
    "redaction_df.reset_index(drop=False,inplace=True)\n",
    "redaction_df.rename(columns={'index':'redaction_id'},inplace=True)\n",
    "redaction_df.to_parquet(tables_path+'redaction.parquet')"
   ]
  }
 ],
 "metadata": {
  "kernelspec": {
   "display_name": "Python 3",
   "language": "python",
   "name": "python3"
  },
  "language_info": {
   "codemirror_mode": {
    "name": "ipython",
    "version": 3
   },
   "file_extension": ".py",
   "mimetype": "text/x-python",
   "name": "python",
   "nbconvert_exporter": "python",
   "pygments_lexer": "ipython3",
   "version": "3.8.8"
  },
  "orig_nbformat": 4,
  "vscode": {
   "interpreter": {
    "hash": "aee8b7b246df8f9039afb4144a1f6fd8d2ca17a180786b69acc140d282b71a49"
   }
  }
 },
 "nbformat": 4,
 "nbformat_minor": 2
}
