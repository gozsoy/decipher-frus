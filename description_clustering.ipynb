{
 "cells": [
  {
   "cell_type": "code",
   "execution_count": 26,
   "metadata": {},
   "outputs": [],
   "source": [
    "import pandas as pd\n",
    "import numpy as np\n",
    "import sklearn"
   ]
  },
  {
   "cell_type": "code",
   "execution_count": 27,
   "metadata": {},
   "outputs": [],
   "source": [
    "new_unified_person_df = pd.read_parquet('tables/new_unified_person_df_final.parquet')"
   ]
  },
  {
   "cell_type": "code",
   "execution_count": null,
   "metadata": {},
   "outputs": [],
   "source": [
    "new_unified_person_df"
   ]
  },
  {
   "cell_type": "code",
   "execution_count": 28,
   "metadata": {},
   "outputs": [
    {
     "name": "stderr",
     "output_type": "stream",
     "text": [
      "/Library/Frameworks/Python.framework/Versions/3.8/lib/python3.8/site-packages/tqdm/auto.py:22: TqdmWarning: IProgress not found. Please update jupyter and ipywidgets. See https://ipywidgets.readthedocs.io/en/stable/user_install.html\n",
      "  from .autonotebook import tqdm as notebook_tqdm\n"
     ]
    }
   ],
   "source": [
    "import numpy as np\n",
    "from sentence_transformers import SentenceTransformer,util\n",
    "\n",
    "model = SentenceTransformer('all-MiniLM-L6-v2')"
   ]
  },
  {
   "cell_type": "code",
   "execution_count": 37,
   "metadata": {},
   "outputs": [
    {
     "name": "stderr",
     "output_type": "stream",
     "text": [
      "/Library/Frameworks/Python.framework/Versions/3.8/lib/python3.8/site-packages/sklearn/manifold/_t_sne.py:780: FutureWarning: The default initialization in TSNE will change from 'random' to 'pca' in 1.2.\n",
      "  warnings.warn(\n",
      "/Library/Frameworks/Python.framework/Versions/3.8/lib/python3.8/site-packages/sklearn/manifold/_t_sne.py:790: FutureWarning: The default learning rate in TSNE will change from 200.0 to 'auto' in 1.2.\n",
      "  warnings.warn(\n"
     ]
    },
    {
     "data": {
      "text/plain": [
       "<matplotlib.collections.PathCollection at 0x7f79e11fc160>"
      ]
     },
     "execution_count": 37,
     "metadata": {},
     "output_type": "execute_result"
    },
    {
     "data": {
      "image/png": "[encoded data removed]",
      "text/plain": [
       "<Figure size 432x288 with 1 Axes>"
      ]
     },
     "metadata": {
      "needs_background": "light"
     },
     "output_type": "display_data"
    }
   ],
   "source": [
    "from sklearn.manifold import TSNE\n",
    "from sklearn.decomposition import PCA\n",
    "from sklearn.cluster import DBSCAN\n",
    "from sklearn import metrics\n",
    "import matplotlib.pyplot as plt\n",
    "\n",
    "temp_descp_list = new_unified_person_df['description_list'].iloc[21]\n",
    "descp_embeddings = model.encode(temp_descp_list)\n",
    "\n",
    "dim_reducer = TSNE()\n",
    "reduced_emb = dim_reducer.fit_transform(descp_embeddings)\n",
    "\n",
    "clusterer = DBSCAN(eps=0.5, min_samples=3)\n",
    "clusterer.fit(reduced_emb)\n",
    "labels = clusterer.labels_\n",
    "\n",
    "plt.scatter(reduced_emb[:,0],reduced_emb[:,1],c=labels)"
   ]
  },
  {
   "cell_type": "code",
   "execution_count": 38,
   "metadata": {},
   "outputs": [],
   "source": [
    "cos_sim = util.cos_sim(descp_embeddings, descp_embeddings)\n",
    "\n",
    "clusterer = DBSCAN(eps=0.5, min_samples=3)\n",
    "clusterer.fit(cos_sim)\n",
    "labels = clusterer.labels_"
   ]
  },
  {
   "cell_type": "code",
   "execution_count": 39,
   "metadata": {},
   "outputs": [
    {
     "data": {
      "text/html": [
       "<div>\n",
       "<style scoped>\n",
       "    .dataframe tbody tr th:only-of-type {\n",
       "        vertical-align: middle;\n",
       "    }\n",
       "\n",
       "    .dataframe tbody tr th {\n",
       "        vertical-align: top;\n",
       "    }\n",
       "\n",
       "    .dataframe thead th {\n",
       "        text-align: right;\n",
       "    }\n",
       "</style>\n",
       "<table border=\"1\" class=\"dataframe\">\n",
       "  <thead>\n",
       "    <tr style=\"text-align: right;\">\n",
       "      <th></th>\n",
       "      <th>description</th>\n",
       "      <th>cluster</th>\n",
       "    </tr>\n",
       "  </thead>\n",
       "  <tbody>\n",
       "    <tr>\n",
       "      <th>0</th>\n",
       "      <td>British Prime Minister from 1940 until 1945, and again from 1951 until April 1955</td>\n",
       "      <td>0</td>\n",
       "    </tr>\n",
       "    <tr>\n",
       "      <th>1</th>\n",
       "      <td>former British Prime Minister (1940–1945, 1951–1955)</td>\n",
       "      <td>0</td>\n",
       "    </tr>\n",
       "    <tr>\n",
       "      <th>2</th>\n",
       "      <td>British Prime Minister from May 1940 until July 1945 and from October 1951 until April 1955</td>\n",
       "      <td>0</td>\n",
       "    </tr>\n",
       "  </tbody>\n",
       "</table>\n",
       "</div>"
      ],
      "text/plain": [
       "                                                                                   description  \\\n",
       "0            British Prime Minister from 1940 until 1945, and again from 1951 until April 1955   \n",
       "1                                         former British Prime Minister (1940–1945, 1951–1955)   \n",
       "2  British Prime Minister from May 1940 until July 1945 and from October 1951 until April 1955   \n",
       "\n",
       "   cluster  \n",
       "0        0  \n",
       "1        0  \n",
       "2        0  "
      ]
     },
     "execution_count": 39,
     "metadata": {},
     "output_type": "execute_result"
    }
   ],
   "source": [
    "pd.set_option('display.max_colwidth', None)\n",
    "pd.DataFrame.from_dict({'description':temp_descp_list,'cluster':labels}).sort_values('cluster')"
   ]
  },
  {
   "cell_type": "code",
   "execution_count": 49,
   "metadata": {},
   "outputs": [
    {
     "data": {
      "text/plain": [
       "array(['USA, Commander of the United States Military Assistance Command, Vietnam',\n",
       "       'General, USA, Commander, United States Military Assistance Command, Vietnam',\n",
       "       'Major General, USA, Commander of the United States Military Assistance Command, Vietnam',\n",
       "       'General, USA, Army Chief of Staff until September 4, 1974',\n",
       "       'General, USA; Commander, United States Military Assistance Command, Vietnam (MACV) from July 3, 1968, until June 28, 1972; Army Chief of Staff from October 12, 1972, until September 4, 1974',\n",
       "       'General, USA; Chief of Staff until September 4, 1974',\n",
       "       'General, USA, Commander, United States Military Assistance Command, Vietnam until June 28, 1972; Chief of Staff, USA, from October 12',\n",
       "       'General, USA, Commander, United States Military Assistance Command, Vietnam until June 28, 1972; Chief of Staff, USA, from October 12',\n",
       "       'General, USA; Commander, Military Assistance Command Vietnam until June 28, 1972; Chief of Staff, U.S. Army from October 12, 1972',\n",
       "       'General, USA, Commander, Military Assistance Command Vietnam until June 28, 1972; Chief of Staff, U.S. Army from October 12, 1972',\n",
       "       'USA, Commander, U.S. Military Assistance Command, Vietnam; thereafter, Army Chief of Staff, USA',\n",
       "       'USA, Army Chief of Staff until his death in September 1974',\n",
       "       'USA, Commander, U.S. Military Assistance Command, Vietnam; thereafter, Army Chief of Staff, USA',\n",
       "       'USA, Commander, U.S. Military Assistance Command, Vietnam',\n",
       "       'USA, Chief of Staff, U.S. Army, from October 1972',\n",
       "       'USA, Commander, U.S. Military Assistance Command, Vietnam; Army Chief of Staff from July 1972',\n",
       "       'General, USA; Army Chief of Staff until September 1974',\n",
       "       'General, USA, Commander, U.S. Military Command, Vietnam; Army Chief of Staff from October 12, 1972'],\n",
       "      dtype=object)"
      ]
     },
     "execution_count": 49,
     "metadata": {},
     "output_type": "execute_result"
    }
   ],
   "source": [
    "new_unified_person_df['description_list'].iloc[0]"
   ]
  },
  {
   "cell_type": "code",
   "execution_count": null,
   "metadata": {},
   "outputs": [],
   "source": []
  },
  {
   "cell_type": "code",
   "execution_count": null,
   "metadata": {},
   "outputs": [],
   "source": []
  },
  {
   "cell_type": "code",
   "execution_count": null,
   "metadata": {},
   "outputs": [],
   "source": []
  },
  {
   "cell_type": "code",
   "execution_count": null,
   "metadata": {},
   "outputs": [],
   "source": [
    "role_df = pd.read_parquet('tables/person_role_69_76.parquet')"
   ]
  },
  {
   "cell_type": "code",
   "execution_count": 47,
   "metadata": {},
   "outputs": [
    {
     "data": {
      "text/html": [
       "<div>\n",
       "<style scoped>\n",
       "    .dataframe tbody tr th:only-of-type {\n",
       "        vertical-align: middle;\n",
       "    }\n",
       "\n",
       "    .dataframe tbody tr th {\n",
       "        vertical-align: top;\n",
       "    }\n",
       "\n",
       "    .dataframe thead th {\n",
       "        text-align: right;\n",
       "    }\n",
       "</style>\n",
       "<table border=\"1\" class=\"dataframe\">\n",
       "  <thead>\n",
       "    <tr style=\"text-align: right;\">\n",
       "      <th></th>\n",
       "      <th>name_set</th>\n",
       "      <th>info_name</th>\n",
       "      <th>info_tag</th>\n",
       "      <th>start_year</th>\n",
       "      <th>end_year</th>\n",
       "    </tr>\n",
       "  </thead>\n",
       "  <tbody>\n",
       "    <tr>\n",
       "      <th>0</th>\n",
       "      <td>Abrams Creighton General Major W.</td>\n",
       "      <td>Vice Chief of Staff of the United States Army</td>\n",
       "      <td>http://www.wikidata.org/entity/Q1355859</td>\n",
       "      <td>1964-01-01T00:00:00Z</td>\n",
       "      <td>1967-01-01T00:00:00Z</td>\n",
       "    </tr>\n",
       "    <tr>\n",
       "      <th>0</th>\n",
       "      <td>Abrams Creighton General Major W.</td>\n",
       "      <td>Chief of Staff of the United States Army</td>\n",
       "      <td>http://www.wikidata.org/entity/Q783785</td>\n",
       "      <td>1972-10-12T00:00:00Z</td>\n",
       "      <td>1974-09-04T00:00:00Z</td>\n",
       "    </tr>\n",
       "    <tr>\n",
       "      <th>0</th>\n",
       "      <td>Agnew Spiro T.</td>\n",
       "      <td>Vice President of the United States</td>\n",
       "      <td>http://www.wikidata.org/entity/Q11699</td>\n",
       "      <td>1969-01-20T00:00:00Z</td>\n",
       "      <td>1973-10-10T00:00:00Z</td>\n",
       "    </tr>\n",
       "    <tr>\n",
       "      <th>0</th>\n",
       "      <td>Agnew Spiro T.</td>\n",
       "      <td>Governor of Maryland</td>\n",
       "      <td>http://www.wikidata.org/entity/Q693032</td>\n",
       "      <td>1967-01-25T00:00:00Z</td>\n",
       "      <td>1969-01-07T00:00:00Z</td>\n",
       "    </tr>\n",
       "    <tr>\n",
       "      <th>0</th>\n",
       "      <td>Agnew Spiro T.</td>\n",
       "      <td>Executive of Baltimore County, Maryland</td>\n",
       "      <td>http://www.wikidata.org/entity/Q4852842</td>\n",
       "      <td>1962-01-01T00:00:00Z</td>\n",
       "      <td>1966-01-01T00:00:00Z</td>\n",
       "    </tr>\n",
       "    <tr>\n",
       "      <th>...</th>\n",
       "      <td>...</td>\n",
       "      <td>...</td>\n",
       "      <td>...</td>\n",
       "      <td>...</td>\n",
       "      <td>...</td>\n",
       "    </tr>\n",
       "    <tr>\n",
       "      <th>0</th>\n",
       "      <td>H. Johannes Witteveen</td>\n",
       "      <td>Managing Director of the International Monetary Fund</td>\n",
       "      <td>http://www.wikidata.org/entity/Q20054152</td>\n",
       "      <td>1973-09-01T00:00:00Z</td>\n",
       "      <td>1978-06-16T00:00:00Z</td>\n",
       "    </tr>\n",
       "    <tr>\n",
       "      <th>0</th>\n",
       "      <td>Clayton Yeutter</td>\n",
       "      <td>Counselor to the President</td>\n",
       "      <td>http://www.wikidata.org/entity/Q732029</td>\n",
       "      <td>1992-02-01T00:00:00Z</td>\n",
       "      <td>1993-01-20T00:00:00Z</td>\n",
       "    </tr>\n",
       "    <tr>\n",
       "      <th>0</th>\n",
       "      <td>Clayton Yeutter</td>\n",
       "      <td>United States Secretary of Agriculture</td>\n",
       "      <td>http://www.wikidata.org/entity/Q1029955</td>\n",
       "      <td>1989-02-16T00:00:00Z</td>\n",
       "      <td>1991-03-01T00:00:00Z</td>\n",
       "    </tr>\n",
       "    <tr>\n",
       "      <th>0</th>\n",
       "      <td>Farouk I</td>\n",
       "      <td>list of monarchs of the Muhammad Ali Dynasty</td>\n",
       "      <td>http://www.wikidata.org/entity/Q3265575</td>\n",
       "      <td>1936-04-28T00:00:00Z</td>\n",
       "      <td>1952-07-26T00:00:00Z</td>\n",
       "    </tr>\n",
       "    <tr>\n",
       "      <th>0</th>\n",
       "      <td>Farouk I</td>\n",
       "      <td>king</td>\n",
       "      <td>http://www.wikidata.org/entity/Q12097</td>\n",
       "      <td>None</td>\n",
       "      <td>None</td>\n",
       "    </tr>\n",
       "  </tbody>\n",
       "</table>\n",
       "<p>7038 rows × 5 columns</p>\n",
       "</div>"
      ],
      "text/plain": [
       "                             name_set  \\\n",
       "0   Abrams Creighton General Major W.   \n",
       "0   Abrams Creighton General Major W.   \n",
       "0                      Agnew Spiro T.   \n",
       "0                      Agnew Spiro T.   \n",
       "0                      Agnew Spiro T.   \n",
       "..                                ...   \n",
       "0               H. Johannes Witteveen   \n",
       "0                     Clayton Yeutter   \n",
       "0                     Clayton Yeutter   \n",
       "0                            Farouk I   \n",
       "0                            Farouk I   \n",
       "\n",
       "                                               info_name  \\\n",
       "0          Vice Chief of Staff of the United States Army   \n",
       "0               Chief of Staff of the United States Army   \n",
       "0                    Vice President of the United States   \n",
       "0                                   Governor of Maryland   \n",
       "0                Executive of Baltimore County, Maryland   \n",
       "..                                                   ...   \n",
       "0   Managing Director of the International Monetary Fund   \n",
       "0                             Counselor to the President   \n",
       "0                 United States Secretary of Agriculture   \n",
       "0           list of monarchs of the Muhammad Ali Dynasty   \n",
       "0                                                   king   \n",
       "\n",
       "                                    info_tag            start_year  \\\n",
       "0    http://www.wikidata.org/entity/Q1355859  1964-01-01T00:00:00Z   \n",
       "0     http://www.wikidata.org/entity/Q783785  1972-10-12T00:00:00Z   \n",
       "0      http://www.wikidata.org/entity/Q11699  1969-01-20T00:00:00Z   \n",
       "0     http://www.wikidata.org/entity/Q693032  1967-01-25T00:00:00Z   \n",
       "0    http://www.wikidata.org/entity/Q4852842  1962-01-01T00:00:00Z   \n",
       "..                                       ...                   ...   \n",
       "0   http://www.wikidata.org/entity/Q20054152  1973-09-01T00:00:00Z   \n",
       "0     http://www.wikidata.org/entity/Q732029  1992-02-01T00:00:00Z   \n",
       "0    http://www.wikidata.org/entity/Q1029955  1989-02-16T00:00:00Z   \n",
       "0    http://www.wikidata.org/entity/Q3265575  1936-04-28T00:00:00Z   \n",
       "0      http://www.wikidata.org/entity/Q12097                  None   \n",
       "\n",
       "                end_year  \n",
       "0   1967-01-01T00:00:00Z  \n",
       "0   1974-09-04T00:00:00Z  \n",
       "0   1973-10-10T00:00:00Z  \n",
       "0   1969-01-07T00:00:00Z  \n",
       "0   1966-01-01T00:00:00Z  \n",
       "..                   ...  \n",
       "0   1978-06-16T00:00:00Z  \n",
       "0   1993-01-20T00:00:00Z  \n",
       "0   1991-03-01T00:00:00Z  \n",
       "0   1952-07-26T00:00:00Z  \n",
       "0                   None  \n",
       "\n",
       "[7038 rows x 5 columns]"
      ]
     },
     "execution_count": 47,
     "metadata": {},
     "output_type": "execute_result"
    }
   ],
   "source": [
    "role_df"
   ]
  }
 ],
 "metadata": {
  "kernelspec": {
   "display_name": "Python 3",
   "language": "python",
   "name": "python3"
  },
  "language_info": {
   "codemirror_mode": {
    "name": "ipython",
    "version": 3
   },
   "file_extension": ".py",
   "mimetype": "text/x-python",
   "name": "python",
   "nbconvert_exporter": "python",
   "pygments_lexer": "ipython3",
   "version": "3.8.8"
  },
  "orig_nbformat": 4,
  "vscode": {
   "interpreter": {
    "hash": "aee8b7b246df8f9039afb4144a1f6fd8d2ca17a180786b69acc140d282b71a49"
   }
  }
 },
 "nbformat": 4,
 "nbformat_minor": 2
}
