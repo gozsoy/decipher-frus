{
 "cells": [
  {
   "cell_type": "code",
   "execution_count": 1,
   "metadata": {},
   "outputs": [
    {
     "name": "stderr",
     "output_type": "stream",
     "text": [
      "/Library/Frameworks/Python.framework/Versions/3.8/lib/python3.8/site-packages/tqdm/auto.py:22: TqdmWarning: IProgress not found. Please update jupyter and ipywidgets. See https://ipywidgets.readthedocs.io/en/stable/user_install.html\n",
      "  from .autonotebook import tqdm as notebook_tqdm\n"
     ]
    }
   ],
   "source": [
    "import re\n",
    "import glob\n",
    "import spacy\n",
    "import pandas as pd\n",
    "from tqdm import tqdm\n",
    "import xml.etree.ElementTree as ET\n",
    "\n",
    "ns = {'xml': 'http://www.w3.org/XML/1998/namespace',\n",
    "      'dflt': 'http://www.tei-c.org/ns/1.0',\n",
    "      'frus':'http://history.state.gov/frus/ns/1.0',\n",
    "      'xi':'http://www.w3.org/2001/XInclude'\n",
    "      }\n",
    "\n",
    "nlp = spacy.load('en_core_web_sm')"
   ]
  },
  {
   "attachments": {},
   "cell_type": "markdown",
   "metadata": {},
   "source": [
    "frus1964-68v10.xml line 197 on redaction format\n",
    "<p>Bracketed insertions are also used to indicate omitted text that deals with an\n",
    "                    unrelated subject (in roman type) or that remains classified after\n",
    "                    declassification review (in italic type). The amount of material not\n",
    "                    declassified has been noted by indicating the number of lines or pages of source\n",
    "                    text that were omitted. Entire documents withheld for declassification purposes\n",
    "                    have been accounted for and are listed by headings, source notes, and number of\n",
    "                    pages not declassified in their chronological place. All brackets that appear in\n",
    "                    the source text are so identified by footnotes.</p>"
   ]
  },
  {
   "attachments": {},
   "cell_type": "markdown",
   "metadata": {},
   "source": [
    "### PART 1: EXTRACT REDACTIONS"
   ]
  },
  {
   "cell_type": "code",
   "execution_count": 3,
   "metadata": {},
   "outputs": [],
   "source": [
    "def extract_redaction(doc, volume):\n",
    "\n",
    "    global redaction_df\n",
    "\n",
    "    # id\n",
    "    id_to_text = volume + '_' + doc.attrib['{http://www.w3.org/XML/1998/namespace}id']\n",
    "\n",
    "    # redaction text and amount\n",
    "    for el in doc.findall('.//dflt:hi[@rend=\"italic\"]', ns):\n",
    "        temp_txt = \"\".join(el.itertext())\n",
    "        temp_txt = \" \".join(temp_txt.split()) # remove \\n\n",
    "        if re.search('not declassified',temp_txt): # if redaction identified\n",
    "\n",
    "            chunks = []\n",
    "            doc = nlp(temp_txt)\n",
    "            for chunk in doc.noun_chunks:\n",
    "                chunks.append(\"\".join(chunk.text))\n",
    "                \n",
    "\n",
    "            redaction_df = pd.concat((redaction_df, pd.DataFrame({'id_to_text':[id_to_text],'raw_text':[temp_txt],'detected_chunks':[chunks]\n",
    "                                                    })),ignore_index=True)\n",
    "\n",
    "\n",
    "redaction_df = pd.DataFrame(columns=['id_to_text','raw_text','detected_chunks'])\n",
    "\n",
    "\n",
    "# only use documents within these years\n",
    "start_year, end_year = 1952, 1988\n",
    "\n",
    "person_df = pd.DataFrame(columns=['id','name','description'])\n",
    "\n",
    "for file in glob.glob('volumes/frus*'):\n",
    "    file_start_year = int(file[12:16])\n",
    "    \n",
    "    if file_start_year >= start_year and file_start_year<=end_year:\n",
    "\n",
    "        volume = file[8:-4]\n",
    "\n",
    "        tree = ET.parse(file)\n",
    "        root = tree.getroot()\n",
    "\n",
    "        docs = root.findall('./dflt:text/dflt:body//dflt:div[@type=\"document\"]', ns)\n",
    "\n",
    "        for doc in docs:\n",
    "            extract_redaction(doc,volume)"
   ]
  },
  {
   "attachments": {},
   "cell_type": "markdown",
   "metadata": {},
   "source": [
    "### PART 2: PROCESS EXTRACTED REDACTIONS"
   ]
  },
  {
   "cell_type": "code",
   "execution_count": 4,
   "metadata": {},
   "outputs": [
    {
     "name": "stderr",
     "output_type": "stream",
     "text": [
      "100%|██████████| 27468/27468 [01:48<00:00, 252.13it/s]\n"
     ]
    }
   ],
   "source": [
    "# count redaction type's frequencies\n",
    "type_dict = {}\n",
    "\n",
    "for idx,temp_text in enumerate(tqdm(redaction_df['raw_text'])):\n",
    "\n",
    "    temp_text = temp_text.replace('½', '') # this symbol is problematic\n",
    "    doc = nlp(temp_text)\n",
    "\n",
    "    for token in doc:\n",
    "        if token.pos_ == 'NOUN':\n",
    "            cnt = type_dict.get(token.lemma_,0)+1\n",
    "            type_dict[token.lemma_] = cnt"
   ]
  },
  {
   "cell_type": "code",
   "execution_count": 5,
   "metadata": {},
   "outputs": [
    {
     "name": "stderr",
     "output_type": "stream",
     "text": [
      "  9%|▉         | 2490/27468 [00:10<01:45, 237.40it/s]"
     ]
    },
    {
     "name": "stdout",
     "output_type": "stream",
     "text": [
      "ALERT about paranthesis use: 2452,Subparagraphs (c) and (d) (5–1/2 lines of source text) not declassified\n",
      "ALERT about paranthesis use: 2453,Subparagraph (ii) (1–1/2 lines of source text) not declassified\n",
      "ALERT about paranthesis use: 2454,Subparagraph (c) (2 lines of source text) not declassified\n",
      "ALERT about paranthesis use: 2472,Paragraph (3) (less than 1 line of source text) not declassified\n",
      "ALERT about paranthesis use: 2473,(2) The establishment of communication with Hanoi (through the Canadians) and with other adversaries of major importance [less than 1 1ine of source text not declassified].\n"
     ]
    },
    {
     "name": "stderr",
     "output_type": "stream",
     "text": [
      " 50%|█████     | 13789/27468 [00:57<00:59, 230.97it/s]"
     ]
    },
    {
     "name": "stdout",
     "output_type": "stream",
     "text": [
      "ALERT about paranthesis use: 13746,1 paragraph (13 lines of source text) and footnote (4 lines of source text) not declassified\n"
     ]
    },
    {
     "name": "stderr",
     "output_type": "stream",
     "text": [
      " 56%|█████▋    | 15482/27468 [01:04<00:48, 246.63it/s]"
     ]
    },
    {
     "name": "stdout",
     "output_type": "stream",
     "text": [
      "ALERT about paranthesis use: 15438,item (b) (47 words) not declassified; President’s comments on item (b) from memorandum by Goodpaster attached to Wilson’s memorandum not declassified\n"
     ]
    },
    {
     "name": "stderr",
     "output_type": "stream",
     "text": [
      " 66%|██████▌   | 18177/27468 [01:15<00:39, 235.93it/s]"
     ]
    },
    {
     "name": "stdout",
     "output_type": "stream",
     "text": [
      "ALERT about paranthesis use: 18151,Subparagraph (b) (2½ lines of source text) not declassified\n",
      "ALERT about paranthesis use: 18184,2 paragraphs (14½ lines of source text) and footnote (6 lines of text) not declassified\n"
     ]
    },
    {
     "name": "stderr",
     "output_type": "stream",
     "text": [
      " 82%|████████▏ | 22441/27468 [01:32<00:22, 219.92it/s]"
     ]
    },
    {
     "name": "stdout",
     "output_type": "stream",
     "text": [
      "ALERT about paranthesis use: 22420,3 paragraphs (29 lines of source text) and footnote (3 lines of text) not declassified\n"
     ]
    },
    {
     "name": "stderr",
     "output_type": "stream",
     "text": [
      " 82%|████████▏ | 22575/27468 [01:33<00:22, 217.06it/s]"
     ]
    },
    {
     "name": "stdout",
     "output_type": "stream",
     "text": [
      "ALERT about paranthesis use: 22535,Subparagraph (3) (1½ lines of source text) not declassified\n"
     ]
    },
    {
     "name": "stderr",
     "output_type": "stream",
     "text": [
      " 94%|█████████▍| 25925/27468 [01:47<00:06, 235.63it/s]"
     ]
    },
    {
     "name": "stdout",
     "output_type": "stream",
     "text": [
      "ALERT about paranthesis use: 25899,Numbered paragraph (6) (61/2 lines of source text) not declassified\n"
     ]
    },
    {
     "name": "stderr",
     "output_type": "stream",
     "text": [
      " 95%|█████████▍| 25973/27468 [01:47<00:06, 236.51it/s]"
     ]
    },
    {
     "name": "stdout",
     "output_type": "stream",
     "text": [
      "ALERT about paranthesis use: 25948,Paragraph (C) (14½ lines of source text) not declassified\n",
      "ALERT about paranthesis use: 25968,Subparagraphs (d) and (e) (81/2 lines of source text) not declassified\n"
     ]
    },
    {
     "name": "stderr",
     "output_type": "stream",
     "text": [
      " 95%|█████████▍| 26047/27468 [01:48<00:06, 236.59it/s]"
     ]
    },
    {
     "name": "stdout",
     "output_type": "stream",
     "text": [
      "ALERT about paranthesis use: 26001,paragraphs 18–a (4 lines of source text) and 18–a–l (31/2 lines of source text) not declassified\n",
      "ALERT about paranthesis use: 26004,paragraphs 19–a (11/2 lines of source text) and 19–a–l (31/2 lines of source text) not declassified\n"
     ]
    },
    {
     "name": "stderr",
     "output_type": "stream",
     "text": [
      "100%|██████████| 27468/27468 [01:53<00:00, 241.19it/s]\n"
     ]
    }
   ],
   "source": [
    "type_col = []\n",
    "amount_col = []\n",
    "\n",
    "for idx,temp_text in enumerate(tqdm(redaction_df['raw_text'])):\n",
    "\n",
    "    # handle paranthesis\n",
    "    result = re.findall('\\((.*?)\\)',temp_text)\n",
    "    if len(result)==1:\n",
    "        temp_text = result[0]\n",
    "    elif len(result)>1: # for debugging purposes\n",
    "        print(f'ALERT about paranthesis use: {idx},{temp_text}')\n",
    "\n",
    "    temp_text = temp_text.replace('½', '') # this symbol is problematic\n",
    "    doc = nlp(temp_text)\n",
    "\n",
    "    # select most relevant noun chunk\n",
    "    chunk = None\n",
    "    if len(list(doc.noun_chunks))==1:\n",
    "        chunk = list(doc.noun_chunks)[0]\n",
    "    elif len(list(doc.noun_chunks))>1:\n",
    "        max_count = -1 \n",
    "\n",
    "        for temp_chunk in doc.noun_chunks:\n",
    "            for token in temp_chunk:\n",
    "                if token.pos_ == 'NOUN':\n",
    "                    temp_count = type_dict[token.lemma_]\n",
    "\n",
    "                    if temp_count > max_count:\n",
    "                        max_count = temp_count\n",
    "                        chunk = temp_chunk\n",
    "\n",
    "    # separate type and amount, if possible\n",
    "    if chunk is None:\n",
    "        type_col.append(None)\n",
    "        amount_col.append(None)\n",
    "    else:       \n",
    "        type_ = ''\n",
    "        amount = ''\n",
    "        for token in chunk:\n",
    "            if token.like_num:\n",
    "                amount += token.text\n",
    "            elif token.pos_ == 'NOUN' or token.pos_ == 'PROPN':\n",
    "                type_ += token.lemma_   \n",
    "        \n",
    "        type_col.append(type_)\n",
    "        amount_col.append(amount)\n",
    "\n",
    "redaction_df['type_col'] = type_col\n",
    "redaction_df['amount_col'] = amount_col\n",
    "\n",
    "def aux(x):\n",
    "    try:\n",
    "        return float(eval(x))\n",
    "    except:\n",
    "        return None\n",
    "    \n",
    "redaction_df['amount_col'] = redaction_df['amount_col'].apply(lambda x: aux(x))\n",
    "\n",
    "\n",
    "redaction_df.reset_index(drop=False,inplace=True)\n",
    "redaction_df.rename(columns={'index':'redaction_id'},inplace=True)\n",
    "redaction_df.to_parquet('tables/tables_52_88/redaction.parquet')"
   ]
  }
 ],
 "metadata": {
  "kernelspec": {
   "display_name": "Python 3",
   "language": "python",
   "name": "python3"
  },
  "language_info": {
   "codemirror_mode": {
    "name": "ipython",
    "version": 3
   },
   "file_extension": ".py",
   "mimetype": "text/x-python",
   "name": "python",
   "nbconvert_exporter": "python",
   "pygments_lexer": "ipython3",
   "version": "3.8.8"
  },
  "orig_nbformat": 4,
  "vscode": {
   "interpreter": {
    "hash": "aee8b7b246df8f9039afb4144a1f6fd8d2ca17a180786b69acc140d282b71a49"
   }
  }
 },
 "nbformat": 4,
 "nbformat_minor": 2
}
