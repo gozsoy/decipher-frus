{
 "cells": [
  {
   "cell_type": "code",
   "execution_count": 1,
   "metadata": {},
   "outputs": [
    {
     "name": "stderr",
     "output_type": "stream",
     "text": [
      "/Library/Frameworks/Python.framework/Versions/3.8/lib/python3.8/site-packages/tqdm/auto.py:22: TqdmWarning: IProgress not found. Please update jupyter and ipywidgets. See https://ipywidgets.readthedocs.io/en/stable/user_install.html\n",
      "  from .autonotebook import tqdm as notebook_tqdm\n"
     ]
    }
   ],
   "source": [
    "import re\n",
    "import glob\n",
    "import spacy\n",
    "import pandas as pd\n",
    "from tqdm import tqdm\n",
    "import xml.etree.ElementTree as ET\n",
    "\n",
    "ns = {'xml': 'http://www.w3.org/XML/1998/namespace',\n",
    "      'dflt': 'http://www.tei-c.org/ns/1.0',\n",
    "      'frus':'http://history.state.gov/frus/ns/1.0',\n",
    "      'xi':'http://www.w3.org/2001/XInclude'\n",
    "      }\n",
    "\n",
    "nlp = spacy.load('en_core_web_sm')"
   ]
  },
  {
   "attachments": {},
   "cell_type": "markdown",
   "metadata": {},
   "source": [
    "frus1964-68v10.xml line 197 on redaction format\n",
    "<p>Bracketed insertions are also used to indicate omitted text that deals with an\n",
    "                    unrelated subject (in roman type) or that remains classified after\n",
    "                    declassification review (in italic type). The amount of material not\n",
    "                    declassified has been noted by indicating the number of lines or pages of source\n",
    "                    text that were omitted. Entire documents withheld for declassification purposes\n",
    "                    have been accounted for and are listed by headings, source notes, and number of\n",
    "                    pages not declassified in their chronological place. All brackets that appear in\n",
    "                    the source text are so identified by footnotes.</p>"
   ]
  },
  {
   "attachments": {},
   "cell_type": "markdown",
   "metadata": {},
   "source": [
    "### PART 1: EXTRACT REDACTIONS"
   ]
  },
  {
   "cell_type": "code",
   "execution_count": 2,
   "metadata": {},
   "outputs": [],
   "source": [
    "def extract_redaction(doc, volume):\n",
    "\n",
    "    global redaction_df\n",
    "\n",
    "    # id\n",
    "    id_to_text = volume + '_' + doc.attrib['{http://www.w3.org/XML/1998/namespace}id']\n",
    "\n",
    "    # redaction text and amount\n",
    "    for el in doc.findall('.//dflt:hi[@rend=\"italic\"]', ns):\n",
    "        temp_txt = \"\".join(el.itertext())\n",
    "        temp_txt = \" \".join(temp_txt.split()) # remove \\n\n",
    "        if re.search('not declassified',temp_txt): # if redaction identified\n",
    "\n",
    "            chunks = []\n",
    "            doc = nlp(temp_txt)\n",
    "            for chunk in doc.noun_chunks:\n",
    "                chunks.append(\"\".join(chunk.text))\n",
    "                \n",
    "\n",
    "            redaction_df = pd.concat((redaction_df, pd.DataFrame({'id_to_text':[id_to_text],'raw_text':[temp_txt],'detected_chunks':[chunks]\n",
    "                                                    })),ignore_index=True)\n",
    "\n",
    "\n",
    "redaction_df = pd.DataFrame(columns=['id_to_text','raw_text','detected_chunks'])\n",
    "\n",
    "\n",
    "# only use documents within this years\n",
    "volume_root = 'frus1969-76'\n",
    "\n",
    "for file in glob.glob('volumes/'+volume_root+'*'):\n",
    "#for file in glob.glob('volumes/'+volume_root+'v30.xml'):\n",
    "    volume = file[8:-4]\n",
    "\n",
    "    tree = ET.parse(file)\n",
    "    root = tree.getroot()\n",
    "\n",
    "    docs = root.findall('./dflt:text/dflt:body//dflt:div[@type=\"document\"]', ns)\n",
    "\n",
    "    for doc in docs:\n",
    "        extract_redaction(doc,volume)"
   ]
  },
  {
   "attachments": {},
   "cell_type": "markdown",
   "metadata": {},
   "source": [
    "### PART 2: PROCESS EXTRACTED REDACTIONS"
   ]
  },
  {
   "cell_type": "code",
   "execution_count": 3,
   "metadata": {},
   "outputs": [
    {
     "name": "stderr",
     "output_type": "stream",
     "text": [
      "100%|██████████| 8310/8310 [00:32<00:00, 254.54it/s]\n"
     ]
    }
   ],
   "source": [
    "# count redaction type's frequencies\n",
    "type_dict = {}\n",
    "\n",
    "for idx,temp_text in enumerate(tqdm(redaction_df['raw_text'])):\n",
    "\n",
    "    temp_text = temp_text.replace('½', '') # this symbol is problematic\n",
    "    doc = nlp(temp_text)\n",
    "\n",
    "    for token in doc:\n",
    "        if token.pos_ == 'NOUN':\n",
    "            cnt = type_dict.get(token.lemma_,0)+1\n",
    "            type_dict[token.lemma_] = cnt"
   ]
  },
  {
   "cell_type": "code",
   "execution_count": 4,
   "metadata": {},
   "outputs": [
    {
     "name": "stderr",
     "output_type": "stream",
     "text": [
      "100%|██████████| 8310/8310 [00:33<00:00, 249.97it/s]\n"
     ]
    }
   ],
   "source": [
    "type_col = []\n",
    "amount_col = []\n",
    "\n",
    "for idx,temp_text in enumerate(tqdm(redaction_df['raw_text'])):\n",
    "\n",
    "    # handle paranthesis\n",
    "    result = re.findall('\\((.*?)\\)',temp_text)\n",
    "    if len(result)==1:\n",
    "        temp_text = result[0]\n",
    "    elif len(result)>1: # for debugging purposes\n",
    "        print(f'ALERT about paranthesis use: {idx},{temp_text}')\n",
    "\n",
    "    temp_text = temp_text.replace('½', '') # this symbol is problematic\n",
    "    doc = nlp(temp_text)\n",
    "\n",
    "    # select most relevant noun chunk\n",
    "    chunk = None\n",
    "    if len(list(doc.noun_chunks))==1:\n",
    "        chunk = list(doc.noun_chunks)[0]\n",
    "    elif len(list(doc.noun_chunks))>1:\n",
    "        max_count = -1 \n",
    "\n",
    "        for temp_chunk in doc.noun_chunks:\n",
    "            for token in temp_chunk:\n",
    "                if token.pos_ == 'NOUN':\n",
    "                    temp_count = type_dict[token.lemma_]\n",
    "\n",
    "                    if temp_count > max_count:\n",
    "                        max_count = temp_count\n",
    "                        chunk = temp_chunk\n",
    "\n",
    "    # separate type and amount, if possible\n",
    "    if chunk is None:\n",
    "        type_col.append(None)\n",
    "        amount_col.append(None)\n",
    "    else:       \n",
    "        type_ = ''\n",
    "        amount = ''\n",
    "        for token in chunk:\n",
    "            if token.like_num:\n",
    "                amount += token.text\n",
    "            elif token.pos_ == 'NOUN' or token.pos_ == 'PROPN':\n",
    "                type_ += token.lemma_   \n",
    "        \n",
    "        type_col.append(type_)\n",
    "        amount_col.append(amount)\n",
    "\n",
    "redaction_df['type_col'] = type_col\n",
    "redaction_df['amount_col'] = amount_col\n",
    "\n",
    "def aux(x):\n",
    "    try:\n",
    "        return float(eval(x))\n",
    "    except:\n",
    "        return None\n",
    "    \n",
    "redaction_df['amount_col'] = redaction_df['amount_col'].apply(lambda x: aux(x))\n",
    "\n",
    "\n",
    "redaction_df.reset_index(drop=False,inplace=True)\n",
    "redaction_df.rename(columns={'index':'redaction_id'},inplace=True)\n",
    "redaction_df.to_parquet('tables/redaction_69_76.parquet')"
   ]
  }
 ],
 "metadata": {
  "kernelspec": {
   "display_name": "Python 3",
   "language": "python",
   "name": "python3"
  },
  "language_info": {
   "codemirror_mode": {
    "name": "ipython",
    "version": 3
   },
   "file_extension": ".py",
   "mimetype": "text/x-python",
   "name": "python",
   "nbconvert_exporter": "python",
   "pygments_lexer": "ipython3",
   "version": "3.8.8"
  },
  "orig_nbformat": 4,
  "vscode": {
   "interpreter": {
    "hash": "aee8b7b246df8f9039afb4144a1f6fd8d2ca17a180786b69acc140d282b71a49"
   }
  }
 },
 "nbformat": 4,
 "nbformat_minor": 2
}
