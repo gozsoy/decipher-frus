{
 "cells": [
  {
   "cell_type": "code",
   "execution_count": null,
   "metadata": {},
   "outputs": [],
   "source": [
    "import os\n",
    "import copy\n",
    "import math\n",
    "import pickle\n",
    "import spacy\n",
    "from tqdm import tqdm\n",
    "import numpy as np\n",
    "import pandas as pd\n",
    "import plotly.express as px\n",
    "from graphdatascience import GraphDataScience\n",
    "from sklearn.manifold import TSNE\n",
    "from sklearn.metrics.pairwise import cosine_similarity\n",
    "import ray\n",
    "\n",
    "nlp = spacy.load('en_core_web_sm')\n",
    "\n",
    "tables_path = 'tables/tables_52_88/'\n"
   ]
  },
  {
   "cell_type": "code",
   "execution_count": null,
   "metadata": {},
   "outputs": [],
   "source": [
    "gds = GraphDataScience(\"bolt://localhost:7687\", auth=('neo4j', 'bos'), database='frus5288')\n",
    "\n",
    "embedding_df = gds.run_cypher(\n",
    "    \"\"\"\n",
    "        match (e:DynamicEntity4YearBinned)\n",
    "        return e.name as entity, e['fastrp-embedding'] as fastrp_embedding\n",
    "    \"\"\"\n",
    ")"
   ]
  },
  {
   "cell_type": "code",
   "execution_count": null,
   "metadata": {},
   "outputs": [],
   "source": [
    "reduced_emb_mat = TSNE(n_components=2, perplexity=50).fit_transform(np.stack(embedding_df['fastrp_embedding']))\n",
    "\n",
    "x,y = reduced_emb_mat[:,0],reduced_emb_mat[:,1]\n",
    "\n",
    "fig = px.scatter(x=x, y=y, text=embedding_df['entity'].values, width=900, height=900)\n",
    "fig.write_html(\"ne2vec/69_76_dynamic_mincnt20_fastrp128.html\")"
   ]
  },
  {
   "cell_type": "code",
   "execution_count": null,
   "metadata": {},
   "outputs": [],
   "source": [
    "cossim_mat = cosine_similarity(np.stack(embedding_df['fastrp_embedding']))\n",
    "\n",
    "def most_similar(word, top_n):\n",
    "\n",
    "    word_idx = embedding_df[embedding_df['entity']==word].index[0]\n",
    "\n",
    "    similar_entity_idx = np.argsort(cossim_mat[word_idx])[::-1][1:top_n+1]\n",
    "\n",
    "    similar_entity_names = embedding_df['entity'].values[similar_entity_idx]\n",
    "    similar_entity_sims = cossim_mat[word_idx][similar_entity_idx]\n",
    "\n",
    "    return np.array([similar_entity_names,similar_entity_sims]).T"
   ]
  },
  {
   "cell_type": "code",
   "execution_count": null,
   "metadata": {},
   "outputs": [],
   "source": [
    "entity = 'NATO'\n",
    "\n",
    "bins = list(range(1950, 1990, 4))\n",
    "labels = []\n",
    "for i in range(1, len(bins)):\n",
    "    labels.append(str(bins[i-1])[-2:]+'-'+str(bins[i])[-2:])\n",
    "\n",
    "temp_df = pd.DataFrame()\n",
    "\n",
    "for label in labels:\n",
    "    dynamic_entity = entity+' '+label\n",
    "    try:\n",
    "        result = most_similar(dynamic_entity,10)\n",
    "        similar_entities = list(map(lambda x: x[0][:-6],result))\n",
    "        temp_df = pd.concat([temp_df,pd.DataFrame({label:similar_entities})],axis=1)\n",
    "    except:\n",
    "        continue\n",
    "\n",
    "temp_df = temp_df.reset_index(drop=False)\n",
    "temp_df.rename(columns={'index':'Rank/Bin'},inplace=True)\n",
    "temp_df['Rank/Bin'] = temp_df['Rank/Bin'] + 1\n",
    "\n",
    "temp_df"
   ]
  },
  {
   "cell_type": "code",
   "execution_count": null,
   "metadata": {},
   "outputs": [],
   "source": [
    "entity1 = 'Angola 82-86'\n",
    "entity2 = 'Turkey 82-86'\n",
    "embedding1 = np.array(embedding_df[embedding_df['entity']== entity1]['fastrp_embedding'].values[0]).reshape(1, -1)\n",
    "embedding2 = np.array(embedding_df[embedding_df['entity']== entity2]['fastrp_embedding'].values[0]).reshape(1, -1)\n",
    "\n",
    "cosine_similarity(embedding1,embedding2)"
   ]
  }
 ],
 "metadata": {
  "kernelspec": {
   "display_name": "ml4hc_project2",
   "language": "python",
   "name": "python3"
  },
  "language_info": {
   "codemirror_mode": {
    "name": "ipython",
    "version": 3
   },
   "file_extension": ".py",
   "mimetype": "text/x-python",
   "name": "python",
   "nbconvert_exporter": "python",
   "pygments_lexer": "ipython3",
   "version": "3.8.8"
  },
  "orig_nbformat": 4,
  "vscode": {
   "interpreter": {
    "hash": "17915d4eccf26051373144ab496c4cfde1d85bab0b3b06c6ac905c8927260055"
   }
  }
 },
 "nbformat": 4,
 "nbformat_minor": 2
}
