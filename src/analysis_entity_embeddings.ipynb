{
 "cells": [
  {
   "cell_type": "code",
   "execution_count": 2,
   "metadata": {},
   "outputs": [
    {
     "name": "stderr",
     "output_type": "stream",
     "text": [
      "/Users/gokberk/Desktop/eth_courses/decipher-frus/unified_env/lib/python3.8/site-packages/tqdm/auto.py:22: TqdmWarning: IProgress not found. Please update jupyter and ipywidgets. See https://ipywidgets.readthedocs.io/en/stable/user_install.html\n",
      "  from .autonotebook import tqdm as notebook_tqdm\n"
     ]
    }
   ],
   "source": [
    "import os\n",
    "import copy\n",
    "import math\n",
    "import pickle\n",
    "import spacy\n",
    "from tqdm import tqdm\n",
    "import numpy as np\n",
    "import pandas as pd\n",
    "import plotly.express as px\n",
    "from graphdatascience import GraphDataScience\n",
    "from sklearn.manifold import TSNE\n",
    "from sklearn.metrics.pairwise import cosine_similarity\n",
    "import ray\n",
    "\n",
    "nlp = spacy.load('en_core_web_sm')\n",
    "\n",
    "tables_path = 'tables/tables_52_88/'\n",
    "\n",
    "# these entities will be omitted when found\n",
    "uninformative_entities = ['DATE','TIME','QUANTITY','ORDINAL','CARDINAL','MONEY','PERCENT']\n",
    "\n",
    "# threshold based on count - hyperparameter\n",
    "min_ne_count = 50\n",
    "\n",
    "# bin size in years - hyperparameter\n",
    "bin_size = 4\n",
    "name_extension = '_'+str(bin_size)+'yearbinned'"
   ]
  },
  {
   "cell_type": "code",
   "execution_count": 9,
   "metadata": {},
   "outputs": [
    {
     "data": {
      "text/plain": [
       "Turkey 54-58    673\n",
       "Turkey 50-54    542\n",
       "Turkey 58-62    445\n",
       "Turkey 70-74    357\n",
       "Turkey 74-78    342\n",
       "Turkey 62-66    337\n",
       "Turkey 66-70    332\n",
       "Turkey 78-82    175\n",
       "Turkey 82-86     15\n",
       "Turkey nan       12\n",
       "Name: dynamic_named_entity, dtype: int64"
      ]
     },
     "execution_count": 9,
     "metadata": {},
     "output_type": "execute_result"
    }
   ],
   "source": [
    "ne2doc_df[ne2doc_df['named_entity']=='Turkey']['dynamic_named_entity'].value_counts()"
   ]
  },
  {
   "attachments": {},
   "cell_type": "markdown",
   "metadata": {},
   "source": [
    "##### now:\n",
    "##### 1- execute python3 ne_conversion.py\n",
    "##### 2- run cypher commands in \"ne2vec/cypher_commands.txt\" on database."
   ]
  },
  {
   "cell_type": "code",
   "execution_count": 5,
   "metadata": {},
   "outputs": [],
   "source": [
    "gds = GraphDataScience(\"bolt://localhost:7687\", auth=('neo4j', 'bos'), database='frus5288')\n",
    "\n",
    "embedding_df = gds.run_cypher(\n",
    "    \"\"\"\n",
    "        match (e:DynamicEntity4YearBinned)\n",
    "        return e.name as entity, e['fastrp-embedding'] as fastrp_embedding\n",
    "    \"\"\"\n",
    ")"
   ]
  },
  {
   "cell_type": "code",
   "execution_count": null,
   "metadata": {},
   "outputs": [],
   "source": [
    "reduced_emb_mat = TSNE(n_components=2, perplexity=50).fit_transform(np.stack(embedding_df['fastrp_embedding']))\n",
    "\n",
    "x,y = reduced_emb_mat[:,0],reduced_emb_mat[:,1]\n",
    "\n",
    "fig = px.scatter(x=x, y=y, text=embedding_df['entity'].values, width=900, height=900)\n",
    "fig.write_html(\"ne2vec/69_76_dynamic_mincnt20_fastrp128.html\")"
   ]
  },
  {
   "cell_type": "code",
   "execution_count": 6,
   "metadata": {},
   "outputs": [],
   "source": [
    "cossim_mat = cosine_similarity(np.stack(embedding_df['fastrp_embedding']))\n",
    "\n",
    "def most_similar(word, top_n):\n",
    "\n",
    "    word_idx = embedding_df[embedding_df['entity']==word].index[0]\n",
    "\n",
    "    similar_entity_idx = np.argsort(cossim_mat[word_idx])[::-1][1:top_n+1]\n",
    "\n",
    "    similar_entity_names = embedding_df['entity'].values[similar_entity_idx]\n",
    "    similar_entity_sims = cossim_mat[word_idx][similar_entity_idx]\n",
    "\n",
    "    return np.array([similar_entity_names,similar_entity_sims]).T"
   ]
  },
  {
   "cell_type": "code",
   "execution_count": 92,
   "metadata": {},
   "outputs": [
    {
     "data": {
      "text/plain": [
       "array([['the Argentine Government 78-82', 0.9991129461274546],\n",
       "       ['Islands 78-82', 0.9991089446600828],\n",
       "       ['the Falkland Islands 78-82', 0.9989217215538105],\n",
       "       ['Galtieri 78-82', 0.998819607077223],\n",
       "       ['Buenos Aires 78-82', 0.9988029566236453],\n",
       "       ['North Atlantic 78-82', 0.9986363347037847],\n",
       "       ['Henderson 78-82', 0.9985909515754992],\n",
       "       ['Argentines 78-82', 0.9980166802772713],\n",
       "       ['RAF 78-82', 0.9979366901069627],\n",
       "       ['the South Atlantic 78-82', 0.9978699649030066],\n",
       "       ['Falklands 78-82', 0.9978487026803599],\n",
       "       ['Islanders 78-82', 0.9978153407369099],\n",
       "       ['Costa Mendez 78-82', 0.9975161984650041],\n",
       "       ['Argentine 78-82', 0.9972919972464009],\n",
       "       ['SAM 78-82', 0.9970316558844142]], dtype=object)"
      ]
     },
     "execution_count": 92,
     "metadata": {},
     "output_type": "execute_result"
    }
   ],
   "source": [
    "most_similar('Gibraltar 78-82',15)"
   ]
  },
  {
   "cell_type": "code",
   "execution_count": 153,
   "metadata": {},
   "outputs": [
    {
     "data": {
      "text/plain": [
       "array([[0.98785991]])"
      ]
     },
     "execution_count": 153,
     "metadata": {},
     "output_type": "execute_result"
    }
   ],
   "source": [
    "entity1 = 'Angola 82-86'\n",
    "entity2 = 'Portugal 82-86'\n",
    "embedding1 = np.array(embedding_df[embedding_df['entity']== entity1]['fastrp_embedding'].values[0]).reshape(1, -1)\n",
    "embedding2 = np.array(embedding_df[embedding_df['entity']== entity2]['fastrp_embedding'].values[0]).reshape(1, -1)\n",
    "\n",
    "cosine_similarity(embedding1,embedding2)"
   ]
  }
 ],
 "metadata": {
  "kernelspec": {
   "display_name": "ml4hc_project2",
   "language": "python",
   "name": "python3"
  },
  "language_info": {
   "codemirror_mode": {
    "name": "ipython",
    "version": 3
   },
   "file_extension": ".py",
   "mimetype": "text/x-python",
   "name": "python",
   "nbconvert_exporter": "python",
   "pygments_lexer": "ipython3",
   "version": "3.8.8"
  },
  "orig_nbformat": 4,
  "vscode": {
   "interpreter": {
    "hash": "17915d4eccf26051373144ab496c4cfde1d85bab0b3b06c6ac905c8927260055"
   }
  }
 },
 "nbformat": 4,
 "nbformat_minor": 2
}
