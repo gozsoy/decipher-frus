{
 "cells": [
  {
   "cell_type": "code",
   "execution_count": 1,
   "metadata": {},
   "outputs": [],
   "source": [
    "import re\n",
    "import pandas as pd\n",
    "from datetime import datetime\n",
    "import xml.etree.ElementTree as ET"
   ]
  },
  {
   "cell_type": "code",
   "execution_count": 2,
   "metadata": {},
   "outputs": [],
   "source": [
    "ns = {'xml': 'http://www.w3.org/XML/1998/namespace',\n",
    "      'dflt': 'http://www.tei-c.org/ns/1.0',\n",
    "      'frus':'http://history.state.gov/frus/ns/1.0',\n",
    "      'xi':'http://www.w3.org/2001/XInclude'\n",
    "      }"
   ]
  },
  {
   "cell_type": "code",
   "execution_count": 3,
   "metadata": {},
   "outputs": [],
   "source": [
    "volume = 'frus1969-76v30.xml'\n",
    "tree = ET.parse('volumes/frus1969-76v30.xml')\n",
    "root = tree.getroot()"
   ]
  },
  {
   "cell_type": "code",
   "execution_count": null,
   "metadata": {},
   "outputs": [],
   "source": [
    "# year: frus:doc-dateTime-max\n",
    "# sent from: <placeName>New York</placeName>\n",
    "# volume from file name\n",
    "# from: <gloss type=\"from\"> or <persName type=\"from\">\n",
    "# to: <gloss type=\"to\"> or <persName type=\"to\">\n",
    "# source: <... type=\"source\" ..>\n",
    "\n",
    "# ignore all <note/>"
   ]
  },
  {
   "cell_type": "code",
   "execution_count": 20,
   "metadata": {},
   "outputs": [],
   "source": [
    "person_df = pd.DataFrame(columns=['id','name','description'])\n",
    "\n",
    "def extract_person(person_item):\n",
    "    persName_item = person_item.find('.//dflt:persName', ns)\n",
    "    person_name = persName_item.text\n",
    "    person_id = persName_item.attrib['{http://www.w3.org/XML/1998/namespace}id']\n",
    "\n",
    "    all_text = \"\".join(person_item.itertext())\n",
    "    end_idx = all_text.find(person_name) + len(person_name+',')\n",
    "    person_descp = \" \".join(all_text[end_idx:].split())\n",
    "\n",
    "    person_name = \" \".join(re.sub(',','',\" \".join(person_name.split(', ')[::-1])).split())\n",
    "\n",
    "    #person_id = volume[:-4] + '_' + person_id\n",
    "\n",
    "    global person_df\n",
    "    person_df = pd.concat((person_df, pd.DataFrame({'id':[person_id],\n",
    "                                                'name':[person_name],\n",
    "                                                'description':[person_descp]})),ignore_index=True)\n",
    "    return\n",
    "\n",
    "\n",
    "persons_section = root.find(\"./dflt:text/dflt:front//dflt:div[@xml:id='persons']\", ns)\n",
    "for item in persons_section.findall('.//dflt:item', ns):\n",
    "    extract_person(item)"
   ]
  },
  {
   "cell_type": "code",
   "execution_count": 21,
   "metadata": {},
   "outputs": [
    {
     "data": {
      "text/html": [
       "<div>\n",
       "<style scoped>\n",
       "    .dataframe tbody tr th:only-of-type {\n",
       "        vertical-align: middle;\n",
       "    }\n",
       "\n",
       "    .dataframe tbody tr th {\n",
       "        vertical-align: top;\n",
       "    }\n",
       "\n",
       "    .dataframe thead th {\n",
       "        text-align: right;\n",
       "    }\n",
       "</style>\n",
       "<table border=\"1\" class=\"dataframe\">\n",
       "  <thead>\n",
       "    <tr style=\"text-align: right;\">\n",
       "      <th></th>\n",
       "      <th>id</th>\n",
       "      <th>name</th>\n",
       "      <th>description</th>\n",
       "    </tr>\n",
       "  </thead>\n",
       "  <tbody>\n",
       "    <tr>\n",
       "      <th>0</th>\n",
       "      <td>p_AST1</td>\n",
       "      <td>Spiro T. Agnew</td>\n",
       "      <td>Vice President until October 10, 1973</td>\n",
       "    </tr>\n",
       "    <tr>\n",
       "      <th>1</th>\n",
       "      <td>p_AC8</td>\n",
       "      <td>Carl Albert</td>\n",
       "      <td>Democratic Congressman from Oklahoma; Speaker ...</td>\n",
       "    </tr>\n",
       "    <tr>\n",
       "      <th>2</th>\n",
       "      <td>p_AM4</td>\n",
       "      <td>Menelaos Alexandrakis</td>\n",
       "      <td>Greek Ambassador to the United States from Aug...</td>\n",
       "    </tr>\n",
       "    <tr>\n",
       "      <th>3</th>\n",
       "      <td>p_ARB3</td>\n",
       "      <td>Robert Anderson</td>\n",
       "      <td>Department of State spokesman</td>\n",
       "    </tr>\n",
       "    <tr>\n",
       "      <th>4</th>\n",
       "      <td>p_AA3</td>\n",
       "      <td>Adamantios Androutsopoulos</td>\n",
       "      <td>Greek Prime Minister from November 1973 until ...</td>\n",
       "    </tr>\n",
       "    <tr>\n",
       "      <th>...</th>\n",
       "      <td>...</td>\n",
       "      <td>...</td>\n",
       "      <td>...</td>\n",
       "    </tr>\n",
       "    <tr>\n",
       "      <th>147</th>\n",
       "      <td>p_WCW2</td>\n",
       "      <td>Charles W. Whalen</td>\n",
       "      <td>Republican Congressman from Ohio</td>\n",
       "    </tr>\n",
       "    <tr>\n",
       "      <th>148</th>\n",
       "      <td>p_WJH2</td>\n",
       "      <td>Harold Wilson</td>\n",
       "      <td>British Prime Minister until 976</td>\n",
       "    </tr>\n",
       "    <tr>\n",
       "      <th>149</th>\n",
       "      <td>p_XPC1</td>\n",
       "      <td>Xanthopoulos-Palamas Christos</td>\n",
       "      <td>Greek Foreign Minister from January until Nove...</td>\n",
       "    </tr>\n",
       "    <tr>\n",
       "      <th>150</th>\n",
       "      <td>p_ZGD1</td>\n",
       "      <td>Gen. Dimitrios Zagorianakos</td>\n",
       "      <td>Commander-in-Chief of the Hellenic Armed Force...</td>\n",
       "    </tr>\n",
       "    <tr>\n",
       "      <th>151</th>\n",
       "      <td>p_ZRL1</td>\n",
       "      <td>Ronald Ziegler</td>\n",
       "      <td>White House Press Secretary until 1974</td>\n",
       "    </tr>\n",
       "  </tbody>\n",
       "</table>\n",
       "<p>152 rows × 3 columns</p>\n",
       "</div>"
      ],
      "text/plain": [
       "         id                           name  \\\n",
       "0    p_AST1                 Spiro T. Agnew   \n",
       "1     p_AC8                    Carl Albert   \n",
       "2     p_AM4          Menelaos Alexandrakis   \n",
       "3    p_ARB3                Robert Anderson   \n",
       "4     p_AA3     Adamantios Androutsopoulos   \n",
       "..      ...                            ...   \n",
       "147  p_WCW2              Charles W. Whalen   \n",
       "148  p_WJH2                  Harold Wilson   \n",
       "149  p_XPC1  Xanthopoulos-Palamas Christos   \n",
       "150  p_ZGD1    Gen. Dimitrios Zagorianakos   \n",
       "151  p_ZRL1                 Ronald Ziegler   \n",
       "\n",
       "                                           description  \n",
       "0                Vice President until October 10, 1973  \n",
       "1    Democratic Congressman from Oklahoma; Speaker ...  \n",
       "2    Greek Ambassador to the United States from Aug...  \n",
       "3                        Department of State spokesman  \n",
       "4    Greek Prime Minister from November 1973 until ...  \n",
       "..                                                 ...  \n",
       "147                   Republican Congressman from Ohio  \n",
       "148                   British Prime Minister until 976  \n",
       "149  Greek Foreign Minister from January until Nove...  \n",
       "150  Commander-in-Chief of the Hellenic Armed Force...  \n",
       "151             White House Press Secretary until 1974  \n",
       "\n",
       "[152 rows x 3 columns]"
      ]
     },
     "execution_count": 21,
     "metadata": {},
     "output_type": "execute_result"
    }
   ],
   "source": [
    "person_df"
   ]
  },
  {
   "cell_type": "markdown",
   "metadata": {},
   "source": [
    "## done above ^\n",
    "## construction below "
   ]
  },
  {
   "cell_type": "code",
   "execution_count": null,
   "metadata": {},
   "outputs": [],
   "source": [
    "# this function handles file's sender and receiver\n",
    "def process_from_to_types(from_list):\n",
    "\n",
    "    processed_list = []\n",
    "\n",
    "    for item in from_list:\n",
    "        \n",
    "        if item.tag == 'persName' and 'corresp' in item.attrib.keys():\n",
    "            person_id = item.attrib['corresp']\n",
    "            processed_list.append(person_id)\n",
    "        elif item.tag == 'persName':\n",
    "            processed_list.append(item.text)\n",
    "        elif item.tag == 'gloss':\n",
    "            processed_list.append(item.text)\n",
    "        else:\n",
    "            raise NotImplementedError('from type tag unidentified')\n",
    "    \n",
    "    return processed_list"
   ]
  },
  {
   "cell_type": "code",
   "execution_count": null,
   "metadata": {},
   "outputs": [],
   "source": [
    "subseries_id = root.find('teiHeader/fileDesc/titleStmt/title[@type=\"sub-series\"]').text\n",
    "volume_id = root.find('teiHeader/fileDesc/titleStmt/title[@type=\"volume-number\"]').text\n",
    "\n",
    "doc_dict = {}\n",
    "\n",
    "def process_document(doc_elem):\n",
    "\n",
    "    doc_id = doc_elem.attrib['{http://www.w3.org/XML/1998/namespace}id']\n",
    "    doc_date = doc_elem.attrib[\"{http://history.state.gov/frus/ns/1.0}doc-dateTime-max\"].split('T')[0]\n",
    "    doc_date = datetime.strptime(doc_date, '%Y-%m-%d')\n",
    "\n",
    "    doc_sent_place = doc_elem.find('.//placeName')\n",
    "    if doc_sent_place is not None:\n",
    "        doc_sent_place = doc_sent_place.text\n",
    "\n",
    "    from_list = doc_elem.findall('head//*[@type=\"from\"]')\n",
    "    to_list = doc_elem.findall('head//*[@type=\"to\"]')\n",
    "\n",
    "    doc_sent_from = process_from_to_types(from_list)\n",
    "    doc_sent_to = process_from_to_types(to_list)\n",
    "\n",
    "    doc_source = doc_elem.find('.//*[@type=\"source\"]')\n",
    "    if doc_source is not None:\n",
    "        doc_source = \" \".join(\"\".join(doc_source.itertext()).split())\n",
    "\n",
    "    doc_dict[\"-\".join([subseries_id,volume_id,doc_id])] = {'subseries':subseries_id, 'volume':volume_id, 'doc_id':doc_id,'date':doc_date, 'place':doc_sent_place, 'from':doc_sent_from, 'to':doc_sent_to, 'source':doc_source}\n",
    "\n",
    "    return\n",
    "\n",
    "for doc_elem in root.findall('text/body/div//div[@type=\"document\"]'):\n",
    "    process_document(doc_elem)"
   ]
  },
  {
   "cell_type": "code",
   "execution_count": null,
   "metadata": {},
   "outputs": [],
   "source": [
    "doc_dict"
   ]
  },
  {
   "cell_type": "code",
   "execution_count": null,
   "metadata": {},
   "outputs": [],
   "source": [
    "place = []\n",
    "\n",
    "for k,v in doc_dict.items():\n",
    "    place+=(v['to'])"
   ]
  },
  {
   "cell_type": "code",
   "execution_count": null,
   "metadata": {},
   "outputs": [],
   "source": [
    "from collections import Counter\n",
    "\n",
    "Counter(place)"
   ]
  }
 ],
 "metadata": {
  "kernelspec": {
   "display_name": "ml4hc_project2",
   "language": "python",
   "name": "python3"
  },
  "language_info": {
   "codemirror_mode": {
    "name": "ipython",
    "version": 3
   },
   "file_extension": ".py",
   "mimetype": "text/x-python",
   "name": "python",
   "nbconvert_exporter": "python",
   "pygments_lexer": "ipython3",
   "version": "3.9.0"
  },
  "orig_nbformat": 4,
  "vscode": {
   "interpreter": {
    "hash": "17915d4eccf26051373144ab496c4cfde1d85bab0b3b06c6ac905c8927260055"
   }
  }
 },
 "nbformat": 4,
 "nbformat_minor": 2
}
