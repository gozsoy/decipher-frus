{
 "cells": [
  {
   "cell_type": "code",
   "execution_count": 1,
   "metadata": {},
   "outputs": [],
   "source": [
    "import re\n",
    "import glob\n",
    "from tqdm import tqdm\n",
    "from datetime import datetime\n",
    "import xml.etree.ElementTree as ET\n",
    "from collections import Counter\n",
    "\n",
    "ns = {'xml': 'http://www.w3.org/XML/1998/namespace',\n",
    "      'dflt': 'http://www.tei-c.org/ns/1.0',\n",
    "      'frus':'http://history.state.gov/frus/ns/1.0',\n",
    "      'xi':'http://www.w3.org/2001/XInclude'\n",
    "      }"
   ]
  },
  {
   "cell_type": "code",
   "execution_count": null,
   "metadata": {},
   "outputs": [],
   "source": [
    "# AIM\n",
    "# up to which level, all the documents are unified ?\n",
    "# which tags can hold useful info ? all unique tags after in document level\n",
    "# decide which tags are most important. then search for their attribute types like in persName or gloss.\n",
    "# tags should be considered in terms of if they can include ready-to-use info for KG before nlp.\n",
    "# compose info from frus.odd and narrate here as a reference!"
   ]
  },
  {
   "attachments": {},
   "cell_type": "markdown",
   "metadata": {},
   "source": [
    "This nb is produced for understanding FRUS corpus' schema. For the analysis to be complete, I relied on information provided in the schema file (link below), and only consulted to volumes for seeing a particular interesting phenomenon. <br/>\n",
    "\n",
    "https://github.com/HistoryAtState/frus/blob/master/schema/frus.odd (in below cell ref line xxx means this schema's xxx's line.)<br/>\n",
    "\n",
    "All info about tags can be found in tei-c.org where FRUS authors relied on. <br/>\n",
    "\n",
    "I estimated the importance of a tag or attribute in the scale if it can add knowledge to our KG, either in ready-to-use format or free text. <br/>\n",
    "In addition, I searched for up to which level, the corpus is unified, and where we should be careful extracting information from xml. <br/>"
   ]
  },
  {
   "attachments": {},
   "cell_type": "markdown",
   "metadata": {},
   "source": [
    "### TEI"
   ]
  },
  {
   "cell_type": "code",
   "execution_count": 2,
   "metadata": {},
   "outputs": [
    {
     "name": "stdout",
     "output_type": "stream",
     "text": [
      "volume count in frus: 543\n"
     ]
    }
   ],
   "source": [
    "volume_list = glob.glob('volumes/*')\n",
    "\n",
    "print(f'volume count in frus: {len(volume_list)}')"
   ]
  },
  {
   "cell_type": "code",
   "execution_count": 219,
   "metadata": {},
   "outputs": [
    {
     "name": "stderr",
     "output_type": "stream",
     "text": [
      "100%|██████████| 543/543 [02:17<00:00,  3.94it/s]"
     ]
    },
    {
     "name": "stdout",
     "output_type": "stream",
     "text": [
      "all volumes start with these children elements: {http://www.tei-c.org/ns/1.0}teiHeader, {http://www.tei-c.org/ns/1.0}text\n"
     ]
    },
    {
     "name": "stderr",
     "output_type": "stream",
     "text": [
      "\n"
     ]
    }
   ],
   "source": [
    "# ref line 123: children tags of TEI (root)\n",
    "\n",
    "roots_children = [\"{http://www.tei-c.org/ns/1.0}teiHeader\", \"{http://www.tei-c.org/ns/1.0}text\"]\n",
    "\n",
    "flag = True\n",
    "for volume in tqdm(volume_list):\n",
    "\n",
    "    tree = ET.parse(volume)\n",
    "    root = tree.getroot()\n",
    "\n",
    "    children = []\n",
    "    for elem in root.findall('*', ns):\n",
    "        children.append(elem.tag)\n",
    "    \n",
    "    if children != roots_children:\n",
    "        flag=False\n",
    "        print(volume)\n",
    "\n",
    "if flag:\n",
    "    print(f\"all volumes start with these children elements: {', '.join(roots_children)}\")\n",
    "else:\n",
    "    print('invalid volume schema exists')"
   ]
  },
  {
   "attachments": {},
   "cell_type": "markdown",
   "metadata": {},
   "source": [
    "### + TEI/teiHeader"
   ]
  },
  {
   "cell_type": "code",
   "execution_count": 79,
   "metadata": {},
   "outputs": [
    {
     "name": "stderr",
     "output_type": "stream",
     "text": [
      "100%|██████████| 543/543 [01:24<00:00,  6.41it/s]"
     ]
    },
    {
     "name": "stdout",
     "output_type": "stream",
     "text": [
      "children tags of teiHeader: {http://www.tei-c.org/ns/1.0}fileDesc, {http://www.tei-c.org/ns/1.0}encodingDesc, {http://www.tei-c.org/ns/1.0}revisionDesc, {http://www.tei-c.org/ns/1.0}xenoData\n"
     ]
    },
    {
     "name": "stderr",
     "output_type": "stream",
     "text": [
      "\n"
     ]
    }
   ],
   "source": [
    "#ref line 128: children tags of teiHeader\n",
    "\n",
    "teiHeader_dict = {}\n",
    "\n",
    "for volume in tqdm(volume_list):\n",
    "\n",
    "    tree = ET.parse(volume)\n",
    "    root = tree.getroot()\n",
    "\n",
    "    for elem in root.findall(\"dflt:teiHeader/*\",ns):\n",
    "\n",
    "        val = teiHeader_dict.get(elem.tag, None)\n",
    "        \n",
    "        if not val:\n",
    "            teiHeader_dict[elem.tag]=[volume]\n",
    "        else:\n",
    "            teiHeader_dict[elem.tag].append(volume)\n",
    "\n",
    "print(f'children tags of teiHeader: {\", \".join(teiHeader_dict.keys())}')"
   ]
  },
  {
   "attachments": {},
   "cell_type": "markdown",
   "metadata": {},
   "source": [
    "fileDesc tag holds the metadata about the corresponding volume, which I deem important. <br/>\n",
    "encodingDesc tag holds paper to digital layout, style definitions, which is not important. <br/>\n",
    "revisionDesc tag holds revision history, which is not important. <br/>\n",
    "xenoData tag appears only in 1 volume, I inspected it and is not important."
   ]
  },
  {
   "cell_type": "code",
   "execution_count": 33,
   "metadata": {},
   "outputs": [
    {
     "name": "stderr",
     "output_type": "stream",
     "text": [
      "100%|██████████| 543/543 [01:33<00:00,  5.84it/s]\n"
     ]
    }
   ],
   "source": [
    "#ref line 131: extracting series, sub-series, volume-number, volume info\n",
    "\n",
    "titleStmt_dict = {}\n",
    "\n",
    "for volume in tqdm(volume_list):\n",
    "\n",
    "    tree = ET.parse(volume)\n",
    "    root = tree.getroot()\n",
    "\n",
    "    for elem in root.findall(\"./dflt:teiHeader/dflt:fileDesc/dflt:titleStmt/dflt:title\",ns):\n",
    "        \n",
    "        val = elem.attrib['type']\n",
    "\n",
    "        try:\n",
    "            text= \" \".join(elem.text.split())\n",
    "        except:\n",
    "            text = None\n",
    "        \n",
    "        if val not in titleStmt_dict:\n",
    "            titleStmt_dict[val]=[text]\n",
    "        else:\n",
    "            titleStmt_dict[val].append(text)\n",
    "\n",
    "\n",
    "print(titleStmt_dict.keys())"
   ]
  },
  {
   "attachments": {},
   "cell_type": "markdown",
   "metadata": {},
   "source": [
    "This is a section that should be unified in format, but (unfortunately) it is not! <br/>\n",
    "@type = \"series\" is the name of the series which is \"FRUS\", but lots of different naming variations exist. see first cell below. <br/>\n",
    "also, @type = \"sub-series\" fails to capture presidential periods. see second cell below. <br/>\n",
    "in short: volume number, name, year, presidential period can appear sporadically across any of @type = \"series\",\"sub-series\",\"volume-number\" and \"volume\" in the corpus. <br/>\n",
    "however, this section will not affect the knowledge quality of KG, because each document still holds necessary info about itself independently. only problematic issue is we need to do a few more steps for answering queries like 'document count histogram per president' as \"sub-series\" is not ready to use."
   ]
  },
  {
   "cell_type": "code",
   "execution_count": 72,
   "metadata": {},
   "outputs": [
    {
     "data": {
      "text/plain": [
       "Counter({'Foreign Relations of the United States': 308,\n",
       "         'Papers Relating to the Foreign Relations of the United States, 1906': 2,\n",
       "         'Papers Relating to the Foreign Relations of the United States, 1922': 2,\n",
       "         'Foreign Relations of the United States Diplomatic Papers': 50,\n",
       "         'Papers Relating to the Foreign Relations of the United States': 21,\n",
       "         'Foreign Relations of the United States: Diplomatic Papers': 33,\n",
       "         'Papers relating to the foreign relations of the United States': 14,\n",
       "         'Papers relating to Foreign Affairs': 3,\n",
       "         'Papers Relating to Foreign Affairs': 10,\n",
       "         'Papers Relating to the Foreign Relations of the United States, 1877': 2,\n",
       "         'Papers Relating to Foreign Affairs, 1865': 1,\n",
       "         'Papers Relating to the Foreign Relations of the United States, 1920': 3,\n",
       "         'Papers Relating to the Foreign Relations of the United States, 1919': 16,\n",
       "         'Papers Relating to Foreign Affairs, 1864': 1,\n",
       "         'Papers Relating to the Foreign Relations of the United States, 1904': 1,\n",
       "         'Papers Relating to the Foreign Relations of the United States, 1910': 1,\n",
       "         'Papers Relating to the Foreign Relations of the United States, 1907': 2,\n",
       "         'Papers Relating to the Foreign Relations of the United States, 1911': 1,\n",
       "         'Papers Relating to the Foreign Relations of the United States, 1905': 1,\n",
       "         'Papers Relating to the Foreign Relations of the United States, 1924': 2,\n",
       "         'Papers Relating to the Foreign Relations of the United States, 1918': 6,\n",
       "         'Foreign Relations of the United States, 1901': 1,\n",
       "         'Papers Relating to the Foreign Relations of the United States, 1898': 1,\n",
       "         'Papers Relating to the Foreign Relations of the United States, 1913': 1,\n",
       "         'Papers Relating to the Foreign Relations of the United States, 1912': 1,\n",
       "         'Papers Relating to the Foreign Relations of the United States, 1899': 1,\n",
       "         'Papers Relating to the Foreign Relations of the United States, 1889': 1,\n",
       "         'Papers Relating to the Foreign Relations of the United States, 1916': 1,\n",
       "         'Papers Relating to the Foreign Relations of the United States, 1902': 1,\n",
       "         'Papers Relating to Foreign Affairs, 1866': 3,\n",
       "         'Papers Relating to the Foreign Relations of the United States, 1903': 1,\n",
       "         'Papers Relating to the Foreign Relations of the United States, 1917': 4,\n",
       "         'Papers Relating to the Foreign Relations of the United States, 1926': 2,\n",
       "         None: 1,\n",
       "         'Papers Relating to the Foreign Relations of the United States, 1901': 1,\n",
       "         'Papers Relating to the Foreign Relations of the United States, 1915': 1,\n",
       "         'Papers Relating to the Foreign Relations of the United States, 1914': 1,\n",
       "         'Papers Relating to the Foreign Relations of the United States, 1900': 1,\n",
       "         'Papers Relating to the Foreign Relations of the United States, 1879': 1,\n",
       "         'Papers Relating to the Foreign Relations of the United States, 1892': 1,\n",
       "         'Papers Relating to the Foreign Relations of the United States, 1886': 1,\n",
       "         'Papers Relating to the Foreign Relations of the United States, 1895': 2,\n",
       "         'Papers Relating to the Foreign Relations of the United States, 1923': 2,\n",
       "         'Papers Relating to the Foreign Relations of the United States, 1887': 1,\n",
       "         'Papers Relating to the Foreign Relations of the United States, 1893': 1,\n",
       "         'Foreign Relations': 1,\n",
       "         'Papers Relating to the Foreign Relations of the United States, 1878': 1,\n",
       "         'Papers Relating to the Foreign Relations of the United States, 1885': 1,\n",
       "         'Papers Relating to the Foreign Relations of the United States, 1891': 1,\n",
       "         'Foreign Relations of the United States, Diplomatic Papers': 2,\n",
       "         'Papers Relating to the Foreign Relations of the United States, 1890': 1,\n",
       "         'Papers Relating to the Foreign Relations of the United States, 1884': 1,\n",
       "         'Papers Relating to the Foreign Relations of the United States, 1880': 1,\n",
       "         'Papers Relating to the Foreign Relations of the United States, 1894': 2,\n",
       "         'Papers Relating to the Foreign Relations of the United States, 1888': 2,\n",
       "         'Foreign Relations of the United States, 1902': 2,\n",
       "         'Papers Relating to the Foreign Relations of the United States, 1921': 2,\n",
       "         'Papers Relating to the Foreign Relations of the United States, 1881': 1,\n",
       "         'Papers Relating to the Foreign Relations of the United States, 1897': 1,\n",
       "         'Papers Relating to the Foreign Relations of the United States, 1883': 1,\n",
       "         'Papers Relating to the Foreign Relations of the United States, 1908': 1,\n",
       "         'Papers Relating to the Foreign Relations of the United States, 1909': 1,\n",
       "         'Papers Relating to the Foreign Relations of the United States, 1882': 1,\n",
       "         'Papers Relating to the Foreign Relations of the United States, 1896': 1,\n",
       "         'Papers Relating to the Foreign Relations of the United States, 1925': 2,\n",
       "         'Papers Relating to the Foreign relations of the United States, 1927': 1,\n",
       "         'Papers Relating to the Foreign Relations of the United States, 1927': 2,\n",
       "         'Foreign Relations of the United States, 1894': 2})"
      ]
     },
     "execution_count": 72,
     "metadata": {},
     "output_type": "execute_result"
    }
   ],
   "source": [
    "Counter(titleStmt_dict['series'])"
   ]
  },
  {
   "cell_type": "code",
   "execution_count": 73,
   "metadata": {},
   "outputs": [
    {
     "data": {
      "text/plain": [
       "Counter({'1917–1972': 5,\n",
       "         None: 97,\n",
       "         '1941': 7,\n",
       "         '1946': 11,\n",
       "         '1872': 6,\n",
       "         '1932': 5,\n",
       "         '1943': 8,\n",
       "         '1964–1968': 35,\n",
       "         '1949': 10,\n",
       "         '1961–1963': 26,\n",
       "         '1930': 3,\n",
       "         '1863': 2,\n",
       "         '1958–1960': 20,\n",
       "         '1952–1954': 30,\n",
       "         '1969–1976': 49,\n",
       "         '1969-1976': 13,\n",
       "         'Foreign Relations of the United States, 1958–1960': 1,\n",
       "         '1948': 11,\n",
       "         '1915': 1,\n",
       "         '1950–1955': 1,\n",
       "         '1951': 11,\n",
       "         '1981-1988': 2,\n",
       "         'Accompanying the Annual Message of the President to the Second Session Thirty-eighth Congress': 1,\n",
       "         '1973-1976': 1,\n",
       "         '1875': 2,\n",
       "         '1873': 4,\n",
       "         '1867': 2,\n",
       "         '1865': 2,\n",
       "         '1914': 1,\n",
       "         '1945': 9,\n",
       "         '1955–1957': 28,\n",
       "         '1870': 1,\n",
       "         '1977–1980': 19,\n",
       "         '1936': 5,\n",
       "         '1942': 7,\n",
       "         '1928': 3,\n",
       "         '1947': 8,\n",
       "         '1931–1941': 2,\n",
       "         '1918': 5,\n",
       "         '1977-1980': 7,\n",
       "         '1871': 1,\n",
       "         '1938': 5,\n",
       "         '1934': 5,\n",
       "         '1916': 1,\n",
       "         '1876': 1,\n",
       "         '1864': 3,\n",
       "         '1917': 3,\n",
       "         'Message of the President of the United States to the Two Houses of Congress, at the Commencement of the Second Session of the Thirty-seventh Congress': 1,\n",
       "         '1874': 1,\n",
       "         '1931': 3,\n",
       "         '1950': 7,\n",
       "         '1940': 5,\n",
       "         '1868': 2,\n",
       "         '1981–1988': 6,\n",
       "         '1933': 5,\n",
       "         'With the Annual Message of the President, Transmitted to Congress, December 3, 1894': 1,\n",
       "         '1918 Russia': 2,\n",
       "         '1935': 4,\n",
       "         '1945–1950': 1,\n",
       "         '1944': 7,\n",
       "         '1937': 5,\n",
       "         '1939': 5,\n",
       "         'The Lansing Papers, 1914–1920': 2,\n",
       "         '1929': 3,\n",
       "         'Foreign Relations of the United States, 1961–1963': 1,\n",
       "         '1973–1976': 2})"
      ]
     },
     "execution_count": 73,
     "metadata": {},
     "output_type": "execute_result"
    }
   ],
   "source": [
    "Counter(titleStmt_dict['sub-series'])"
   ]
  },
  {
   "attachments": {},
   "cell_type": "markdown",
   "metadata": {},
   "source": [
    "### + TEI/text"
   ]
  },
  {
   "attachments": {},
   "cell_type": "markdown",
   "metadata": {},
   "source": [
    "### ++ TEI/text/front"
   ]
  },
  {
   "cell_type": "code",
   "execution_count": 95,
   "metadata": {},
   "outputs": [
    {
     "name": "stderr",
     "output_type": "stream",
     "text": [
      "100%|██████████| 543/543 [01:27<00:00,  6.17it/s]"
     ]
    },
    {
     "name": "stdout",
     "output_type": "stream",
     "text": [
      "{'{http://www.tei-c.org/ns/1.0}pb': 3992, '{http://www.tei-c.org/ns/1.0}titlePage': 540, '{http://www.tei-c.org/ns/1.0}div': 2230, '{http://www.tei-c.org/ns/1.0}p': 39, '{http://www.tei-c.org/ns/1.0}figure': 2, '{http://www.tei-c.org/ns/1.0}docTitle': 1, '{http://www.tei-c.org/ns/1.0}docImprint': 2, '{http://www.tei-c.org/ns/1.0}byline': 2, '{http://www.tei-c.org/ns/1.0}gap': 4}\n"
     ]
    },
    {
     "name": "stderr",
     "output_type": "stream",
     "text": [
      "\n"
     ]
    }
   ],
   "source": [
    "# ref line 224\n",
    "tag_dict = {}\n",
    "tag_examples = []\n",
    "\n",
    "for volume in tqdm(volume_list):\n",
    "\n",
    "    tree = ET.parse(volume)\n",
    "    root = tree.getroot()\n",
    "\n",
    "    for temp_tag in root.findall('./dflt:text/dflt:front/', ns):\n",
    "        if temp_tag.tag not in tag_dict:\n",
    "            tag_dict[temp_tag.tag]=1\n",
    "            tag_examples.append((temp_tag,volume))\n",
    "        else:\n",
    "            tag_dict[temp_tag.tag] += 1\n",
    "\n",
    "print(tag_dict)"
   ]
  },
  {
   "attachments": {},
   "cell_type": "markdown",
   "metadata": {},
   "source": [
    "3 volumes do not have titlePage tag, as opposed to ref schema's definition. <br/>\n",
    "p tag is not supposed to be present, I checked the examples, can be ignored. <br/>"
   ]
  },
  {
   "cell_type": "code",
   "execution_count": 139,
   "metadata": {},
   "outputs": [
    {
     "name": "stderr",
     "output_type": "stream",
     "text": [
      "100%|██████████| 543/543 [01:27<00:00,  6.19it/s]\n"
     ]
    }
   ],
   "source": [
    "#ref line 279\n",
    "\n",
    "frontdiv_attrb_dict = {}\n",
    "\n",
    "for volume in tqdm(volume_list):\n",
    "\n",
    "    tree = ET.parse(volume)\n",
    "    root = tree.getroot()\n",
    "\n",
    "    for div in root.findall('./dflt:text/dflt:front/dflt:div', ns):\n",
    "\n",
    "        val = div.attrib['{http://www.w3.org/XML/1998/namespace}id']\n",
    "\n",
    "        if val not in frontdiv_attrb_dict:\n",
    "            frontdiv_attrb_dict[val]=0\n",
    "        else:\n",
    "            frontdiv_attrb_dict[val]+=1\n"
   ]
  },
  {
   "attachments": {},
   "cell_type": "markdown",
   "metadata": {},
   "source": [
    "in ref line 279, xml:id attribute might be toc, persons, terms, preface, or sources. <br/>\n",
    "actually, it is more messier than see first cell below <br/>"
   ]
  },
  {
   "cell_type": "code",
   "execution_count": 140,
   "metadata": {},
   "outputs": [
    {
     "name": "stdout",
     "output_type": "stream",
     "text": [
      "{'pressrelease': 51, 'AbouttheSeries': 13, 'preface': 363, 'acknowledge': 1, 'toc': 469, 'sources': 245, 'terms': 300, 'persons': 269, 'message-of-the-president': 41, 'papers': 109, 'toc-papers': 33, 'editorial': 3, 'subseriesvols': 33, 'message': 18, 'message1': 2, 'actionsstatement': 21, 'summary': 17, 'contents': 6, 'toc-topics': 4, 'toc-countries': 2, 'about': 9, 'source': 2, 'abouttheseries': 9, 'abstract': 1, 'Summary': 0, 'intro1': 0, 'errata': 2, 'introduction': 24, 'papers1': 6, 'shorttitles': 8, 'actionssatement': 0, 'documents': 1, 'foreword': 2, 'intro': 2, 'photographs': 2, 'volumes': 1, 'Contents': 1, 'note': 10, 'convention': 0, 'foreign-relations': 19, 'Preface': 1, 'Notes': 4, 'prefatory-note': 0, 'ch1': 0, 'ch2': 0, 'ch3': 0, 'ch4': 0, 'ch5': 0, 'ch6': 0, 'list-of-illustrations': 1, 'address-of-the-president': 5, 'introductory': 0, 'about-this-digital-edition': 1, 'summaryvii': 0, 'summaryviii': 0, 'summaryix': 0, 'directory': 0, 'recommendations': 0, 'notes': 8, 'Message': 0, 'treaties': 0, 'circulars': 0, 'correspondence': 0, 'guide': 0, 'd1': 2, 'Shorttitles': 0, 'photographs-toc': 1, 'charts': 0, 'd2': 1, 'map': 0, 'title-page1': 0, 'correspondents': 0, 'letter-of-submittal': 0, 'aboutheseries': 0, 'aboutseries': 1, 'translation-of-the-memorandum': 0, 'messages-of-the-president': 0, 'section': 1, 'abtseries': 0, 'united-states': 0, 'correspondence-1': 0, 'correspondence-2': 0, 'report': 0, 'illustrations': 0, 'Foreword': 0, 'papers-topics': 0, 'papers-countries': 0, 'topical': 0, 'Unpublished': 1, 'Published': 1, 'volumesummary': 0, 'Volumes': 0, 'photos': 2, 'summary-x': 0, 'summary-xi': 0, 'lod': 0, 'covert': 0, 'press-release': 0, 'delegation': 0, 'symbols': 0, 'actionstatement': 0}\n"
     ]
    }
   ],
   "source": [
    "print(frontdiv_attrb_dict)"
   ]
  },
  {
   "attachments": {},
   "cell_type": "markdown",
   "metadata": {},
   "source": [
    "more critical than that is both Person and Terms and Abbrv. annotations are not available for most of the early volumes (see first cell below). This mean we cannot extract instution or person knowledge from the free text easily without named entity recognition. one solution can be using the newest volumes initially for KG construction."
   ]
  },
  {
   "cell_type": "code",
   "execution_count": 138,
   "metadata": {},
   "outputs": [
    {
     "name": "stdout",
     "output_type": "stream",
     "text": [
      "random 20 volumes without person annotations: {'volumes/frus1866p2.xml', 'volumes/frus1907p2.xml', 'volumes/frus1940v05.xml', 'volumes/frus1939v02.xml', 'volumes/frus1949v02.xml', 'volumes/frus1943.xml', 'volumes/frus1948v08.xml', 'volumes/frus1928v01.xml', 'volumes/frus1934v04.xml', 'volumes/frus1944v05.xml', 'volumes/frus1930v01.xml', 'volumes/frus1876.xml', 'volumes/frus1942v03.xml', 'volumes/frus1931-41v01.xml', 'volumes/frus1940v01.xml', 'volumes/frus1926v01.xml', 'volumes/frus1880.xml', 'volumes/frus1863p2.xml', 'volumes/frus1952-54v12p2.xml', 'volumes/frus1922v01.xml', 'volumes/frus1920v03.xml', 'volumes/frus1920v02.xml', 'volumes/frus1950v06.xml', 'volumes/frus1919Parisv13.xml', 'volumes/frus1948v05p2.xml', 'volumes/frus1872p2v5.xml', 'volumes/frus1944v01.xml', 'volumes/frus1888p2.xml', 'volumes/frus1944Quebec.xml', 'volumes/frus1913.xml', 'volumes/frus1906p1.xml', 'volumes/frus1942v01.xml', 'volumes/frus1946v01.xml', 'volumes/frus1902app1.xml', 'volumes/frus1941v01.xml', 'volumes/frus1939v05.xml', 'volumes/frus1944v06.xml', 'volumes/frus1919Parisv07.xml', 'volumes/frus1946v06.xml', 'volumes/frus1919Parisv08.xml', 'volumes/frus1910.xml', 'volumes/frus1944v07.xml', 'volumes/frus1925v01.xml', 'volumes/frus1946v05.xml', 'volumes/frus1942v05.xml', 'volumes/frus1908.xml', 'volumes/frus1868p2.xml', 'volumes/frus1941v03.xml', 'volumes/frus1919v02.xml', 'volumes/frus1945v01.xml', 'volumes/frus1946v11.xml', 'volumes/frus1936v03.xml', 'volumes/frus1947v01.xml', 'volumes/frus1936v02.xml', 'volumes/frus1948v09.xml', 'volumes/frus1938v03.xml', 'volumes/frus1929v02.xml', 'volumes/frus1935v02.xml', 'volumes/frus1937v03.xml', 'volumes/frus1895p1.xml', 'volumes/frus1877app.xml', 'volumes/frus1919Parisv09.xml', 'volumes/frus1889.xml', 'volumes/frus1890.xml', 'volumes/frus1951v07p2.xml', 'volumes/frus1941v04.xml', 'volumes/frus1901China.xml', 'volumes/frus1873p1v2.xml', 'volumes/frus1914-20v01.xml', 'volumes/frus1940v02.xml', 'volumes/frus1926v02.xml', 'volumes/frus1945v09.xml', 'volumes/frus1944v02.xml', 'volumes/frus1935v04.xml', 'volumes/frus1935v03.xml', 'volumes/frus1863p1.xml', 'volumes/frus1942China.xml', 'volumes/frus1909.xml', 'volumes/frus1873p2v3.xml', 'volumes/frus1945v05.xml', 'volumes/frus1886.xml', 'volumes/frus1882.xml', 'volumes/frus1946v10.xml', 'volumes/frus1887.xml', 'volumes/frus1927v02.xml', 'volumes/frus1947v03.xml', 'volumes/frus1864p2.xml', 'volumes/frus1934v02.xml', 'volumes/frus1878.xml', 'volumes/frus1916.xml', 'volumes/frus1949v07p2.xml', 'volumes/frus1941v07.xml', 'volumes/frus1951v06p1.xml', 'volumes/frus1918Supp01v02.xml', 'volumes/frus1941v05.xml', 'volumes/frus1934v03.xml', 'volumes/frus1925v02.xml', 'volumes/frus1955-57v13.xml', 'volumes/frus1875v01.xml', 'volumes/frus1945v06.xml', 'volumes/frus1919Parisv10.xml', 'volumes/frus1872p2v1.xml', 'volumes/frus1944v03.xml', 'volumes/frus1861.xml', 'volumes/frus1943China.xml', 'volumes/frus1937v02.xml', 'volumes/frus1949v09.xml', 'volumes/frus1928v03.xml', 'volumes/frus1949v08.xml', 'volumes/frus1948v03.xml', 'volumes/frus1923v01.xml', 'volumes/frus1936v01.xml', 'volumes/frus1947v08.xml', 'volumes/frus1933v03.xml', 'volumes/frus1938v02.xml', 'volumes/frus1950v03.xml', 'volumes/frus1919Parisv02.xml', 'volumes/frus1951v06p2.xml', 'volumes/frus1907p1.xml', 'volumes/frus1930v02.xml', 'volumes/frus1865p4.xml', 'volumes/frus1949v05.xml', 'volumes/frus1865p1.xml', 'volumes/frus1919Parisv11.xml', 'volumes/frus1946v04.xml', 'volumes/frus1941-43.xml', 'volumes/frus1939v03.xml', 'volumes/frus1952-54v01p2.xml', 'volumes/frus1949v07p1.xml', 'volumes/frus1942v02.xml', 'volumes/frus1945v02.xml', 'volumes/frus1924v01.xml', 'volumes/frus1862.xml', 'volumes/frus1894.xml', 'volumes/frus1914.xml', 'volumes/frus1948v01p1.xml', 'volumes/frus1888p1.xml', 'volumes/frus1924v02.xml', 'volumes/frus1902.xml', 'volumes/frus1946v02.xml', 'volumes/frus1952-54v12p1.xml', 'volumes/frus1921v01.xml', 'volumes/frus1946v09.xml', 'volumes/frus1931-41v02.xml', 'volumes/frus1937v04.xml', 'volumes/frus1894app1.xml', 'volumes/frus1905.xml', 'volumes/frus1934v05.xml', 'volumes/frus1943v05.xml', 'volumes/frus1950v02.xml', 'volumes/frus1895p2.xml', 'volumes/frus1865p2.xml', 'volumes/frus1921v02.xml', 'volumes/frus1934v01.xml', 'volumes/frus1894app2.xml', 'volumes/frus1919Parisv06.xml', 'volumes/frus1943v01.xml', 'volumes/frus1948v04.xml', 'volumes/frus1933v02.xml', 'volumes/frus1938v01.xml', 'volumes/frus1935v01.xml', 'volumes/frus1936v05.xml', 'volumes/frus1871.xml', 'volumes/frus1900.xml', 'volumes/frus1949v04.xml', 'volumes/frus1919Parisv12.xml', 'volumes/frus1866p3.xml', 'volumes/frus1947v04.xml', 'volumes/frus1901.xml', 'volumes/frus1919Parisv04.xml', 'volumes/frus1927v03.xml', 'volumes/frus1964-68v06.xml', 'volumes/frus1917.xml', 'volumes/frus1894Nicaragua.xml', 'volumes/frus1952-54v01p1.xml', 'volumes/frus1930v03.xml', 'volumes/frus1866p1.xml', 'volumes/frus1948v06.xml', 'volumes/frus1874.xml', 'volumes/frus1931v01.xml', 'volumes/frus1938v05.xml', 'volumes/frus1933v05.xml', 'volumes/frus1920v01.xml', 'volumes/frus1928v02.xml', 'volumes/frus1872p1.xml', 'volumes/frus1927v01.xml', 'volumes/frus1946v08.xml', 'volumes/frus1867p2.xml', 'volumes/frus1933v04.xml', 'volumes/frus1877.xml', 'volumes/frus1864p1.xml', 'volumes/frus1929v01.xml', 'volumes/frus1937v01.xml', 'volumes/frus1950v01.xml', 'volumes/frus1943v06.xml', 'volumes/frus1943v03.xml', 'volumes/frus1867p1.xml', 'volumes/frus1872p2v3.xml', 'volumes/frus1939v04.xml', 'volumes/frus1914-20v02.xml', 'volumes/frus1929v03.xml', 'volumes/frus1899.xml', 'volumes/frus1865p3.xml', 'volumes/frus1881.xml', 'volumes/frus1945v04.xml', 'volumes/frus1937v05.xml', 'volumes/frus1875v02.xml', 'volumes/frus1919Parisv03.xml', 'volumes/frus1906p2.xml', 'volumes/frus1950v05.xml', 'volumes/frus1951v07p1.xml', 'volumes/frus1872p2v4.xml', 'volumes/frus1977-80v09.xml', 'volumes/frus1896.xml', 'volumes/frus1873p1v1.xml', 'volumes/frus1941v02.xml', 'volumes/frus1919v01.xml', 'volumes/frus1948v05p1.xml', 'volumes/frus1948v07.xml', 'volumes/frus1938v04.xml', 'volumes/frus1945v07.xml', 'volumes/frus1883.xml', 'volumes/frus1923v02.xml', 'volumes/frus1912.xml', 'volumes/frus1944v04.xml', 'volumes/frus1942v06.xml', 'volumes/frus1868p1.xml', 'volumes/frus1941v06.xml', 'volumes/frus1943v04.xml', 'volumes/frus1932v04.xml', 'volumes/frus1897.xml', 'volumes/frus1922v02.xml', 'volumes/frus1911.xml', 'volumes/frus1919Parisv05.xml', 'volumes/frus1864p3.xml', 'volumes/frus1903.xml', 'volumes/frus1870.xml', 'volumes/frus1939v01.xml', 'volumes/frus1933v01.xml', 'volumes/frus1902app2.xml', 'volumes/frus1945v08.xml', 'volumes/frus1931v03.xml', 'volumes/frus1951v01.xml', 'volumes/frus1951v02.xml', 'volumes/frus1946v07.xml', 'volumes/frus1950v04.xml', 'volumes/frus1950v07.xml', 'volumes/frus1884.xml', 'volumes/frus1947v07.xml', 'volumes/frus1945v03.xml', 'volumes/frus1949v06.xml', 'volumes/frus1949v01.xml', 'volumes/frus1948v01p2.xml', 'volumes/frus1940v04.xml', 'volumes/frus1892.xml', 'volumes/frus1893.xml', 'volumes/frus1942v04.xml', 'volumes/frus1943v02.xml', 'volumes/frus1864p4.xml', 'volumes/frus1936v04.xml', 'volumes/frus1947v05.xml', 'volumes/frus1879.xml', 'volumes/frus1940v03.xml', 'volumes/frus1891.xml', 'volumes/frus1917Supp02v02.xml', 'volumes/frus1872p2v2.xml', 'volumes/frus1898.xml', 'volumes/frus1918.xml', 'volumes/frus1931v02.xml', 'volumes/frus1885.xml', 'volumes/frus1915.xml', 'volumes/frus1904.xml', 'volumes/frus1947v06.xml'}\n"
     ]
    }
   ],
   "source": [
    "print(f\"random 20 volumes without person annotations: {set(volume_list)-set(frontdiv_attrb_dict['persons'])}\")"
   ]
  },
  {
   "attachments": {},
   "cell_type": "markdown",
   "metadata": {},
   "source": [
    "### ++ TEI/text/body"
   ]
  },
  {
   "cell_type": "code",
   "execution_count": 160,
   "metadata": {},
   "outputs": [
    {
     "name": "stderr",
     "output_type": "stream",
     "text": [
      "100%|██████████| 543/543 [02:03<00:00,  4.40it/s]\n"
     ]
    }
   ],
   "source": [
    "# ref line 333\n",
    "bodydiv_attrb_dict = {}\n",
    "bodydiv_attrb_examples = []\n",
    "\n",
    "for volume in tqdm(volume_list):\n",
    "\n",
    "    tree = ET.parse(volume)\n",
    "    root = tree.getroot()\n",
    "\n",
    "    for div in root.findall('./dflt:text/dflt:body//dflt:div', ns):\n",
    "        for key in list(div.attrib.keys()):\n",
    "            if key not in bodydiv_attrb_dict:\n",
    "                bodydiv_attrb_dict[key]=[div.attrib[key]]\n",
    "                bodydiv_attrb_examples.append((div,volume))\n",
    "            else:\n",
    "                bodydiv_attrb_dict[key].append(div.attrib[key])"
   ]
  },
  {
   "attachments": {},
   "cell_type": "markdown",
   "metadata": {},
   "source": [
    "this is the most important part of any volume because it includes the free text itself. <br/>\n",
    "for @type, compilation, chapter, document, subchapter are expected. we have section and toc occuring in corpus unexpectedly. (first cell below) <br/>\n",
    "among all, what we need is @type=document because it is the most fundamental unit, which carries the document content and also thankfully unified across corpus."
   ]
  },
  {
   "cell_type": "code",
   "execution_count": 166,
   "metadata": {},
   "outputs": [
    {
     "data": {
      "text/plain": [
       "{'chapter', 'compilation', 'document', 'section', 'subchapter', 'toc'}"
      ]
     },
     "execution_count": 166,
     "metadata": {},
     "output_type": "execute_result"
    }
   ],
   "source": [
    "set(bodydiv_attrb_dict['type'])"
   ]
  },
  {
   "cell_type": "code",
   "execution_count": 169,
   "metadata": {},
   "outputs": [
    {
     "name": "stdout",
     "output_type": "stream",
     "text": [
      "{'map-or-chart', 'subsection', 'referral', 'table-of-contents', 'section', 'historical-document', 'editorial-note', 'index'}\n"
     ]
    }
   ],
   "source": [
    "print(set(bodydiv_attrb_dict['subtype']))"
   ]
  },
  {
   "cell_type": "code",
   "execution_count": 196,
   "metadata": {},
   "outputs": [
    {
     "name": "stderr",
     "output_type": "stream",
     "text": [
      "100%|██████████| 543/543 [02:15<00:00,  4.02it/s]\n"
     ]
    }
   ],
   "source": [
    "subtype_list = []\n",
    "\n",
    "for volume in tqdm(volume_list):\n",
    "\n",
    "    tree = ET.parse(volume)\n",
    "    root = tree.getroot()\n",
    "\n",
    "    for div in root.findall('./dflt:text/dflt:body//dflt:div[@type=\"document\"]', ns):\n",
    "        \n",
    "        try:\n",
    "            subtype = div.attrib['subtype']\n",
    "        except:\n",
    "            subtype = None\n",
    "\n",
    "        subtype_list.append(subtype)"
   ]
  },
  {
   "cell_type": "code",
   "execution_count": 197,
   "metadata": {},
   "outputs": [
    {
     "data": {
      "text/plain": [
       "Counter({'historical-document': 301760,\n",
       "         'editorial-note': 8329,\n",
       "         None: 48,\n",
       "         'index': 6})"
      ]
     },
     "execution_count": 197,
     "metadata": {},
     "output_type": "execute_result"
    }
   ],
   "source": [
    "Counter(subtype_list)"
   ]
  },
  {
   "cell_type": "code",
   "execution_count": 3,
   "metadata": {},
   "outputs": [
    {
     "name": "stderr",
     "output_type": "stream",
     "text": [
      "100%|██████████| 543/543 [01:21<00:00,  6.66it/s]\n"
     ]
    }
   ],
   "source": [
    "# document level (text/body/div type='document') tag variety\n",
    "\n",
    "tag_dict = {}\n",
    "tag_examples = []\n",
    "\n",
    "for volume in tqdm(volume_list):\n",
    "\n",
    "    tree = ET.parse(volume)\n",
    "    root = tree.getroot()\n",
    "\n",
    "    for temp_tag in root.findall('./dflt:text/dflt:body//dflt:div[@type=\"document\"]//', ns):\n",
    "        if temp_tag.tag not in tag_dict:\n",
    "            tag_dict[temp_tag.tag]=1\n",
    "            tag_examples.append((temp_tag,volume))\n",
    "        else:\n",
    "            tag_dict[temp_tag.tag] += 1"
   ]
  },
  {
   "cell_type": "code",
   "execution_count": 4,
   "metadata": {},
   "outputs": [
    {
     "name": "stdout",
     "output_type": "stream",
     "text": [
      "document level tags and counts in FRUS\n",
      "'tag' : count -> {'{http://www.tei-c.org/ns/1.0}head': 402718, '{http://www.tei-c.org/ns/1.0}persName': 2075374, '{http://www.tei-c.org/ns/1.0}note': 757195, '{http://www.tei-c.org/ns/1.0}opener': 382059, '{http://www.tei-c.org/ns/1.0}dateline': 338173, '{http://www.tei-c.org/ns/1.0}placeName': 326859, '{http://www.tei-c.org/ns/1.0}date': 338149, '{http://www.tei-c.org/ns/1.0}list': 179636, '{http://www.tei-c.org/ns/1.0}item': 688636, '{http://www.tei-c.org/ns/1.0}p': 2783482, '{http://www.tei-c.org/ns/1.0}gloss': 1458648, '{http://www.tei-c.org/ns/1.0}pb': 429224, '{http://www.tei-c.org/ns/1.0}hi': 2301115, '{http://www.tei-c.org/ns/1.0}ref': 179084, '{http://www.tei-c.org/ns/1.0}quote': 52491, '{http://www.tei-c.org/ns/1.0}closer': 277079, '{http://www.tei-c.org/ns/1.0}signed': 273984, '{http://www.tei-c.org/ns/1.0}salute': 1246, '{http://www.tei-c.org/ns/1.0}seg': 178294, '{http://www.tei-c.org/ns/1.0}idno': 614, '{http://www.tei-c.org/ns/1.0}table': 14447, '{http://www.tei-c.org/ns/1.0}row': 128311, '{http://www.tei-c.org/ns/1.0}cell': 454095, '{http://history.state.gov/frus/ns/1.0}attachment': 48605, '{http://www.tei-c.org/ns/1.0}lb': 203185, '{http://www.tei-c.org/ns/1.0}affiliation': 464, '{http://www.tei-c.org/ns/1.0}postscript': 21650, '{http://www.tei-c.org/ns/1.0}label': 426222, '{http://www.tei-c.org/ns/1.0}del': 10680, '{http://www.tei-c.org/ns/1.0}unclear': 45, '{http://www.tei-c.org/ns/1.0}figure': 389, '{http://www.tei-c.org/ns/1.0}graphic': 367, '{http://www.tei-c.org/ns/1.0}lg': 90, '{http://www.tei-c.org/ns/1.0}l': 524, '{http://www.tei-c.org/ns/1.0}title': 7, '{http://www.tei-c.org/ns/1.0}cit': 7, '{http://www.tei-c.org/ns/1.0}bibl': 7, '{http://www.tei-c.org/ns/1.0}figDesc': 2, '{http://www.tei-c.org/ns/1.0}gap': 224, '{http://www.tei-c.org/ns/1.0}div': 4, '{http://www.tei-c.org/ns/1.0}term': 7, '{http://www.tei-c.org/ns/1.0}space': 1}\n"
     ]
    }
   ],
   "source": [
    "print(f\"document level tags and counts in FRUS\\n'tag' : count -> {tag_dict}\")"
   ]
  },
  {
   "attachments": {},
   "cell_type": "markdown",
   "metadata": {},
   "source": [
    "The above listing shows the tag variaties occuring in document level. Some of these are important for providing ready-to-use info for KG, and some is important for keeping the free text. I investigated all 42 of the above tags to see if we miss anything when ignoring a particular tag. <br/>\n",
    "\n",
    "+important <br/>\n",
    "list, p -> holds free text <br/>\n",
    "head -> title of the document, chapter or compilation <br/>\n",
    "persName, gloss -> see below section <br/>\n",
    "placeName <br/>\n",
    "signed -> signed person's name <br/>\n",
    "\n",
    "+consider again in the future <br/>\n",
    "note -> footnotes <br/>\n",
    "ref -> cross ref to other docs <br/>\n",
    "table, row, cell -> represents table occuring in free text, needs special treatment <br/>\n",
    "attachment <br/>\n",
    "\n",
    "+ok to ignore <br/>\n",
    "about page layout, and style: dateline, pb, hi, seg, idno, lb <br/>\n",
    "opener -> date and place can be extracted w/o it <br/>\n",
    "date -> can already be extracted from div tag attribute <br/>\n",
    "label, item -> each bullet and its content in list tag respectively, no need in free text <br/>\n",
    "quote, salute, affiliation, postscript -> extract text if present w/o looking tag type <br/>\n",
    "closer -> holds signed tag <br/>\n",
    "any tag including and after del tag above -> no significance, sporading annotations <br/>\n",
    "\n",
    "\n"
   ]
  },
  {
   "cell_type": "code",
   "execution_count": 5,
   "metadata": {},
   "outputs": [
    {
     "name": "stderr",
     "output_type": "stream",
     "text": [
      "100%|██████████| 543/543 [01:17<00:00,  6.97it/s]"
     ]
    },
    {
     "name": "stdout",
     "output_type": "stream",
     "text": [
      "document level tags and counts in FRUS\n",
      "'tag' : count -> {'{http://www.tei-c.org/ns/1.0}head': 310136, '{http://www.tei-c.org/ns/1.0}opener': 320488, '{http://www.tei-c.org/ns/1.0}list': 77616, '{http://www.tei-c.org/ns/1.0}p': 2138712, '{http://www.tei-c.org/ns/1.0}pb': 104430, '{http://www.tei-c.org/ns/1.0}quote': 9375, '{http://www.tei-c.org/ns/1.0}closer': 242592, '{http://www.tei-c.org/ns/1.0}table': 6981, '{http://history.state.gov/frus/ns/1.0}attachment': 46106, '{http://www.tei-c.org/ns/1.0}postscript': 13489, '{http://www.tei-c.org/ns/1.0}dateline': 14834, '{http://www.tei-c.org/ns/1.0}note': 190783, '{http://www.tei-c.org/ns/1.0}figure': 206, '{http://www.tei-c.org/ns/1.0}lb': 32, '{http://www.tei-c.org/ns/1.0}lg': 63, '{http://www.tei-c.org/ns/1.0}gap': 119, '{http://www.tei-c.org/ns/1.0}cit': 3, '{http://www.tei-c.org/ns/1.0}div': 4, '{http://www.tei-c.org/ns/1.0}label': 4, '{http://www.tei-c.org/ns/1.0}salute': 5, '{http://www.tei-c.org/ns/1.0}signed': 2}\n"
     ]
    },
    {
     "name": "stderr",
     "output_type": "stream",
     "text": [
      "\n"
     ]
    }
   ],
   "source": [
    "# document level (text/body/div type='document') only one child below\n",
    "\n",
    "tag_dict = {}\n",
    "tag_examples = []\n",
    "\n",
    "for volume in tqdm(volume_list):\n",
    "\n",
    "    tree = ET.parse(volume)\n",
    "    root = tree.getroot()\n",
    "\n",
    "    for temp_tag in root.findall('./dflt:text/dflt:body//dflt:div[@type=\"document\"]/*', ns):\n",
    "        if temp_tag.tag not in tag_dict:\n",
    "            tag_dict[temp_tag.tag]=1\n",
    "            tag_examples.append((temp_tag,volume))\n",
    "        else:\n",
    "            tag_dict[temp_tag.tag] += 1\n",
    "\n",
    "print(f\"document level tags and counts in FRUS\\n'tag' : count -> {tag_dict}\")"
   ]
  },
  {
   "cell_type": "code",
   "execution_count": 6,
   "metadata": {},
   "outputs": [
    {
     "name": "stderr",
     "output_type": "stream",
     "text": [
      "100%|██████████| 543/543 [01:16<00:00,  7.11it/s]"
     ]
    },
    {
     "name": "stdout",
     "output_type": "stream",
     "text": [
      "'tag' : count -> {'{http://www.tei-c.org/ns/1.0}persName': 210387, '{http://www.tei-c.org/ns/1.0}note': 101760, '{http://www.tei-c.org/ns/1.0}gloss': 36339, '{http://www.tei-c.org/ns/1.0}hi': 322968, '{http://www.tei-c.org/ns/1.0}seg': 239, '{http://www.tei-c.org/ns/1.0}lb': 17567, '{http://www.tei-c.org/ns/1.0}date': 1}\n"
     ]
    },
    {
     "name": "stderr",
     "output_type": "stream",
     "text": [
      "\n"
     ]
    }
   ],
   "source": [
    "# each document's head tag's child tag varieties (text/body/div type='document'/head)\n",
    "\n",
    "tag_dict = {}\n",
    "tag_examples = []\n",
    "\n",
    "for volume in tqdm(volume_list):\n",
    "\n",
    "    tree = ET.parse(volume)\n",
    "    root = tree.getroot()\n",
    "\n",
    "    for temp_tag in root.findall('./dflt:text/dflt:body//dflt:div[@type=\"document\"]/dflt:head/*', ns):\n",
    "        if temp_tag.tag not in tag_dict:\n",
    "            tag_dict[temp_tag.tag]=1\n",
    "            tag_examples.append((temp_tag,volume))\n",
    "        else:\n",
    "            tag_dict[temp_tag.tag] += 1\n",
    "\n",
    "print(f\"'tag' : count -> {tag_dict}\")"
   ]
  },
  {
   "cell_type": "code",
   "execution_count": 218,
   "metadata": {},
   "outputs": [],
   "source": [
    "# use below to extract free text from given Element\n",
    "#\" \".join(ET.tostring(root, method='text').decode(\"utf-8\").split())"
   ]
  },
  {
   "attachments": {},
   "cell_type": "markdown",
   "metadata": {},
   "source": [
    "### + important tags"
   ]
  },
  {
   "cell_type": "code",
   "execution_count": 4,
   "metadata": {},
   "outputs": [
    {
     "name": "stderr",
     "output_type": "stream",
     "text": [
      "100%|██████████| 543/543 [01:18<00:00,  6.91it/s]"
     ]
    },
    {
     "name": "stdout",
     "output_type": "stream",
     "text": [
      "<persName> attributes and counts in FRUS\n",
      "'attrb' : count -> {'corresp': 1808037, '{http://www.w3.org/XML/1998/namespace}id': 60824, 'type': 299665}\n",
      "\n",
      "Examples for each attribute type\n",
      "attribute: {'corresp': '#p_KJF_1'}, text: John F. Kennedy\n",
      "attribute: {'{http://www.w3.org/XML/1998/namespace}id': 'p_AJT_1'}, text: Abernethy, John\n",
      "                                        T.\n",
      "attribute: {'type': 'from'}, text: Beaupré\n"
     ]
    },
    {
     "name": "stderr",
     "output_type": "stream",
     "text": [
      "\n"
     ]
    }
   ],
   "source": [
    "# <persName>'s attribute variety\n",
    "\n",
    "persName_attrb_dict = {}\n",
    "persName_attrb_examples = []\n",
    "\n",
    "for volume in tqdm(volume_list):\n",
    "\n",
    "    tree = ET.parse(volume)\n",
    "    root = tree.getroot()\n",
    "\n",
    "    for pers in root.findall('.//dflt:persName', ns):\n",
    "        for key in list(pers.attrib.keys()):\n",
    "            if key not in persName_attrb_dict:\n",
    "                persName_attrb_dict[key]=1\n",
    "                persName_attrb_examples.append(pers)\n",
    "            else:\n",
    "                persName_attrb_dict[key] += 1\n",
    "\n",
    "print(f\"<persName> attributes and counts in FRUS\\n'attrb' : count -> {persName_attrb_dict}\\n\\nExamples for each attribute type\")\n",
    "for ex in persName_attrb_examples:\n",
    "    print(f'attribute: {ex.attrib}, text: {ex.text}')"
   ]
  },
  {
   "attachments": {},
   "cell_type": "markdown",
   "metadata": {},
   "source": [
    "persName is important for detecting persons across document using @corresp and matching it with front/persons. <br/>\n",
    "in addition @type= from or to is for extracting receiver and sender. This type of information is also present in list tag's @from, @to or @participants as well as in signed tag."
   ]
  },
  {
   "cell_type": "code",
   "execution_count": 5,
   "metadata": {},
   "outputs": [
    {
     "name": "stderr",
     "output_type": "stream",
     "text": [
      "100%|██████████| 543/543 [01:16<00:00,  7.09it/s]"
     ]
    },
    {
     "name": "stdout",
     "output_type": "stream",
     "text": [
      "<gloss> attributes and counts in FRUS\n",
      "'attrb' : count -> {'target': 1287394, 'type': 220148, 'corresp': 151, 'rend': 2}\n",
      "\n",
      "Examples for each attribute type\n",
      "attribute: {'target': '#t_PL_1'}, text: P.L.\n",
      "attribute: {'type': 'from'}, text: Secretary of State\n",
      "attribute: {'corresp': '#t_NODIS_1'}, text: Nodis\n",
      "attribute: {'rend': 'superscript'}, text: 3\n"
     ]
    },
    {
     "name": "stderr",
     "output_type": "stream",
     "text": [
      "\n"
     ]
    }
   ],
   "source": [
    "# <gloss>'s attribute variety\n",
    "\n",
    "gloss_attrb_dict = {}\n",
    "gloss_attrb_examples = []\n",
    "\n",
    "for volume in tqdm(volume_list):\n",
    "\n",
    "    tree = ET.parse(volume)\n",
    "    root = tree.getroot()\n",
    "\n",
    "    for gloss in root.findall('.//dflt:gloss', ns):\n",
    "        for key in list(gloss.attrib.keys()):\n",
    "            if key not in gloss_attrb_dict:\n",
    "                gloss_attrb_dict[key]=1\n",
    "                gloss_attrb_examples.append(gloss)\n",
    "            else:\n",
    "                gloss_attrb_dict[key] += 1\n",
    "\n",
    "print(f\"<gloss> attributes and counts in FRUS\\n'attrb' : count -> {gloss_attrb_dict}\\n\\nExamples for each attribute type\")\n",
    "for ex in gloss_attrb_examples:\n",
    "    print(f'attribute: {ex.attrib}, text: {ex.text}')"
   ]
  },
  {
   "attachments": {},
   "cell_type": "markdown",
   "metadata": {},
   "source": [
    "gloss tag is important for extracting 'instution' names, using @target and matching the id from front/terms and abbrv."
   ]
  }
 ],
 "metadata": {
  "kernelspec": {
   "display_name": "ml4hc_project2",
   "language": "python",
   "name": "python3"
  },
  "language_info": {
   "codemirror_mode": {
    "name": "ipython",
    "version": 3
   },
   "file_extension": ".py",
   "mimetype": "text/x-python",
   "name": "python",
   "nbconvert_exporter": "python",
   "pygments_lexer": "ipython3",
   "version": "3.8.8"
  },
  "orig_nbformat": 4,
  "vscode": {
   "interpreter": {
    "hash": "17915d4eccf26051373144ab496c4cfde1d85bab0b3b06c6ac905c8927260055"
   }
  }
 },
 "nbformat": 4,
 "nbformat_minor": 2
}
