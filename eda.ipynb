{
 "cells": [
  {
   "cell_type": "code",
   "execution_count": 1,
   "metadata": {},
   "outputs": [],
   "source": [
    "import re\n",
    "from datetime import datetime\n",
    "import xml.etree.ElementTree as ET"
   ]
  },
  {
   "cell_type": "code",
   "execution_count": 18,
   "metadata": {},
   "outputs": [],
   "source": [
    "tree = ET.parse('frus1969-76v30.xml')\n",
    "root = tree.getroot()"
   ]
  },
  {
   "cell_type": "code",
   "execution_count": null,
   "metadata": {},
   "outputs": [],
   "source": [
    "# remove namespace\n",
    "# year: frus:doc-dateTime-max\n",
    "# sent from: <placeName>New York</placeName>\n",
    "# volume from file name\n",
    "# from: <gloss type=\"from\"> or <persName type=\"from\">\n",
    "# to: <gloss type=\"to\"> or <persName type=\"to\">\n",
    "# source: <... type=\"source\" ..>\n",
    "\n",
    "# ignore all <note/>"
   ]
  },
  {
   "cell_type": "code",
   "execution_count": 3,
   "metadata": {},
   "outputs": [],
   "source": [
    "person_item_list = root.findall(\"text/front/div/[@{http://www.w3.org/XML/1998/namespace}id='persons']\")[0].findall('.//item')\n",
    "person_dict = {}\n",
    "\n",
    "def extract_person(person_item):\n",
    "    persName_item = person_item.find('.//persName')\n",
    "    person_name = persName_item.text\n",
    "    person_id = persName_item.attrib['{http://www.w3.org/XML/1998/namespace}id']\n",
    "\n",
    "    all_text = \"\".join(person_item.itertext())\n",
    "    end_idx = all_text.find(person_name) + len(person_name+',')\n",
    "    person_descp = \" \".join(all_text[end_idx:].split())\n",
    "\n",
    "    person_name = \" \".join(re.sub(',','',\" \".join(person_name.split(', ')[::-1])).split())\n",
    "\n",
    "    person_dict[person_id] = {'name':person_name, 'descp':person_descp}\n",
    "    return\n",
    "\n",
    "for item in root.findall(\"text/front/div/[@{http://www.w3.org/XML/1998/namespace}id='persons']\")[0].findall('.//item'):\n",
    "    extract_person(item)"
   ]
  },
  {
   "cell_type": "markdown",
   "metadata": {},
   "source": [
    "## done above ^\n",
    "## construction below "
   ]
  },
  {
   "cell_type": "code",
   "execution_count": 19,
   "metadata": {},
   "outputs": [],
   "source": [
    "# this function handles file's sender and receiver\n",
    "def process_from_to_types(from_list):\n",
    "\n",
    "    processed_list = []\n",
    "\n",
    "    for item in from_list:\n",
    "        \n",
    "        if item.tag == 'persName' and 'corresp' in item.attrib.keys():\n",
    "            person_id = item.attrib['corresp']\n",
    "            processed_list.append(person_id)\n",
    "        elif item.tag == 'persName':\n",
    "            processed_list.append(item.text)\n",
    "        elif item.tag == 'gloss':\n",
    "            processed_list.append(item.text)\n",
    "        else:\n",
    "            raise NotImplementedError('from type tag unidentified')\n",
    "    \n",
    "    return processed_list"
   ]
  },
  {
   "cell_type": "code",
   "execution_count": 20,
   "metadata": {},
   "outputs": [],
   "source": [
    "subseries_id = root.find('teiHeader/fileDesc/titleStmt/title[@type=\"sub-series\"]').text\n",
    "volume_id = root.find('teiHeader/fileDesc/titleStmt/title[@type=\"volume-number\"]').text\n",
    "\n",
    "doc_dict = {}\n",
    "\n",
    "def process_document(doc_elem):\n",
    "\n",
    "    doc_id = doc_elem.attrib['{http://www.w3.org/XML/1998/namespace}id']\n",
    "    doc_date = doc_elem.attrib[\"{http://history.state.gov/frus/ns/1.0}doc-dateTime-max\"].split('T')[0]\n",
    "    doc_date = datetime.strptime(doc_date, '%Y-%m-%d')\n",
    "\n",
    "    doc_sent_place = doc_elem.find('.//placeName')\n",
    "    if doc_sent_place is not None:\n",
    "        doc_sent_place = doc_sent_place.text\n",
    "\n",
    "    from_list = doc_elem.findall('head//*[@type=\"from\"]')\n",
    "    to_list = doc_elem.findall('head//*[@type=\"to\"]')\n",
    "\n",
    "    doc_sent_from = process_from_to_types(from_list)\n",
    "    doc_sent_to = process_from_to_types(to_list)\n",
    "\n",
    "    doc_source = doc_elem.find('.//*[@type=\"source\"]')\n",
    "    if doc_source is not None:\n",
    "        doc_source = \" \".join(\"\".join(doc_source.itertext()).split())\n",
    "\n",
    "    doc_dict[\"-\".join([subseries_id,volume_id,doc_id])] = {'subseries':subseries_id, 'volume':volume_id, 'doc_id':doc_id,'date':doc_date, 'place':doc_sent_place, 'from':doc_sent_from, 'to':doc_sent_to, 'source':doc_source}\n",
    "\n",
    "    return\n",
    "\n",
    "for doc_elem in root.findall('text/body/div//div[@type=\"document\"]'):\n",
    "    process_document(doc_elem)"
   ]
  },
  {
   "cell_type": "code",
   "execution_count": 25,
   "metadata": {},
   "outputs": [],
   "source": [
    "place = []\n",
    "\n",
    "for k,v in doc_dict.items():\n",
    "    place+=(v['to'])"
   ]
  },
  {
   "cell_type": "code",
   "execution_count": 26,
   "metadata": {},
   "outputs": [
    {
     "data": {
      "text/plain": [
       "Counter({'#p_NRM1': 2,\n",
       "         'the Department of State': 35,\n",
       "         '#p_SJR1': 2,\n",
       "         '#p_KHA1': 25,\n",
       "         'the Department of\\n                                State': 1,\n",
       "         'the Mission to the North Atlantic Treaty\\n                                Organization': 1,\n",
       "         'the Departments of\\n                                State and Defense': 2,\n",
       "         'Department of State': 5,\n",
       "         '#p_SB3': 9,\n",
       "         '#p_FGR1': 18,\n",
       "         'the Mission to the North Atlantic Treaty\\n                                Organization and the Embassy in Greece': 2,\n",
       "         'the Embassy in Greece': 2,\n",
       "         'the Embassies in Greece and Cyprus': 1,\n",
       "         '#p_DAF1': 2,\n",
       "         '#p_WK5': 1,\n",
       "         '#p_CLJ1': 3,\n",
       "         'Secretary of Defense Schlesinger': 1,\n",
       "         'Large McCloskey': 1,\n",
       "         '#p_CWE1': 1,\n",
       "         '#p_IRS1': 2,\n",
       "         '#p_BWB1': 1,\n",
       "         '#p_EB1': 3,\n",
       "         '#p_HBMJ1': 2,\n",
       "         '#p_CKC1': 1,\n",
       "         'the Embassy in Turkey': 1,\n",
       "         '#p_CG3': 1,\n",
       "         'the Embassy in Cyprus': 2,\n",
       "         '#p_EM2': 1,\n",
       "         'Embassy in Cyprus': 3,\n",
       "         '#p_SJJ1': 1})"
      ]
     },
     "execution_count": 26,
     "metadata": {},
     "output_type": "execute_result"
    }
   ],
   "source": [
    "from collections import Counter\n",
    "\n",
    "Counter(place)"
   ]
  }
 ],
 "metadata": {
  "kernelspec": {
   "display_name": "Python 3.8.8 64-bit",
   "language": "python",
   "name": "python3"
  },
  "language_info": {
   "codemirror_mode": {
    "name": "ipython",
    "version": 3
   },
   "file_extension": ".py",
   "mimetype": "text/x-python",
   "name": "python",
   "nbconvert_exporter": "python",
   "pygments_lexer": "ipython3",
   "version": "3.8.8"
  },
  "orig_nbformat": 4,
  "vscode": {
   "interpreter": {
    "hash": "aee8b7b246df8f9039afb4144a1f6fd8d2ca17a180786b69acc140d282b71a49"
   }
  }
 },
 "nbformat": 4,
 "nbformat_minor": 2
}
